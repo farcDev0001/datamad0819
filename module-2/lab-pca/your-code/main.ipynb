{
 "cells": [
  {
   "cell_type": "markdown",
   "metadata": {},
   "source": [
    "# Before your start:\n",
    "- Read the README.md file\n",
    "- Comment as much as you can and use the resources (README.md file)\n",
    "- Happy learning!"
   ]
  },
  {
   "cell_type": "code",
   "execution_count": 1,
   "metadata": {},
   "outputs": [],
   "source": [
    "# Run this code:\n",
    "\n",
    "%matplotlib inline\n",
    "\n",
    "import matplotlib.pyplot as plt"
   ]
  },
  {
   "cell_type": "code",
   "execution_count": 2,
   "metadata": {},
   "outputs": [],
   "source": [
    "# Import numpy and pandas:\n",
    "import numpy as np\n",
    "import pandas as pd\n"
   ]
  },
  {
   "cell_type": "markdown",
   "metadata": {},
   "source": [
    "# Challenge 1 - Reading and Standardizing the Data\n",
    "\n",
    "In this challenge we will work with image data and reduce the dimensions of the data to create a 2 dimensional plot. While we have not worked much with image data before, it can be represented as a numpy array where each pixel is assigned a numeric value. In this lesson, we will look at a dataset of cats and a dataset of dogs and see whether reducing them to two dimensions allows us to see if the data is separable. We will start by loading and processing the data. Run the cell below to load the two csv files and convert them into numpy arrays."
   ]
  },
  {
   "cell_type": "code",
   "execution_count": 3,
   "metadata": {},
   "outputs": [],
   "source": [
    "# Run this code\n",
    "\n",
    "cats = np.array(pd.read_csv(\"https://raw.githubusercontent.com/bioramble/pca/master/cat.csv\", header=None))\n",
    "dogs = np.array(pd.read_csv(\"https://raw.githubusercontent.com/bioramble/pca/master/dog.csv\", header=None))"
   ]
  },
  {
   "cell_type": "markdown",
   "metadata": {},
   "source": [
    "Next, we'll examine the shape of both the cats and the dogs arrays. Print out both shapes below."
   ]
  },
  {
   "cell_type": "code",
   "execution_count": 4,
   "metadata": {},
   "outputs": [
    {
     "name": "stdout",
     "output_type": "stream",
     "text": [
      "(4096, 80) (4096, 80)\n"
     ]
    }
   ],
   "source": [
    "# Your code here:\n",
    "print(cats.shape,dogs.shape)\n"
   ]
  },
  {
   "cell_type": "markdown",
   "metadata": {},
   "source": [
    "What this means is that both arrays contain 80 images each (the number of columns). Each image is comprised of 64x64 pixels (so a total of 4096 pixels per image). The images have been flattened such that all 4096 are in a single row.\n",
    "\n",
    "Print out column 0 of the cats array to see what the pixels values look like."
   ]
  },
  {
   "cell_type": "code",
   "execution_count": 5,
   "metadata": {},
   "outputs": [
    {
     "name": "stdout",
     "output_type": "stream",
     "text": [
      "[ 64  23 250 137  55 173  18 134  19  47 109 164  41  78 108 108 247 105\n",
      " 158  54 103   4  23 102 239  72  42  21 168 109 112 177  22 233  15 236\n",
      " 250 137  32   5 178 109  24 107  53 241 226 143   5 136  98 100  89  66\n",
      " 228  92 255  88 230  56 160  69   6  24 195 183 239  35 154 154 122  18\n",
      "  87 106 174  69  28  60 223 101]\n"
     ]
    }
   ],
   "source": [
    "# Your code here:\n",
    "print(cats[0])\n"
   ]
  },
  {
   "cell_type": "markdown",
   "metadata": {},
   "source": [
    "Using `matplotlib` we can plot a single cat or a single dog. We do this by reshaping the vector back to a 64x64 image and then using the `imshow` function.\n",
    "\n",
    "Run the code below to look at the first dog and the first cat."
   ]
  },
  {
   "cell_type": "code",
   "execution_count": 6,
   "metadata": {},
   "outputs": [
    {
     "data": {
      "text/plain": [
       "<matplotlib.image.AxesImage at 0x7fe76f507320>"
      ]
     },
     "execution_count": 6,
     "metadata": {},
     "output_type": "execute_result"
    },
    {
     "data": {
      "image/png": "[encoded data removed]",
      "text/plain": [
       "<Figure size 432x288 with 1 Axes>"
      ]
     },
     "metadata": {
      "needs_background": "light"
     },
     "output_type": "display_data"
    }
   ],
   "source": [
    "# Run this code:\n",
    "\n",
    "fig, ax = plt.subplots()\n",
    "ax.imshow(cats[:,0].reshape(64, 64).T, cmap=plt.cm.bone, interpolation='nearest') "
   ]
  },
  {
   "cell_type": "code",
   "execution_count": 7,
   "metadata": {},
   "outputs": [
    {
     "data": {
      "text/plain": [
       "<matplotlib.image.AxesImage at 0x7fe76ec489b0>"
      ]
     },
     "execution_count": 7,
     "metadata": {},
     "output_type": "execute_result"
    },
    {
     "data": {
      "image/png": "[encoded data removed]",
      "text/plain": [
       "<Figure size 432x288 with 1 Axes>"
      ]
     },
     "metadata": {
      "needs_background": "light"
     },
     "output_type": "display_data"
    }
   ],
   "source": [
    "# Run this code:\n",
    "\n",
    "fig, ax = plt.subplots()\n",
    "ax.imshow(dogs[:,0].reshape(64, 64).T, cmap=plt.cm.bone, interpolation='nearest') "
   ]
  },
  {
   "cell_type": "markdown",
   "metadata": {},
   "source": [
    "Next, we would like to create a standardization function. This function will find the mean and standard deviation of each image. We subtract the mean from each pixel and divide each pixel by the standard deviation. Write the function below.\n",
    "\n",
    "Hint: To find the mean and standard deviation of each image, use `numpy`'s version of mean and stadnard deviation and use `axis=0`."
   ]
  },
  {
   "cell_type": "code",
   "execution_count": 8,
   "metadata": {},
   "outputs": [],
   "source": [
    "def standardize(x):\n",
    "    #This function takes as input a numpy array and returns a stadardized numpy array of the same dimensions.\n",
    "    #Sample input: np.array([[1,2,3],[4,5,6]])\n",
    "    #Sample output: np.array([[-1,-1,-1],[1,1,1]])\n",
    "    array=[]\n",
    "    # Your code here:\n",
    "    desviacion = np.std(x, axis=0)\n",
    "    media = np.mean(x, axis=0)\n",
    "    return (x-media)/desviacion"
   ]
  },
  {
   "cell_type": "code",
   "execution_count": 9,
   "metadata": {},
   "outputs": [
    {
     "data": {
      "text/plain": [
       "array([[-1., -1., -1.],\n",
       "       [ 1.,  1.,  1.]])"
      ]
     },
     "execution_count": 9,
     "metadata": {},
     "output_type": "execute_result"
    }
   ],
   "source": [
    "standardize([[1,2,3],[4,5,6]])"
   ]
  },
  {
   "cell_type": "markdown",
   "metadata": {},
   "source": [
    "Now, use the `np.concatenate` function to combine the cats and dogs arrays. Use `axis=1` to combine the two correctly. Make sure to put dogs first."
   ]
  },
  {
   "cell_type": "code",
   "execution_count": 10,
   "metadata": {},
   "outputs": [
    {
     "data": {
      "text/plain": [
       "(4096, 160)"
      ]
     },
     "execution_count": 10,
     "metadata": {},
     "output_type": "execute_result"
    }
   ],
   "source": [
    "np.concatenate((dogs,cats),axis=1).shape"
   ]
  },
  {
   "cell_type": "markdown",
   "metadata": {},
   "source": [
    "Standardize the concatenated array below."
   ]
  },
  {
   "cell_type": "code",
   "execution_count": 11,
   "metadata": {},
   "outputs": [],
   "source": [
    "# Your code here:\n",
    "\n",
    "combineStand= standardize(np.concatenate((dogs,cats),axis=1))"
   ]
  },
  {
   "cell_type": "markdown",
   "metadata": {},
   "source": [
    "# Challenge 2 - Using PCA\n",
    "\n",
    "Now that we have created a standardized matrix of cats and dogs, we'll find the two most important components in the data.\n",
    "\n",
    "Load the `PCA` function from `statsmodels` (read about this function [here](https://www.statsmodels.org/dev/generated/statsmodels.multivariate.pca.PCA.html)) and apply the function to our standarized data. Create a PCA model with two components."
   ]
  },
  {
   "cell_type": "code",
   "execution_count": 12,
   "metadata": {},
   "outputs": [
    {
     "data": {
      "text/plain": [
       "PCA(copy=True, iterated_power='auto', n_components=2, random_state=None,\n",
       "    svd_solver='auto', tol=0.0, whiten=False)"
      ]
     },
     "execution_count": 12,
     "metadata": {},
     "output_type": "execute_result"
    }
   ],
   "source": [
    "# Your code here:\n",
    "from sklearn.decomposition import PCA\n",
    "pca = PCA(n_components=2)\n",
    "pca.fit(combineStand.T)\n",
    "\n"
   ]
  },
  {
   "cell_type": "markdown",
   "metadata": {},
   "source": [
    "Use `numpy` to find to transpose the standardized pet array. This will help us compute the projection."
   ]
  },
  {
   "cell_type": "code",
   "execution_count": 13,
   "metadata": {},
   "outputs": [],
   "source": [
    "# Your code here:\n",
    "\n",
    "transformed = pca.transform(combineStand.T)"
   ]
  },
  {
   "cell_type": "markdown",
   "metadata": {},
   "source": [
    "Find the dot product of the transposed standardized pet matrix and the `factors` of the `PCA` model found above. This will be the projection onto 2 dimensions. This means that each cat and dog image will now only have two columns instead of 4096."
   ]
  },
  {
   "cell_type": "code",
   "execution_count": 14,
   "metadata": {},
   "outputs": [
    {
     "data": {
      "text/plain": [
       "array([[-4.26696744e+01,  2.16785633e+01],\n",
       "       [-3.26224304e+01, -1.14422521e+01],\n",
       "       [ 1.25101875e+01, -8.95564362e+00],\n",
       "       [-5.58138534e+00, -2.65438317e+01],\n",
       "       [-3.31245292e+01,  1.05808853e+01],\n",
       "       [ 8.17262635e+00, -3.68299988e+01],\n",
       "       [-2.25383021e+01, -6.10812792e+00],\n",
       "       [-1.48809183e+01, -3.08330760e+01],\n",
       "       [-1.29642489e+01, -3.11849571e+01],\n",
       "       [-3.97424053e+01,  8.68921463e+00],\n",
       "       [-8.86447053e-01, -2.80582214e+01],\n",
       "       [-2.21809312e+01, -1.09133015e+01],\n",
       "       [-8.90354413e+00, -1.02099469e+01],\n",
       "       [ 2.69075741e+00, -1.32165884e+01],\n",
       "       [-1.97081888e+01, -2.33588098e+01],\n",
       "       [-1.80958719e+01, -2.64307798e+01],\n",
       "       [-1.63281127e+01, -3.80907931e+00],\n",
       "       [-3.94806130e+01, -1.33860626e+01],\n",
       "       [-1.89293237e+01, -1.97288427e+01],\n",
       "       [-1.61555285e+01, -3.74266348e+01],\n",
       "       [ 3.07088460e+00, -2.75607349e+01],\n",
       "       [-2.14570029e+00, -3.15650166e+01],\n",
       "       [-1.01886026e+01, -9.42489378e+00],\n",
       "       [-1.24438754e+01, -3.31371247e+01],\n",
       "       [-2.76523444e+01, -2.26784828e+01],\n",
       "       [-8.04952873e-01, -3.61563838e+01],\n",
       "       [ 3.21770791e+00, -2.10732697e+01],\n",
       "       [-1.33795546e+00, -1.58795321e+01],\n",
       "       [-1.42164320e+01, -3.98397890e+01],\n",
       "       [-1.01809200e+01, -1.64780902e+01],\n",
       "       [-5.34437522e+00, -2.05156997e+01],\n",
       "       [-7.92542692e+00, -1.66580414e+01],\n",
       "       [-3.06195871e+01, -2.15305193e+01],\n",
       "       [-1.37032961e+01, -2.94643641e+01],\n",
       "       [ 6.76929727e+00, -3.33205923e+01],\n",
       "       [-1.62822501e+01, -6.27787976e+00],\n",
       "       [ 1.36466507e+01, -3.01664271e+01],\n",
       "       [-1.92475346e+00, -2.37609249e+01],\n",
       "       [ 5.98715311e+00, -3.51289227e+01],\n",
       "       [-2.90685358e+01, -1.23950596e+01],\n",
       "       [-1.76181690e+01, -3.21906489e+01],\n",
       "       [-1.16963053e+01,  2.52270122e+01],\n",
       "       [ 9.62825844e+00, -2.93112529e+01],\n",
       "       [-1.56504909e+01, -2.05330666e+01],\n",
       "       [ 7.62312672e+00, -7.40706812e+00],\n",
       "       [-2.03031571e+01,  2.55199525e+01],\n",
       "       [-2.68518944e+01,  1.71187991e+01],\n",
       "       [-7.32763165e+00,  1.06077916e-02],\n",
       "       [-1.54205910e+01,  1.61115468e+01],\n",
       "       [ 1.60652793e+01, -3.09893576e+01],\n",
       "       [-2.95981480e+01,  1.31055798e+01],\n",
       "       [-3.67630511e+01,  3.31223552e+01],\n",
       "       [-6.29973476e+00,  2.11983646e+01],\n",
       "       [ 2.12723959e+01, -3.46399051e+01],\n",
       "       [ 2.11912517e+01,  5.06158670e+00],\n",
       "       [ 1.36505349e+01,  4.67772959e+00],\n",
       "       [-2.93819135e+01,  1.23752466e+01],\n",
       "       [-1.50150011e+01,  1.71419358e+01],\n",
       "       [ 1.62461969e+01, -2.29819207e+01],\n",
       "       [ 1.63390946e+00, -2.59647858e+01],\n",
       "       [-8.29573646e+00, -3.19161642e+01],\n",
       "       [-3.10634772e+01,  2.32312654e+01],\n",
       "       [-3.12800229e+01,  1.29744400e+01],\n",
       "       [ 2.26688169e+01,  9.70997431e+00],\n",
       "       [ 1.03320600e+01, -1.98979890e+00],\n",
       "       [-2.75742122e+01,  4.81108447e+00],\n",
       "       [-5.10875274e+00,  2.29598726e+01],\n",
       "       [ 3.18934023e+01, -6.47948513e+00],\n",
       "       [ 1.94286558e+00,  5.44113214e+00],\n",
       "       [-2.30779244e+01, -2.49463019e+01],\n",
       "       [ 1.02687445e+01, -6.51681440e+00],\n",
       "       [ 5.30818805e-01, -2.61302671e+01],\n",
       "       [-2.68385553e+01, -1.99874184e+01],\n",
       "       [ 2.06784167e+01, -1.99383791e+01],\n",
       "       [-1.04265677e+01,  3.27375682e+01],\n",
       "       [-4.01301064e+01,  1.33311394e+01],\n",
       "       [-3.34862332e+01, -6.25523752e+00],\n",
       "       [ 7.75795097e+00, -2.74343492e+01],\n",
       "       [ 2.87272940e+00, -2.79379362e+01],\n",
       "       [-3.92563497e+01,  8.47453675e+00],\n",
       "       [ 1.53546058e+01,  2.57217710e+01],\n",
       "       [ 4.94822777e+01,  3.87470614e+00],\n",
       "       [-4.84680926e+01,  1.25819170e+01],\n",
       "       [-4.12744950e+01,  4.22057242e+00],\n",
       "       [ 2.99451896e+01,  2.71408694e+01],\n",
       "       [ 2.07730374e+01,  4.05526119e+01],\n",
       "       [ 4.11025834e+01,  3.11506263e+00],\n",
       "       [ 5.04614577e+00,  2.34477827e+01],\n",
       "       [ 4.21170276e+01,  1.42163370e+01],\n",
       "       [ 2.08562364e+01,  2.36800502e+01],\n",
       "       [-2.93623330e-01,  9.26668726e+00],\n",
       "       [-6.04278175e+00,  1.19994362e+01],\n",
       "       [ 5.15794521e+01,  1.59614111e+01],\n",
       "       [ 3.00502654e+01,  2.13035826e+01],\n",
       "       [-2.91820048e+01,  2.48064071e+01],\n",
       "       [ 3.89466561e+01,  2.41856881e+01],\n",
       "       [-2.91575804e+01,  1.68559896e+01],\n",
       "       [ 3.30432935e+01,  1.60088775e+01],\n",
       "       [-4.31209580e+01,  5.83871809e+00],\n",
       "       [ 5.03100007e+01,  1.26526533e+01],\n",
       "       [-1.12712627e+01,  2.29267202e+01],\n",
       "       [ 3.52331421e+01,  4.51934101e+00],\n",
       "       [ 3.52024982e+01, -9.22611401e+00],\n",
       "       [ 3.35483055e+01, -2.63314049e+01],\n",
       "       [-5.18683551e+01,  1.39228416e+01],\n",
       "       [ 6.65973261e+00, -1.74209364e+01],\n",
       "       [ 3.47398666e+01,  2.61076479e+01],\n",
       "       [ 3.11687223e+01, -1.13442422e+01],\n",
       "       [-2.17262388e+01,  1.22528740e+01],\n",
       "       [ 2.06451680e+01,  1.81651174e+01],\n",
       "       [ 2.29174881e+00,  2.20143878e+01],\n",
       "       [-1.26541452e+01,  2.66959368e+01],\n",
       "       [ 1.83409295e+01,  3.67760589e+01],\n",
       "       [-5.31587664e+01,  1.85212047e+01],\n",
       "       [ 5.08795011e+01,  6.49513953e-01],\n",
       "       [ 7.25789097e+00, -6.98767103e+00],\n",
       "       [-5.08099085e+01,  6.20646466e+00],\n",
       "       [ 4.27554213e+01,  1.43313646e+01],\n",
       "       [ 2.06128568e+01, -1.79517011e+01],\n",
       "       [ 1.53720664e+01,  1.92430567e+01],\n",
       "       [ 7.15595833e+00,  2.59468617e+01],\n",
       "       [ 2.68979635e+01,  2.78211119e+01],\n",
       "       [ 5.41103632e+01, -9.86989678e+00],\n",
       "       [ 3.15663444e+01, -1.29840175e+01],\n",
       "       [ 5.14593124e+01, -1.40857512e+01],\n",
       "       [-3.36785773e+01,  2.28799197e+01],\n",
       "       [-3.44469562e+01,  5.10722509e+00],\n",
       "       [-2.88723354e+01,  1.40761930e+01],\n",
       "       [ 5.03984965e+01,  1.62580241e+00],\n",
       "       [-1.53670172e+00,  2.01230526e+01],\n",
       "       [ 2.47301968e+01,  2.36203522e+01],\n",
       "       [ 1.55623717e+01, -5.93004307e+00],\n",
       "       [ 4.58988163e+01,  2.49706544e+01],\n",
       "       [ 3.57330265e+01,  2.36705937e+01],\n",
       "       [-1.88265794e+01,  3.18880111e+01],\n",
       "       [ 3.86810564e+01,  2.65172090e+01],\n",
       "       [ 3.61048226e+01,  3.22415661e+01],\n",
       "       [ 1.91421445e+01, -1.97017471e+00],\n",
       "       [-3.30917089e+01,  3.53983979e+01],\n",
       "       [ 2.11838596e+01, -2.59329647e+01],\n",
       "       [ 1.48680439e+00,  3.16129590e+00],\n",
       "       [ 2.11602102e+01,  2.20194421e+01],\n",
       "       [ 3.92922319e+01,  1.64479410e+01],\n",
       "       [ 4.17062967e+01, -4.88221203e+00],\n",
       "       [-2.53612900e+01,  8.60738565e+00],\n",
       "       [ 6.89208490e+00,  2.36564841e+01],\n",
       "       [-5.12485003e+01,  1.40627911e+01],\n",
       "       [ 3.28843430e+00,  6.57198626e+00],\n",
       "       [-2.25407485e+01,  1.54431168e+01],\n",
       "       [-3.29442262e+01,  4.46112315e-01],\n",
       "       [-1.60076519e+01,  1.15333400e+01],\n",
       "       [ 3.46673784e+01, -6.29042559e+00],\n",
       "       [ 1.07951342e+01,  2.10758247e+01],\n",
       "       [-2.29251487e+00,  1.61144653e+00],\n",
       "       [-1.14040022e+01,  7.20971559e+00],\n",
       "       [ 2.64762252e+01, -1.25720386e+01],\n",
       "       [ 3.25325580e+01, -1.88492875e+01],\n",
       "       [ 4.53721845e+01, -9.14848226e+00],\n",
       "       [-1.74214526e+01,  4.57401061e+00],\n",
       "       [ 7.86602647e+00,  1.94135262e+01]])"
      ]
     },
     "execution_count": 14,
     "metadata": {},
     "output_type": "execute_result"
    }
   ],
   "source": [
    "# Your code here:\n",
    "\n",
    "transformed"
   ]
  },
  {
   "cell_type": "markdown",
   "metadata": {},
   "source": [
    "# Challenge 3 - Plotting the Data\n",
    "\n",
    "Now that we have reduced our cats and dogs arrays, we can easily plot the data in a way that the human eye can understand. We can look at this plot to see whether there are differences between the cat and dog images. \n",
    "\n",
    "In the cell below, turn the two dimensional projection into a pandas dataframe and name the columns `pc1`, and `pc2` respectively."
   ]
  },
  {
   "cell_type": "code",
   "execution_count": 15,
   "metadata": {},
   "outputs": [
    {
     "data": {
      "text/html": [
       "<div>\n",
       "<style scoped>\n",
       "    .dataframe tbody tr th:only-of-type {\n",
       "        vertical-align: middle;\n",
       "    }\n",
       "\n",
       "    .dataframe tbody tr th {\n",
       "        vertical-align: top;\n",
       "    }\n",
       "\n",
       "    .dataframe thead th {\n",
       "        text-align: right;\n",
       "    }\n",
       "</style>\n",
       "<table border=\"1\" class=\"dataframe\">\n",
       "  <thead>\n",
       "    <tr style=\"text-align: right;\">\n",
       "      <th></th>\n",
       "      <th>pc1</th>\n",
       "      <th>pc2</th>\n",
       "    </tr>\n",
       "  </thead>\n",
       "  <tbody>\n",
       "    <tr>\n",
       "      <td>0</td>\n",
       "      <td>-42.669674</td>\n",
       "      <td>21.678563</td>\n",
       "    </tr>\n",
       "    <tr>\n",
       "      <td>1</td>\n",
       "      <td>-32.622430</td>\n",
       "      <td>-11.442252</td>\n",
       "    </tr>\n",
       "    <tr>\n",
       "      <td>2</td>\n",
       "      <td>12.510188</td>\n",
       "      <td>-8.955644</td>\n",
       "    </tr>\n",
       "    <tr>\n",
       "      <td>3</td>\n",
       "      <td>-5.581385</td>\n",
       "      <td>-26.543832</td>\n",
       "    </tr>\n",
       "    <tr>\n",
       "      <td>4</td>\n",
       "      <td>-33.124529</td>\n",
       "      <td>10.580885</td>\n",
       "    </tr>\n",
       "  </tbody>\n",
       "</table>\n",
       "</div>"
      ],
      "text/plain": [
       "         pc1        pc2\n",
       "0 -42.669674  21.678563\n",
       "1 -32.622430 -11.442252\n",
       "2  12.510188  -8.955644\n",
       "3  -5.581385 -26.543832\n",
       "4 -33.124529  10.580885"
      ]
     },
     "execution_count": 15,
     "metadata": {},
     "output_type": "execute_result"
    }
   ],
   "source": [
    "# Your code here:\n",
    "df = pd.DataFrame(transformed)\n",
    "df.columns=['pc1','pc2']\n",
    "df.head()"
   ]
  },
  {
   "cell_type": "markdown",
   "metadata": {},
   "source": [
    "Create a labels list. This list will be of size 160. The first 80 elements in the list will be the word `blue`, and the last 80 elements will be `red`. This will ensure that all dog observations will be colored in blue and all cats will be colored in red. Name this list `colors`."
   ]
  },
  {
   "cell_type": "code",
   "execution_count": 16,
   "metadata": {},
   "outputs": [
    {
     "data": {
      "text/plain": [
       "160"
      ]
     },
     "execution_count": 16,
     "metadata": {},
     "output_type": "execute_result"
    }
   ],
   "source": [
    "# Your code here:\n",
    "label=['blue' for i in range(80)]\n",
    "[label.append('red') for ele in range(80)]\n",
    "len(label)"
   ]
  },
  {
   "cell_type": "markdown",
   "metadata": {},
   "source": [
    "Create a scatter plot of `pc1` and `pc2` below. Use the `colors` list above to color the observations by setting `c=colors`."
   ]
  },
  {
   "cell_type": "code",
   "execution_count": 17,
   "metadata": {},
   "outputs": [
    {
     "data": {
      "text/plain": [
       "<matplotlib.collections.PathCollection at 0x7fe75fe76320>"
      ]
     },
     "execution_count": 17,
     "metadata": {},
     "output_type": "execute_result"
    },
    {
     "data": {
      "image/png": "[encoded data removed]",
      "text/plain": [
       "<Figure size 432x288 with 1 Axes>"
      ]
     },
     "metadata": {
      "needs_background": "light"
     },
     "output_type": "display_data"
    }
   ],
   "source": [
    "# Your code here:\n",
    "plt.scatter(df.pc1,df.pc2,c=label)\n"
   ]
  },
  {
   "cell_type": "markdown",
   "metadata": {},
   "source": [
    "Do you see a clear separation between cats and dogs? Write your answer below."
   ]
  },
  {
   "cell_type": "code",
   "execution_count": 18,
   "metadata": {},
   "outputs": [],
   "source": [
    "# Your conclusions here:\n",
    "'''Los datos de los perros están más agrupados, diría que es más fácil que el modelo acierte perro que gato,\n",
    "no obstante no es un buen modelo creo, pues la features no consiguen una diferenciación clara, en este caso\n",
    "igual harían falta fotos con más resolución, o features del tipo 'longitud del hocico' '''\n"
   ]
  },
  {
   "cell_type": "code",
   "execution_count": null,
   "metadata": {},
   "outputs": [],
   "source": []
  }
 ],
 "metadata": {
  "kernelspec": {
   "display_name": "Python 3",
   "language": "python",
   "name": "python3"
  },
  "language_info": {
   "codemirror_mode": {
    "name": "ipython",
    "version": 3
   },
   "file_extension": ".py",
   "mimetype": "text/x-python",
   "name": "python",
   "nbconvert_exporter": "python",
   "pygments_lexer": "ipython3",
   "version": "3.6.8"
  }
 },
 "nbformat": 4,
 "nbformat_minor": 2
}
