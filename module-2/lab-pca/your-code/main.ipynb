{
 "cells": [
  {
   "cell_type": "markdown",
   "metadata": {},
   "source": [
    "# Before your start:\n",
    "- Read the README.md file\n",
    "- Comment as much as you can and use the resources (README.md file)\n",
    "- Happy learning!"
   ]
  },
  {
   "cell_type": "code",
   "execution_count": 1,
   "metadata": {},
   "outputs": [],
   "source": [
    "# Run this code:\n",
    "\n",
    "%matplotlib inline\n",
    "\n",
    "import matplotlib.pyplot as plt"
   ]
  },
  {
   "cell_type": "code",
   "execution_count": 2,
   "metadata": {},
   "outputs": [],
   "source": [
    "# Import numpy and pandas:\n",
    "import numpy as np\n",
    "import pandas as pd\n"
   ]
  },
  {
   "cell_type": "markdown",
   "metadata": {},
   "source": [
    "# Challenge 1 - Reading and Standardizing the Data\n",
    "\n",
    "In this challenge we will work with image data and reduce the dimensions of the data to create a 2 dimensional plot. While we have not worked much with image data before, it can be represented as a numpy array where each pixel is assigned a numeric value. In this lesson, we will look at a dataset of cats and a dataset of dogs and see whether reducing them to two dimensions allows us to see if the data is separable. We will start by loading and processing the data. Run the cell below to load the two csv files and convert them into numpy arrays."
   ]
  },
  {
   "cell_type": "code",
   "execution_count": 3,
   "metadata": {},
   "outputs": [],
   "source": [
    "# Run this code\n",
    "\n",
    "cats = np.array(pd.read_csv(\"https://raw.githubusercontent.com/bioramble/pca/master/cat.csv\", header=None))\n",
    "dogs = np.array(pd.read_csv(\"https://raw.githubusercontent.com/bioramble/pca/master/dog.csv\", header=None))"
   ]
  },
  {
   "cell_type": "markdown",
   "metadata": {},
   "source": [
    "Next, we'll examine the shape of both the cats and the dogs arrays. Print out both shapes below."
   ]
  },
  {
   "cell_type": "code",
   "execution_count": 4,
   "metadata": {},
   "outputs": [
    {
     "name": "stdout",
     "output_type": "stream",
     "text": [
      "(4096, 80) (4096, 80)\n"
     ]
    }
   ],
   "source": [
    "# Your code here:\n",
    "print(cats.shape,dogs.shape)\n"
   ]
  },
  {
   "cell_type": "markdown",
   "metadata": {},
   "source": [
    "What this means is that both arrays contain 80 images each (the number of columns). Each image is comprised of 64x64 pixels (so a total of 4096 pixels per image). The images have been flattened such that all 4096 are in a single row.\n",
    "\n",
    "Print out column 0 of the cats array to see what the pixels values look like."
   ]
  },
  {
   "cell_type": "code",
   "execution_count": 5,
   "metadata": {},
   "outputs": [
    {
     "name": "stdout",
     "output_type": "stream",
     "text": [
      "[ 64  23 250 137  55 173  18 134  19  47 109 164  41  78 108 108 247 105\n",
      " 158  54 103   4  23 102 239  72  42  21 168 109 112 177  22 233  15 236\n",
      " 250 137  32   5 178 109  24 107  53 241 226 143   5 136  98 100  89  66\n",
      " 228  92 255  88 230  56 160  69   6  24 195 183 239  35 154 154 122  18\n",
      "  87 106 174  69  28  60 223 101]\n"
     ]
    }
   ],
   "source": [
    "# Your code here:\n",
    "print(cats[0])\n"
   ]
  },
  {
   "cell_type": "markdown",
   "metadata": {},
   "source": [
    "Using `matplotlib` we can plot a single cat or a single dog. We do this by reshaping the vector back to a 64x64 image and then using the `imshow` function.\n",
    "\n",
    "Run the code below to look at the first dog and the first cat."
   ]
  },
  {
   "cell_type": "code",
   "execution_count": 6,
   "metadata": {},
   "outputs": [
    {
     "data": {
      "text/plain": [
       "<matplotlib.image.AxesImage at 0x7efe1daa1518>"
      ]
     },
     "execution_count": 6,
     "metadata": {},
     "output_type": "execute_result"
    },
    {
     "data": {
      "image/png": "[encoded data removed]",
      "text/plain": [
       "<Figure size 432x288 with 1 Axes>"
      ]
     },
     "metadata": {
      "needs_background": "light"
     },
     "output_type": "display_data"
    }
   ],
   "source": [
    "# Run this code:\n",
    "\n",
    "fig, ax = plt.subplots()\n",
    "ax.imshow(cats[:,0].reshape(64, 64).T, cmap=plt.cm.bone, interpolation='nearest') "
   ]
  },
  {
   "cell_type": "code",
   "execution_count": 7,
   "metadata": {},
   "outputs": [
    {
     "data": {
      "text/plain": [
       "<matplotlib.image.AxesImage at 0x7efe1dac0ef0>"
      ]
     },
     "execution_count": 7,
     "metadata": {},
     "output_type": "execute_result"
    },
    {
     "data": {
      "image/png": "[encoded data removed]",
      "text/plain": [
       "<Figure size 432x288 with 1 Axes>"
      ]
     },
     "metadata": {
      "needs_background": "light"
     },
     "output_type": "display_data"
    }
   ],
   "source": [
    "# Run this code:\n",
    "\n",
    "fig, ax = plt.subplots()\n",
    "ax.imshow(dogs[:,0].reshape(64, 64).T, cmap=plt.cm.bone, interpolation='nearest') "
   ]
  },
  {
   "cell_type": "markdown",
   "metadata": {},
   "source": [
    "Next, we would like to create a standardization function. This function will find the mean and standard deviation of each image. We subtract the mean from each pixel and divide each pixel by the standard deviation. Write the function below.\n",
    "\n",
    "Hint: To find the mean and standard deviation of each image, use `numpy`'s version of mean and stadnard deviation and use `axis=0`."
   ]
  },
  {
   "cell_type": "code",
   "execution_count": 20,
   "metadata": {},
   "outputs": [],
   "source": [
    "def standardize(x):\n",
    "    #This function takes as input a numpy array and returns a stadardized numpy array of the same dimensions.\n",
    "    #Sample input: np.array([[1,2,3],[4,5,6]])\n",
    "    #Sample output: np.array([[-1,-1,-1],[1,1,1]])\n",
    "    array=[]\n",
    "    # Your code here:\n",
    "    for image in x:\n",
    "        stadarImg = []\n",
    "        mean = np.mean(image,axis=0)\n",
    "        std=np.std(image,axis=0)\n",
    "        for pixel in image:\n",
    "            stadarImg.append((pixel-mean)/std)\n",
    "        array.append(stadarImg)\n",
    "    return np.array(array)"
   ]
  },
  {
   "cell_type": "code",
   "execution_count": 22,
   "metadata": {},
   "outputs": [
    {
     "data": {
      "text/plain": [
       "array([[-1.22474487,  0.        ,  1.22474487],\n",
       "       [-1.22474487,  0.        ,  1.22474487]])"
      ]
     },
     "execution_count": 22,
     "metadata": {},
     "output_type": "execute_result"
    }
   ],
   "source": [
    "standardize([[1,2,3],[4,5,6]])"
   ]
  },
  {
   "cell_type": "markdown",
   "metadata": {},
   "source": [
    "Now, use the `np.concatenate` function to combine the cats and dogs arrays. Use `axis=1` to combine the two correctly. Make sure to put dogs first."
   ]
  },
  {
   "cell_type": "code",
   "execution_count": 39,
   "metadata": {},
   "outputs": [
    {
     "data": {
      "text/plain": [
       "(4096, 160)"
      ]
     },
     "execution_count": 39,
     "metadata": {},
     "output_type": "execute_result"
    }
   ],
   "source": [
    "np.concatenate((dogs,cats),axis=1).shape"
   ]
  },
  {
   "cell_type": "markdown",
   "metadata": {},
   "source": [
    "Standardize the concatenated array below."
   ]
  },
  {
   "cell_type": "code",
   "execution_count": 26,
   "metadata": {},
   "outputs": [],
   "source": [
    "# Your code here:\n",
    "\n",
    "combineStand= standardize(np.concatenate((dogs,cats),axis=1))"
   ]
  },
  {
   "cell_type": "markdown",
   "metadata": {},
   "source": [
    "# Challenge 2 - Using PCA\n",
    "\n",
    "Now that we have created a standardized matrix of cats and dogs, we'll find the two most important components in the data.\n",
    "\n",
    "Load the `PCA` function from `statsmodels` (read about this function [here](https://www.statsmodels.org/dev/generated/statsmodels.multivariate.pca.PCA.html)) and apply the function to our standarized data. Create a PCA model with two components."
   ]
  },
  {
   "cell_type": "code",
   "execution_count": 69,
   "metadata": {},
   "outputs": [
    {
     "data": {
      "text/plain": [
       "PCA(copy=True, iterated_power='auto', n_components=2, random_state=None,\n",
       "    svd_solver='auto', tol=0.0, whiten=False)"
      ]
     },
     "execution_count": 69,
     "metadata": {},
     "output_type": "execute_result"
    }
   ],
   "source": [
    "# Your code here:\n",
    "from sklearn.decomposition import PCA\n",
    "pca = PCA(n_components=2)\n",
    "pca.fit(combineStand.T)\n",
    "\n"
   ]
  },
  {
   "cell_type": "markdown",
   "metadata": {},
   "source": [
    "Use `numpy` to find to transpose the standardized pet array. This will help us compute the projection."
   ]
  },
  {
   "cell_type": "code",
   "execution_count": 70,
   "metadata": {},
   "outputs": [],
   "source": [
    "# Your code here:\n",
    "\n",
    "transformed = pca.transform(combineStand.T)"
   ]
  },
  {
   "cell_type": "markdown",
   "metadata": {},
   "source": [
    "Find the dot product of the transposed standardized pet matrix and the `factors` of the `PCA` model found above. This will be the projection onto 2 dimensions. This means that each cat and dog image will now only have two columns instead of 4096."
   ]
  },
  {
   "cell_type": "code",
   "execution_count": 71,
   "metadata": {},
   "outputs": [
    {
     "data": {
      "text/plain": [
       "array([[ 4.55449814e+01, -2.52389396e+01],\n",
       "       [-2.48328587e+01, -4.15716863e+01],\n",
       "       [ 2.74692450e+01,  1.19581866e+01],\n",
       "       [-2.25998546e+01, -9.83936155e+00],\n",
       "       [ 1.93603564e+01, -1.88120255e+01],\n",
       "       [-4.74468664e+00,  5.84374974e+00],\n",
       "       [-2.06260501e+01, -2.06659204e+01],\n",
       "       [-1.29788491e+01, -2.02951052e+01],\n",
       "       [ 1.50642297e+01, -9.17912999e+00],\n",
       "       [ 2.00937359e+01, -3.18338073e+01],\n",
       "       [-4.07943695e-01, -2.65321338e+00],\n",
       "       [ 3.20386915e+01, -4.98633249e+00],\n",
       "       [-3.36053890e+01, -1.17071944e+01],\n",
       "       [ 4.22857896e+01,  7.38833500e+00],\n",
       "       [ 5.59330677e+00, -2.05419466e+01],\n",
       "       [ 1.20688731e+01, -1.10092745e+01],\n",
       "       [ 1.77230667e+01, -1.11085928e+01],\n",
       "       [ 1.47700211e+00, -3.37994262e+01],\n",
       "       [ 2.00562708e+01, -8.98499953e+00],\n",
       "       [ 2.60924376e+01, -1.48999556e+01],\n",
       "       [ 2.09878872e+01,  4.65157524e+00],\n",
       "       [-9.44574138e+00, -7.50716978e+00],\n",
       "       [ 4.20501316e+01, -6.94592881e-01],\n",
       "       [-4.51769749e+01, -2.52214589e+01],\n",
       "       [-2.58030776e+01, -3.47407887e+01],\n",
       "       [-4.17589606e+01, -1.18016316e+01],\n",
       "       [ 4.16831369e+01,  8.45781161e+00],\n",
       "       [ 8.09341824e+00, -2.78418243e-02],\n",
       "       [ 1.18571978e+01, -1.96098682e+01],\n",
       "       [-2.38766123e+01, -1.45359640e+01],\n",
       "       [-6.80805729e+00, -7.77316812e+00],\n",
       "       [-3.26630246e+01, -1.32496287e+01],\n",
       "       [ 2.41970204e+00, -3.04898422e+01],\n",
       "       [-5.57199837e+01, -2.70190765e+01],\n",
       "       [-3.88382036e+01, -2.26125223e+00],\n",
       "       [-1.88022890e+01, -1.83870887e+01],\n",
       "       [ 1.94022697e+01,  1.05983117e+01],\n",
       "       [-4.07353489e+01, -1.11855776e+01],\n",
       "       [-5.34214805e+01, -6.18164688e+00],\n",
       "       [-2.02565644e+01, -3.38638943e+01],\n",
       "       [-1.47710894e+01, -2.03887424e+01],\n",
       "       [ 2.15738737e+01,  1.48479762e+00],\n",
       "       [-6.16642615e+01, -6.92920688e+00],\n",
       "       [-3.46099485e+01, -2.04911836e+01],\n",
       "       [-1.69707147e+01,  3.61589057e+00],\n",
       "       [-8.49060180e+00, -1.94840039e+01],\n",
       "       [-5.40501871e+00, -3.00119282e+01],\n",
       "       [-3.43065826e+01, -1.06191534e+01],\n",
       "       [ 1.08835958e+01, -1.11539367e+01],\n",
       "       [-4.79221794e+01,  2.38753632e+00],\n",
       "       [ 7.16522712e+00, -2.32554648e+01],\n",
       "       [ 6.80187482e+01, -1.39848808e+01],\n",
       "       [ 6.59248277e+01,  9.36353928e+00],\n",
       "       [ 3.71766661e+00,  1.68701791e+01],\n",
       "       [-7.39124230e+00,  1.39425054e+01],\n",
       "       [ 1.98091877e+01,  2.05814116e+01],\n",
       "       [ 1.64148200e+01, -1.72494920e+01],\n",
       "       [ 3.90420737e+00, -8.23684047e+00],\n",
       "       [-7.91964851e+00,  1.04854147e+01],\n",
       "       [ 6.87527463e+00, -1.27949470e+00],\n",
       "       [-1.29811046e+01, -1.12601249e+01],\n",
       "       [ 1.16714780e+01, -1.69463928e+01],\n",
       "       [-2.71142880e+00, -2.83606287e+01],\n",
       "       [ 3.41719358e+01,  2.12993150e+01],\n",
       "       [-6.06165087e+01,  1.38063907e-02],\n",
       "       [-1.12311472e+01, -2.50461766e+01],\n",
       "       [ 3.85956398e+01,  2.62671036e+00],\n",
       "       [-5.53081938e+00,  3.43986390e+01],\n",
       "       [-1.85537095e+01,  1.11758116e+00],\n",
       "       [ 4.53223365e-01, -2.37046259e+01],\n",
       "       [-3.47121723e+01,  2.78683387e+00],\n",
       "       [-3.18957089e+01, -6.30267292e+00],\n",
       "       [ 2.69830461e+00, -2.92934180e+01],\n",
       "       [-4.78385678e+01,  3.66654220e+00],\n",
       "       [ 2.28983086e+01, -7.18764465e-01],\n",
       "       [ 1.54539973e+00, -2.75389310e+01],\n",
       "       [ 1.43333820e+01, -2.79821608e+01],\n",
       "       [-2.47792406e+00,  4.50789209e+00],\n",
       "       [-3.16194286e+01, -5.73763974e+00],\n",
       "       [ 3.31035023e+01, -3.16377846e+01],\n",
       "       [ 6.52548943e+01,  2.97016478e+01],\n",
       "       [-8.34652772e-01,  3.87785832e+01],\n",
       "       [ 6.56103083e+01, -5.27871292e+01],\n",
       "       [ 4.88917964e+01, -1.71002985e+01],\n",
       "       [ 5.05344878e+01,  3.82485638e+01],\n",
       "       [-9.10950497e-01,  2.53107489e+01],\n",
       "       [ 2.67613445e+01,  3.87952110e+01],\n",
       "       [ 2.17168454e+01,  9.86117066e+00],\n",
       "       [-1.36696542e+01,  4.13242759e+01],\n",
       "       [-1.93446365e+01,  2.41138802e+01],\n",
       "       [-1.02984546e+01, -8.49835884e-01],\n",
       "       [-4.35232289e+01, -1.15878406e+01],\n",
       "       [-3.07031753e+01,  4.64827442e+01],\n",
       "       [ 3.23262813e+01,  3.31604486e+01],\n",
       "       [ 7.98537190e+00, -1.88340352e+01],\n",
       "       [ 3.34022667e+00,  1.94269279e+01],\n",
       "       [ 9.89283375e+00, -1.78926026e+01],\n",
       "       [ 2.76965026e+01,  3.27709879e+01],\n",
       "       [ 4.14195791e+01, -2.44113494e+01],\n",
       "       [-4.38032467e+01,  3.32806850e+01],\n",
       "       [ 7.02188041e+01,  6.98871424e+00],\n",
       "       [-2.28977933e+01,  3.56357006e+01],\n",
       "       [-4.24639053e+01,  2.08220799e+01],\n",
       "       [-5.92480015e+01,  1.24809181e+01],\n",
       "       [ 7.03243028e+01, -3.87340016e+01],\n",
       "       [-7.96192394e+00,  8.17403567e-01],\n",
       "       [ 3.10898764e+01,  3.28090173e+01],\n",
       "       [-6.20723420e+01,  1.68565281e+01],\n",
       "       [ 1.78105347e+00, -1.38221518e+01],\n",
       "       [ 6.67199635e+00,  1.69211327e+01],\n",
       "       [ 3.03690255e+01,  9.05563209e+00],\n",
       "       [ 6.44798520e+01,  3.73654967e+00],\n",
       "       [ 2.86422936e+01,  2.66857866e+01],\n",
       "       [ 8.43104802e+01, -5.05263176e+01],\n",
       "       [-7.87747891e+00,  3.24784682e+01],\n",
       "       [-5.89322299e+01, -7.39974494e+00],\n",
       "       [ 3.65943232e+01, -4.06109130e+01],\n",
       "       [-2.69192775e+01,  3.13985742e+01],\n",
       "       [-2.61188932e+01,  8.34119674e+00],\n",
       "       [ 6.93550966e+01,  2.48364610e+01],\n",
       "       [-1.17720450e+01,  5.24285837e+00],\n",
       "       [ 5.17879633e+01,  4.76857791e+01],\n",
       "       [-3.70889565e+01,  3.96302644e+01],\n",
       "       [-5.54627820e+01,  1.00027492e+01],\n",
       "       [-7.15593930e+01,  4.28777925e+01],\n",
       "       [-5.48242360e+01, -2.37532668e+01],\n",
       "       [-5.83219104e+01, -2.57482936e+01],\n",
       "       [-2.20906495e+01, -3.25172707e+01],\n",
       "       [-1.57682697e+01,  4.80486917e+01],\n",
       "       [ 2.06420992e+01,  5.80581157e+00],\n",
       "       [ 5.13505932e+01,  3.71342389e+01],\n",
       "       [ 8.47441410e+00,  1.00488276e+01],\n",
       "       [ 3.56303289e+00,  4.15353751e+01],\n",
       "       [-2.15207497e+01,  3.40154194e+01],\n",
       "       [-2.47071506e+01, -1.19415452e+01],\n",
       "       [ 1.86179321e+00,  2.81638105e+01],\n",
       "       [ 1.75859885e+01,  5.56905138e+01],\n",
       "       [-7.90413951e+00,  1.14483344e+01],\n",
       "       [ 1.34979992e+01, -1.75573132e+01],\n",
       "       [-4.20364641e+01,  5.33339047e+00],\n",
       "       [-1.03074053e+01, -2.35444895e+00],\n",
       "       [ 2.81309757e+01,  1.85459771e+01],\n",
       "       [ 2.75842859e+01,  3.98654660e+01],\n",
       "       [-2.79618689e+01,  2.83687741e+01],\n",
       "       [-1.09978083e+01, -2.37699961e+01],\n",
       "       [ 2.22051833e+00,  8.39831228e+00],\n",
       "       [ 3.17988981e+01, -4.11899279e+01],\n",
       "       [ 3.23313987e+01,  1.09174407e+01],\n",
       "       [-4.05853846e+00, -9.76186502e+00],\n",
       "       [-2.30645416e+01, -3.10497917e+01],\n",
       "       [ 6.47071678e+00, -8.20261277e+00],\n",
       "       [-5.83244513e+00,  2.63484577e+01],\n",
       "       [ 2.15021386e+01,  1.20313712e+01],\n",
       "       [ 1.04234612e+01, -1.90159326e-01],\n",
       "       [ 1.57983992e+01, -5.51454067e+00],\n",
       "       [-5.40205335e-01,  1.52939306e+01],\n",
       "       [-1.67015977e+01,  2.08983954e+01],\n",
       "       [-1.87184273e+01,  2.08673853e+01],\n",
       "       [-1.43264083e+01, -1.43343840e+01],\n",
       "       [ 1.04550095e+01,  8.36671692e+00]])"
      ]
     },
     "execution_count": 71,
     "metadata": {},
     "output_type": "execute_result"
    }
   ],
   "source": [
    "# Your code here:\n",
    "\n",
    "transformed"
   ]
  },
  {
   "cell_type": "markdown",
   "metadata": {},
   "source": [
    "# Challenge 3 - Plotting the Data\n",
    "\n",
    "Now that we have reduced our cats and dogs arrays, we can easily plot the data in a way that the human eye can understand. We can look at this plot to see whether there are differences between the cat and dog images. \n",
    "\n",
    "In the cell below, turn the two dimensional projection into a pandas dataframe and name the columns `pc1`, and `pc2` respectively."
   ]
  },
  {
   "cell_type": "code",
   "execution_count": 72,
   "metadata": {},
   "outputs": [
    {
     "data": {
      "text/html": [
       "<div>\n",
       "<style scoped>\n",
       "    .dataframe tbody tr th:only-of-type {\n",
       "        vertical-align: middle;\n",
       "    }\n",
       "\n",
       "    .dataframe tbody tr th {\n",
       "        vertical-align: top;\n",
       "    }\n",
       "\n",
       "    .dataframe thead th {\n",
       "        text-align: right;\n",
       "    }\n",
       "</style>\n",
       "<table border=\"1\" class=\"dataframe\">\n",
       "  <thead>\n",
       "    <tr style=\"text-align: right;\">\n",
       "      <th></th>\n",
       "      <th>pc1</th>\n",
       "      <th>pc2</th>\n",
       "    </tr>\n",
       "  </thead>\n",
       "  <tbody>\n",
       "    <tr>\n",
       "      <td>0</td>\n",
       "      <td>45.544981</td>\n",
       "      <td>-25.238940</td>\n",
       "    </tr>\n",
       "    <tr>\n",
       "      <td>1</td>\n",
       "      <td>-24.832859</td>\n",
       "      <td>-41.571686</td>\n",
       "    </tr>\n",
       "    <tr>\n",
       "      <td>2</td>\n",
       "      <td>27.469245</td>\n",
       "      <td>11.958187</td>\n",
       "    </tr>\n",
       "    <tr>\n",
       "      <td>3</td>\n",
       "      <td>-22.599855</td>\n",
       "      <td>-9.839362</td>\n",
       "    </tr>\n",
       "    <tr>\n",
       "      <td>4</td>\n",
       "      <td>19.360356</td>\n",
       "      <td>-18.812026</td>\n",
       "    </tr>\n",
       "  </tbody>\n",
       "</table>\n",
       "</div>"
      ],
      "text/plain": [
       "         pc1        pc2\n",
       "0  45.544981 -25.238940\n",
       "1 -24.832859 -41.571686\n",
       "2  27.469245  11.958187\n",
       "3 -22.599855  -9.839362\n",
       "4  19.360356 -18.812026"
      ]
     },
     "execution_count": 72,
     "metadata": {},
     "output_type": "execute_result"
    }
   ],
   "source": [
    "# Your code here:\n",
    "df = pd.DataFrame(transformed)\n",
    "df.columns=['pc1','pc2']\n",
    "df.head()"
   ]
  },
  {
   "cell_type": "markdown",
   "metadata": {},
   "source": [
    "Create a labels list. This list will be of size 160. The first 80 elements in the list will be the word `blue`, and the last 80 elements will be `red`. This will ensure that all dog observations will be colored in blue and all cats will be colored in red. Name this list `colors`."
   ]
  },
  {
   "cell_type": "code",
   "execution_count": 73,
   "metadata": {},
   "outputs": [
    {
     "data": {
      "text/plain": [
       "160"
      ]
     },
     "execution_count": 73,
     "metadata": {},
     "output_type": "execute_result"
    }
   ],
   "source": [
    "# Your code here:\n",
    "label=['blue' for i in range(80)]\n",
    "[label.append('red') for ele in range(80)]\n",
    "len(label)"
   ]
  },
  {
   "cell_type": "markdown",
   "metadata": {},
   "source": [
    "Create a scatter plot of `pc1` and `pc2` below. Use the `colors` list above to color the observations by setting `c=colors`."
   ]
  },
  {
   "cell_type": "code",
   "execution_count": 74,
   "metadata": {},
   "outputs": [
    {
     "data": {
      "text/plain": [
       "<matplotlib.collections.PathCollection at 0x7efe1a29fc18>"
      ]
     },
     "execution_count": 74,
     "metadata": {},
     "output_type": "execute_result"
    },
    {
     "data": {
      "image/png": "[encoded data removed]",
      "text/plain": [
       "<Figure size 432x288 with 1 Axes>"
      ]
     },
     "metadata": {
      "needs_background": "light"
     },
     "output_type": "display_data"
    }
   ],
   "source": [
    "# Your code here:\n",
    "plt.scatter(df.pc1,df.pc2,c=label)\n"
   ]
  },
  {
   "cell_type": "markdown",
   "metadata": {},
   "source": [
    "Do you see a clear separation between cats and dogs? Write your answer below."
   ]
  },
  {
   "cell_type": "code",
   "execution_count": 18,
   "metadata": {},
   "outputs": [],
   "source": [
    "# Your conclusions here:\n",
    "'''Los datos de los perros están más agrupados, diría que es más fácil que el modelo acierte perro que gato,\n",
    "no obstante no es un buen modelo creo, pues la features no consiguen una diferenciación clara, en este caso\n",
    "igual harían falta fotos con más resolución, o features del tipo 'longitud del hocico' '''\n"
   ]
  },
  {
   "cell_type": "code",
   "execution_count": null,
   "metadata": {},
   "outputs": [],
   "source": []
  }
 ],
 "metadata": {
  "kernelspec": {
   "display_name": "Python 3",
   "language": "python",
   "name": "python3"
  },
  "language_info": {
   "codemirror_mode": {
    "name": "ipython",
    "version": 3
   },
   "file_extension": ".py",
   "mimetype": "text/x-python",
   "name": "python",
   "nbconvert_exporter": "python",
   "pygments_lexer": "ipython3",
   "version": "3.6.8"
  }
 },
 "nbformat": 4,
 "nbformat_minor": 2
}
