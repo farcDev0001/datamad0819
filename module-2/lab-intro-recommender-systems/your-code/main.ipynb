{
 "cells": [
  {
   "cell_type": "markdown",
   "metadata": {},
   "source": [
    "# Intro to Recommender Systems Lab\n",
    "\n",
    "Complete the exercises below to solidify your knowledge and understanding of recommender systems.\n",
    "\n",
    "For this lab, we are going to be putting together a user similarity based recommender system in a step-by-step fashion. Our data set contains customer grocery purchases, and we will use similar purchase behavior to inform our recommender system. Our recommender system will generate 5 recommendations for each customer based on the purchases they have made."
   ]
  },
  {
   "cell_type": "code",
   "execution_count": 1,
   "metadata": {},
   "outputs": [],
   "source": [
    "import pandas as pd\n",
    "from scipy.spatial.distance import pdist, squareform"
   ]
  },
  {
   "cell_type": "code",
   "execution_count": 4,
   "metadata": {},
   "outputs": [],
   "source": [
    "data = pd.read_csv('../data/customer_product_sales.csv')"
   ]
  },
  {
   "cell_type": "code",
   "execution_count": 122,
   "metadata": {},
   "outputs": [
    {
     "data": {
      "text/html": [
       "<div>\n",
       "<style scoped>\n",
       "    .dataframe tbody tr th:only-of-type {\n",
       "        vertical-align: middle;\n",
       "    }\n",
       "\n",
       "    .dataframe tbody tr th {\n",
       "        vertical-align: top;\n",
       "    }\n",
       "\n",
       "    .dataframe thead th {\n",
       "        text-align: right;\n",
       "    }\n",
       "</style>\n",
       "<table border=\"1\" class=\"dataframe\">\n",
       "  <thead>\n",
       "    <tr style=\"text-align: right;\">\n",
       "      <th></th>\n",
       "      <th>CustomerID</th>\n",
       "      <th>FirstName</th>\n",
       "      <th>LastName</th>\n",
       "      <th>SalesID</th>\n",
       "      <th>ProductID</th>\n",
       "      <th>ProductName</th>\n",
       "      <th>Quantity</th>\n",
       "    </tr>\n",
       "  </thead>\n",
       "  <tbody>\n",
       "    <tr>\n",
       "      <td>0</td>\n",
       "      <td>61288</td>\n",
       "      <td>Rosa</td>\n",
       "      <td>Andersen</td>\n",
       "      <td>134196</td>\n",
       "      <td>229</td>\n",
       "      <td>Bread - Hot Dog Buns</td>\n",
       "      <td>16</td>\n",
       "    </tr>\n",
       "    <tr>\n",
       "      <td>1</td>\n",
       "      <td>77352</td>\n",
       "      <td>Myron</td>\n",
       "      <td>Murray</td>\n",
       "      <td>6167892</td>\n",
       "      <td>229</td>\n",
       "      <td>Bread - Hot Dog Buns</td>\n",
       "      <td>20</td>\n",
       "    </tr>\n",
       "    <tr>\n",
       "      <td>2</td>\n",
       "      <td>40094</td>\n",
       "      <td>Susan</td>\n",
       "      <td>Stevenson</td>\n",
       "      <td>5970885</td>\n",
       "      <td>229</td>\n",
       "      <td>Bread - Hot Dog Buns</td>\n",
       "      <td>11</td>\n",
       "    </tr>\n",
       "    <tr>\n",
       "      <td>3</td>\n",
       "      <td>23548</td>\n",
       "      <td>Tricia</td>\n",
       "      <td>Vincent</td>\n",
       "      <td>6426954</td>\n",
       "      <td>229</td>\n",
       "      <td>Bread - Hot Dog Buns</td>\n",
       "      <td>6</td>\n",
       "    </tr>\n",
       "    <tr>\n",
       "      <td>4</td>\n",
       "      <td>78981</td>\n",
       "      <td>Scott</td>\n",
       "      <td>Burch</td>\n",
       "      <td>819094</td>\n",
       "      <td>229</td>\n",
       "      <td>Bread - Hot Dog Buns</td>\n",
       "      <td>20</td>\n",
       "    </tr>\n",
       "  </tbody>\n",
       "</table>\n",
       "</div>"
      ],
      "text/plain": [
       "   CustomerID FirstName   LastName  SalesID  ProductID           ProductName  \\\n",
       "0       61288      Rosa   Andersen   134196        229  Bread - Hot Dog Buns   \n",
       "1       77352     Myron     Murray  6167892        229  Bread - Hot Dog Buns   \n",
       "2       40094     Susan  Stevenson  5970885        229  Bread - Hot Dog Buns   \n",
       "3       23548    Tricia    Vincent  6426954        229  Bread - Hot Dog Buns   \n",
       "4       78981     Scott      Burch   819094        229  Bread - Hot Dog Buns   \n",
       "\n",
       "   Quantity  \n",
       "0        16  \n",
       "1        20  \n",
       "2        11  \n",
       "3         6  \n",
       "4        20  "
      ]
     },
     "execution_count": 122,
     "metadata": {},
     "output_type": "execute_result"
    }
   ],
   "source": [
    "data.head()"
   ]
  },
  {
   "cell_type": "markdown",
   "metadata": {},
   "source": [
    "## Step 1: Create a data frame that contains the total quantity of each product purchased by each customer.\n",
    "\n",
    "You will need to group by CustomerID and ProductName and then sum the Quantity field."
   ]
  },
  {
   "cell_type": "code",
   "execution_count": 16,
   "metadata": {},
   "outputs": [],
   "source": [
    "df = data[['CustomerID','ProductName','Quantity']].groupby(['CustomerID','ProductName','Quantity']).sum().reset_index()"
   ]
  },
  {
   "cell_type": "markdown",
   "metadata": {},
   "source": [
    "## Step 2: Use the `pivot_table` method to create a product by customer matrix.\n",
    "\n",
    "The rows of the matrix should represent the products, the columns should represent the customers, and the values should be the quantities of each product purchased by each customer. You will also need to replace nulls with zeros, which you can do using the `fillna` method."
   ]
  },
  {
   "cell_type": "code",
   "execution_count": 19,
   "metadata": {},
   "outputs": [],
   "source": [
    "dfPivot = pd.pivot_table(df, values='Quantity', index='ProductName',columns='CustomerID',fill_value=0)"
   ]
  },
  {
   "cell_type": "code",
   "execution_count": null,
   "metadata": {},
   "outputs": [],
   "source": []
  },
  {
   "cell_type": "markdown",
   "metadata": {},
   "source": [
    "## Step 3: Create a customer similarity matrix using `squareform` and `pdist`. For the distance metric, choose \"euclidean.\""
   ]
  },
  {
   "cell_type": "code",
   "execution_count": 26,
   "metadata": {},
   "outputs": [],
   "source": [
    "distances = pdist(dfPivot.T, 'euclidean')\n",
    "distances_matrix = squareform(distances)\n",
    "dfDistances = pd.DataFrame(1/(1 + distances_matrix), index=dfPivot.columns, columns=dfPivot.columns)"
   ]
  },
  {
   "cell_type": "code",
   "execution_count": 61,
   "metadata": {},
   "outputs": [
    {
     "data": {
      "text/plain": [
       "Int64Index([   33,   200,   264,   356,   412,   464,   477,   639,   649,\n",
       "              669,\n",
       "            ...\n",
       "            97697, 97753, 97769, 97793, 97900, 97928, 98069, 98159, 98185,\n",
       "            98200],\n",
       "           dtype='int64', name='CustomerID', length=1000)"
      ]
     },
     "execution_count": 61,
     "metadata": {},
     "output_type": "execute_result"
    }
   ],
   "source": [
    "dfDistances.columns"
   ]
  },
  {
   "cell_type": "markdown",
   "metadata": {},
   "source": [
    "## Step 4: Check your results by generating a list of the top 5 most similar customers for a specific CustomerID."
   ]
  },
  {
   "cell_type": "code",
   "execution_count": 64,
   "metadata": {},
   "outputs": [
    {
     "data": {
      "text/html": [
       "<div>\n",
       "<style scoped>\n",
       "    .dataframe tbody tr th:only-of-type {\n",
       "        vertical-align: middle;\n",
       "    }\n",
       "\n",
       "    .dataframe tbody tr th {\n",
       "        vertical-align: top;\n",
       "    }\n",
       "\n",
       "    .dataframe thead th {\n",
       "        text-align: right;\n",
       "    }\n",
       "</style>\n",
       "<table border=\"1\" class=\"dataframe\">\n",
       "  <thead>\n",
       "    <tr style=\"text-align: right;\">\n",
       "      <th>CustomerID</th>\n",
       "      <th>CustomerID</th>\n",
       "      <th>33</th>\n",
       "    </tr>\n",
       "  </thead>\n",
       "  <tbody>\n",
       "    <tr>\n",
       "      <td>0</td>\n",
       "      <td>33</td>\n",
       "      <td>1.000000</td>\n",
       "    </tr>\n",
       "    <tr>\n",
       "      <td>51</td>\n",
       "      <td>3909</td>\n",
       "      <td>0.095358</td>\n",
       "    </tr>\n",
       "    <tr>\n",
       "      <td>46</td>\n",
       "      <td>3531</td>\n",
       "      <td>0.093953</td>\n",
       "    </tr>\n",
       "    <tr>\n",
       "      <td>2</td>\n",
       "      <td>264</td>\n",
       "      <td>0.093953</td>\n",
       "    </tr>\n",
       "    <tr>\n",
       "      <td>29</td>\n",
       "      <td>2503</td>\n",
       "      <td>0.093498</td>\n",
       "    </tr>\n",
       "    <tr>\n",
       "      <td>43</td>\n",
       "      <td>3305</td>\n",
       "      <td>0.093051</td>\n",
       "    </tr>\n",
       "  </tbody>\n",
       "</table>\n",
       "</div>"
      ],
      "text/plain": [
       "CustomerID  CustomerID        33\n",
       "0                   33  1.000000\n",
       "51                3909  0.095358\n",
       "46                3531  0.093953\n",
       "2                  264  0.093953\n",
       "29                2503  0.093498\n",
       "43                3305  0.093051"
      ]
     },
     "execution_count": 64,
     "metadata": {},
     "output_type": "execute_result"
    }
   ],
   "source": [
    "dfDistances.reset_index()[['CustomerID',33]].sort_values(by=33,ascending=False).head(6)\n",
    "#Los 6 primeros para el cliente 33, obviamente el match consigo mismo es 1, la primera columna que pone\n",
    "#Customer id enrealidad son los índices de fila, los customerId verdaderos son los de enmedio"
   ]
  },
  {
   "cell_type": "markdown",
   "metadata": {},
   "source": [
    "## Step 5: From the data frame you created in Step 1, select the records for the list of similar CustomerIDs you obtained in Step 4."
   ]
  },
  {
   "cell_type": "code",
   "execution_count": 72,
   "metadata": {},
   "outputs": [
    {
     "data": {
      "text/html": [
       "<div>\n",
       "<style scoped>\n",
       "    .dataframe tbody tr th:only-of-type {\n",
       "        vertical-align: middle;\n",
       "    }\n",
       "\n",
       "    .dataframe tbody tr th {\n",
       "        vertical-align: top;\n",
       "    }\n",
       "\n",
       "    .dataframe thead th {\n",
       "        text-align: right;\n",
       "    }\n",
       "</style>\n",
       "<table border=\"1\" class=\"dataframe\">\n",
       "  <thead>\n",
       "    <tr style=\"text-align: right;\">\n",
       "      <th></th>\n",
       "      <th>CustomerID</th>\n",
       "      <th>ProductName</th>\n",
       "      <th>Quantity</th>\n",
       "    </tr>\n",
       "  </thead>\n",
       "  <tbody>\n",
       "    <tr>\n",
       "      <td>0</td>\n",
       "      <td>264</td>\n",
       "      <td>Apricots - Halves</td>\n",
       "      <td>1</td>\n",
       "    </tr>\n",
       "    <tr>\n",
       "      <td>1</td>\n",
       "      <td>264</td>\n",
       "      <td>Apricots Fresh</td>\n",
       "      <td>1</td>\n",
       "    </tr>\n",
       "    <tr>\n",
       "      <td>2</td>\n",
       "      <td>264</td>\n",
       "      <td>Bacardi Breezer - Tropical</td>\n",
       "      <td>1</td>\n",
       "    </tr>\n",
       "    <tr>\n",
       "      <td>3</td>\n",
       "      <td>264</td>\n",
       "      <td>Bagel - Plain</td>\n",
       "      <td>1</td>\n",
       "    </tr>\n",
       "    <tr>\n",
       "      <td>4</td>\n",
       "      <td>264</td>\n",
       "      <td>Banana - Leaves</td>\n",
       "      <td>1</td>\n",
       "    </tr>\n",
       "  </tbody>\n",
       "</table>\n",
       "</div>"
      ],
      "text/plain": [
       "   CustomerID                 ProductName  Quantity\n",
       "0         264           Apricots - Halves         1\n",
       "1         264              Apricots Fresh         1\n",
       "2         264  Bacardi Breezer - Tropical         1\n",
       "3         264               Bagel - Plain         1\n",
       "4         264             Banana - Leaves         1"
      ]
     },
     "execution_count": 72,
     "metadata": {},
     "output_type": "execute_result"
    }
   ],
   "source": [
    "dfSimilar = df[df.CustomerID.isin([3909,3531,264,2503,3305])].reset_index().drop(columns='index')\n",
    "dfSimilar.head()"
   ]
  },
  {
   "cell_type": "markdown",
   "metadata": {},
   "source": [
    "## Step 6: Aggregate those customer purchase records by ProductName, sum the Quantity field, and then rank them in descending order by quantity.\n",
    "\n",
    "This will give you the total number of each product purchased by the 5 most similar customers to the customer you selected in order from most purchased to least."
   ]
  },
  {
   "cell_type": "code",
   "execution_count": 85,
   "metadata": {},
   "outputs": [
    {
     "data": {
      "text/html": [
       "<div>\n",
       "<style scoped>\n",
       "    .dataframe tbody tr th:only-of-type {\n",
       "        vertical-align: middle;\n",
       "    }\n",
       "\n",
       "    .dataframe tbody tr th {\n",
       "        vertical-align: top;\n",
       "    }\n",
       "\n",
       "    .dataframe thead th {\n",
       "        text-align: right;\n",
       "    }\n",
       "</style>\n",
       "<table border=\"1\" class=\"dataframe\">\n",
       "  <thead>\n",
       "    <tr style=\"text-align: right;\">\n",
       "      <th></th>\n",
       "      <th>ProductName</th>\n",
       "      <th>Quantity</th>\n",
       "    </tr>\n",
       "  </thead>\n",
       "  <tbody>\n",
       "    <tr>\n",
       "      <td>0</td>\n",
       "      <td>Pecan Raisin - Tarts</td>\n",
       "      <td>3</td>\n",
       "    </tr>\n",
       "    <tr>\n",
       "      <td>1</td>\n",
       "      <td>Quiche Assorted</td>\n",
       "      <td>3</td>\n",
       "    </tr>\n",
       "    <tr>\n",
       "      <td>2</td>\n",
       "      <td>Potatoes - Idaho 100 Count</td>\n",
       "      <td>2</td>\n",
       "    </tr>\n",
       "    <tr>\n",
       "      <td>3</td>\n",
       "      <td>Chef Hat 20cm</td>\n",
       "      <td>2</td>\n",
       "    </tr>\n",
       "    <tr>\n",
       "      <td>4</td>\n",
       "      <td>Coffee Decaf Colombian</td>\n",
       "      <td>2</td>\n",
       "    </tr>\n",
       "  </tbody>\n",
       "</table>\n",
       "</div>"
      ],
      "text/plain": [
       "                  ProductName  Quantity\n",
       "0        Pecan Raisin - Tarts         3\n",
       "1             Quiche Assorted         3\n",
       "2  Potatoes - Idaho 100 Count         2\n",
       "3               Chef Hat 20cm         2\n",
       "4      Coffee Decaf Colombian         2"
      ]
     },
     "execution_count": 85,
     "metadata": {},
     "output_type": "execute_result"
    }
   ],
   "source": [
    "dfRank = dfSimilar[['ProductName','Quantity']].groupby('ProductName').sum().sort_values(by='Quantity',ascending=False).reset_index()\n",
    "dfRank.head()"
   ]
  },
  {
   "cell_type": "markdown",
   "metadata": {},
   "source": [
    "## Step 7: Filter the list for products that the chosen customer has not yet purchased and then recommend the top 5 products with the highest quantities that are left.\n",
    "\n",
    "- Merge the ranked products data frame with the customer product matrix on the ProductName field.\n",
    "- Filter for records where the chosen customer has not purchased the product.\n",
    "- Show the top 5 results."
   ]
  },
  {
   "cell_type": "code",
   "execution_count": 93,
   "metadata": {},
   "outputs": [
    {
     "data": {
      "text/html": [
       "<div>\n",
       "<style scoped>\n",
       "    .dataframe tbody tr th:only-of-type {\n",
       "        vertical-align: middle;\n",
       "    }\n",
       "\n",
       "    .dataframe tbody tr th {\n",
       "        vertical-align: top;\n",
       "    }\n",
       "\n",
       "    .dataframe thead th {\n",
       "        text-align: right;\n",
       "    }\n",
       "</style>\n",
       "<table border=\"1\" class=\"dataframe\">\n",
       "  <thead>\n",
       "    <tr style=\"text-align: right;\">\n",
       "      <th></th>\n",
       "      <th>ProductName</th>\n",
       "      <th>Quantity</th>\n",
       "      <th>33</th>\n",
       "    </tr>\n",
       "  </thead>\n",
       "  <tbody>\n",
       "    <tr>\n",
       "      <td>0</td>\n",
       "      <td>Pecan Raisin - Tarts</td>\n",
       "      <td>3</td>\n",
       "      <td>0</td>\n",
       "    </tr>\n",
       "    <tr>\n",
       "      <td>1</td>\n",
       "      <td>Chef Hat 20cm</td>\n",
       "      <td>2</td>\n",
       "      <td>0</td>\n",
       "    </tr>\n",
       "    <tr>\n",
       "      <td>2</td>\n",
       "      <td>Coffee Decaf Colombian</td>\n",
       "      <td>2</td>\n",
       "      <td>0</td>\n",
       "    </tr>\n",
       "    <tr>\n",
       "      <td>3</td>\n",
       "      <td>Beets - Candy Cane, Organic</td>\n",
       "      <td>2</td>\n",
       "      <td>0</td>\n",
       "    </tr>\n",
       "    <tr>\n",
       "      <td>4</td>\n",
       "      <td>Coffee - Dark Roast</td>\n",
       "      <td>2</td>\n",
       "      <td>0</td>\n",
       "    </tr>\n",
       "  </tbody>\n",
       "</table>\n",
       "</div>"
      ],
      "text/plain": [
       "                   ProductName  Quantity  33\n",
       "0         Pecan Raisin - Tarts         3   0\n",
       "1                Chef Hat 20cm         2   0\n",
       "2       Coffee Decaf Colombian         2   0\n",
       "3  Beets - Candy Cane, Organic         2   0\n",
       "4          Coffee - Dark Roast         2   0"
      ]
     },
     "execution_count": 93,
     "metadata": {},
     "output_type": "execute_result"
    }
   ],
   "source": [
    "df33 = dfPivot.reset_index()[['ProductName',33]]\n",
    "\n",
    "dfRank.merge(df33[df33[33]==0], left_on='ProductName', right_on='ProductName').head(5)"
   ]
  },
  {
   "cell_type": "markdown",
   "metadata": {},
   "source": [
    "## Step 8: Now that we have generated product recommendations for a single user, put the pieces together and iterate over a list of all CustomerIDs.\n",
    "\n",
    "- Create an empty dictionary that will hold the recommendations for all customers.\n",
    "- Create a list of unique CustomerIDs to iterate over.\n",
    "- Iterate over the customer list performing steps 4 through 7 for each and appending the results of each iteration to the dictionary you created."
   ]
  },
  {
   "cell_type": "code",
   "execution_count": 111,
   "metadata": {},
   "outputs": [],
   "source": [
    "def reco(idC):\n",
    "    listSimilar = list(dfDistances.reset_index()[['CustomerID',idC]].sort_values(by=idC,ascending=False)['CustomerID'])[1:6]\n",
    "    dfSimilar = df[df.CustomerID.isin(listSimilar)].reset_index().drop(columns='index')\n",
    "    dfid = dfPivot.reset_index()[['ProductName',idC]]\n",
    "    listaReco = list(dfRank.merge(dfid[dfid[idC]==0], left_on='ProductName', right_on='ProductName').head(5)['ProductName'])\n",
    "    return {'CustomerId':idC,\n",
    "            'Reco1':listaReco[0],\n",
    "           'Reco2':listaReco[1],\n",
    "           'Reco3':listaReco[2],\n",
    "           'Reco4':listaReco[3],\n",
    "           'Reco5':listaReco[4]}\n",
    "    \n",
    "    "
   ]
  },
  {
   "cell_type": "code",
   "execution_count": 118,
   "metadata": {},
   "outputs": [],
   "source": [
    "listRecos=[]\n",
    "for ele in data['CustomerID'].unique():\n",
    "    listRecos.append(reco(ele))"
   ]
  },
  {
   "cell_type": "code",
   "execution_count": 120,
   "metadata": {},
   "outputs": [
    {
     "data": {
      "text/plain": [
       "1000"
      ]
     },
     "execution_count": 120,
     "metadata": {},
     "output_type": "execute_result"
    }
   ],
   "source": [
    "len(listRecos)"
   ]
  },
  {
   "cell_type": "markdown",
   "metadata": {},
   "source": [
    "##  Step 9: Store the results in a Pandas data frame. The data frame should a column for Customer ID and then a column for each of the 5 product recommendations for each customer."
   ]
  },
  {
   "cell_type": "code",
   "execution_count": 124,
   "metadata": {
    "scrolled": true
   },
   "outputs": [
    {
     "data": {
      "text/html": [
       "<div>\n",
       "<style scoped>\n",
       "    .dataframe tbody tr th:only-of-type {\n",
       "        vertical-align: middle;\n",
       "    }\n",
       "\n",
       "    .dataframe tbody tr th {\n",
       "        vertical-align: top;\n",
       "    }\n",
       "\n",
       "    .dataframe thead th {\n",
       "        text-align: right;\n",
       "    }\n",
       "</style>\n",
       "<table border=\"1\" class=\"dataframe\">\n",
       "  <thead>\n",
       "    <tr style=\"text-align: right;\">\n",
       "      <th></th>\n",
       "      <th>CustomerId</th>\n",
       "      <th>Reco1</th>\n",
       "      <th>Reco2</th>\n",
       "      <th>Reco3</th>\n",
       "      <th>Reco4</th>\n",
       "      <th>Reco5</th>\n",
       "    </tr>\n",
       "  </thead>\n",
       "  <tbody>\n",
       "    <tr>\n",
       "      <td>0</td>\n",
       "      <td>61288</td>\n",
       "      <td>Pecan Raisin - Tarts</td>\n",
       "      <td>Quiche Assorted</td>\n",
       "      <td>Potatoes - Idaho 100 Count</td>\n",
       "      <td>Chef Hat 20cm</td>\n",
       "      <td>Coffee Decaf Colombian</td>\n",
       "    </tr>\n",
       "    <tr>\n",
       "      <td>1</td>\n",
       "      <td>77352</td>\n",
       "      <td>Potatoes - Idaho 100 Count</td>\n",
       "      <td>Chef Hat 20cm</td>\n",
       "      <td>Coffee Decaf Colombian</td>\n",
       "      <td>Pork - Hock And Feet Attached</td>\n",
       "      <td>Black Currants</td>\n",
       "    </tr>\n",
       "    <tr>\n",
       "      <td>2</td>\n",
       "      <td>40094</td>\n",
       "      <td>Pecan Raisin - Tarts</td>\n",
       "      <td>Quiche Assorted</td>\n",
       "      <td>Chef Hat 20cm</td>\n",
       "      <td>Coffee Decaf Colombian</td>\n",
       "      <td>Beets - Candy Cane, Organic</td>\n",
       "    </tr>\n",
       "    <tr>\n",
       "      <td>3</td>\n",
       "      <td>23548</td>\n",
       "      <td>Pecan Raisin - Tarts</td>\n",
       "      <td>Quiche Assorted</td>\n",
       "      <td>Potatoes - Idaho 100 Count</td>\n",
       "      <td>Chef Hat 20cm</td>\n",
       "      <td>Coffee Decaf Colombian</td>\n",
       "    </tr>\n",
       "    <tr>\n",
       "      <td>4</td>\n",
       "      <td>78981</td>\n",
       "      <td>Quiche Assorted</td>\n",
       "      <td>Potatoes - Idaho 100 Count</td>\n",
       "      <td>Chef Hat 20cm</td>\n",
       "      <td>Coffee Decaf Colombian</td>\n",
       "      <td>Beets - Candy Cane, Organic</td>\n",
       "    </tr>\n",
       "  </tbody>\n",
       "</table>\n",
       "</div>"
      ],
      "text/plain": [
       "   CustomerId                       Reco1                       Reco2  \\\n",
       "0       61288        Pecan Raisin - Tarts             Quiche Assorted   \n",
       "1       77352  Potatoes - Idaho 100 Count               Chef Hat 20cm   \n",
       "2       40094        Pecan Raisin - Tarts             Quiche Assorted   \n",
       "3       23548        Pecan Raisin - Tarts             Quiche Assorted   \n",
       "4       78981             Quiche Assorted  Potatoes - Idaho 100 Count   \n",
       "\n",
       "                        Reco3                          Reco4  \\\n",
       "0  Potatoes - Idaho 100 Count                  Chef Hat 20cm   \n",
       "1      Coffee Decaf Colombian  Pork - Hock And Feet Attached   \n",
       "2               Chef Hat 20cm         Coffee Decaf Colombian   \n",
       "3  Potatoes - Idaho 100 Count                  Chef Hat 20cm   \n",
       "4               Chef Hat 20cm         Coffee Decaf Colombian   \n",
       "\n",
       "                         Reco5  \n",
       "0       Coffee Decaf Colombian  \n",
       "1               Black Currants  \n",
       "2  Beets - Candy Cane, Organic  \n",
       "3       Coffee Decaf Colombian  \n",
       "4  Beets - Candy Cane, Organic  "
      ]
     },
     "execution_count": 124,
     "metadata": {},
     "output_type": "execute_result"
    }
   ],
   "source": [
    "pd.DataFrame(listRecos).head()"
   ]
  },
  {
   "cell_type": "markdown",
   "metadata": {},
   "source": [
    "## Step 10: Change the distance metric used in Step 3 to something other than euclidean (correlation, cityblock, consine, jaccard, etc.). Regenerate the recommendations for all customers and note the differences."
   ]
  },
  {
   "cell_type": "code",
   "execution_count": 125,
   "metadata": {},
   "outputs": [],
   "source": [
    "distances = pdist(dfPivot.T, 'cosine')\n",
    "distances_matrix = squareform(distances)\n",
    "dfDistances = pd.DataFrame(1/(1 + distances_matrix), index=dfPivot.columns, columns=dfPivot.columns)\n",
    "listRecos=[]\n",
    "for ele in data['CustomerID'].unique():\n",
    "    listRecos.append(reco(ele))"
   ]
  },
  {
   "cell_type": "code",
   "execution_count": 126,
   "metadata": {},
   "outputs": [
    {
     "data": {
      "text/html": [
       "<div>\n",
       "<style scoped>\n",
       "    .dataframe tbody tr th:only-of-type {\n",
       "        vertical-align: middle;\n",
       "    }\n",
       "\n",
       "    .dataframe tbody tr th {\n",
       "        vertical-align: top;\n",
       "    }\n",
       "\n",
       "    .dataframe thead th {\n",
       "        text-align: right;\n",
       "    }\n",
       "</style>\n",
       "<table border=\"1\" class=\"dataframe\">\n",
       "  <thead>\n",
       "    <tr style=\"text-align: right;\">\n",
       "      <th></th>\n",
       "      <th>CustomerId</th>\n",
       "      <th>Reco1</th>\n",
       "      <th>Reco2</th>\n",
       "      <th>Reco3</th>\n",
       "      <th>Reco4</th>\n",
       "      <th>Reco5</th>\n",
       "    </tr>\n",
       "  </thead>\n",
       "  <tbody>\n",
       "    <tr>\n",
       "      <td>0</td>\n",
       "      <td>61288</td>\n",
       "      <td>Pecan Raisin - Tarts</td>\n",
       "      <td>Quiche Assorted</td>\n",
       "      <td>Potatoes - Idaho 100 Count</td>\n",
       "      <td>Chef Hat 20cm</td>\n",
       "      <td>Coffee Decaf Colombian</td>\n",
       "    </tr>\n",
       "    <tr>\n",
       "      <td>1</td>\n",
       "      <td>77352</td>\n",
       "      <td>Potatoes - Idaho 100 Count</td>\n",
       "      <td>Chef Hat 20cm</td>\n",
       "      <td>Coffee Decaf Colombian</td>\n",
       "      <td>Pork - Hock And Feet Attached</td>\n",
       "      <td>Black Currants</td>\n",
       "    </tr>\n",
       "    <tr>\n",
       "      <td>2</td>\n",
       "      <td>40094</td>\n",
       "      <td>Pecan Raisin - Tarts</td>\n",
       "      <td>Quiche Assorted</td>\n",
       "      <td>Chef Hat 20cm</td>\n",
       "      <td>Coffee Decaf Colombian</td>\n",
       "      <td>Beets - Candy Cane, Organic</td>\n",
       "    </tr>\n",
       "    <tr>\n",
       "      <td>3</td>\n",
       "      <td>23548</td>\n",
       "      <td>Pecan Raisin - Tarts</td>\n",
       "      <td>Quiche Assorted</td>\n",
       "      <td>Potatoes - Idaho 100 Count</td>\n",
       "      <td>Chef Hat 20cm</td>\n",
       "      <td>Coffee Decaf Colombian</td>\n",
       "    </tr>\n",
       "    <tr>\n",
       "      <td>4</td>\n",
       "      <td>78981</td>\n",
       "      <td>Quiche Assorted</td>\n",
       "      <td>Potatoes - Idaho 100 Count</td>\n",
       "      <td>Chef Hat 20cm</td>\n",
       "      <td>Coffee Decaf Colombian</td>\n",
       "      <td>Beets - Candy Cane, Organic</td>\n",
       "    </tr>\n",
       "  </tbody>\n",
       "</table>\n",
       "</div>"
      ],
      "text/plain": [
       "   CustomerId                       Reco1                       Reco2  \\\n",
       "0       61288        Pecan Raisin - Tarts             Quiche Assorted   \n",
       "1       77352  Potatoes - Idaho 100 Count               Chef Hat 20cm   \n",
       "2       40094        Pecan Raisin - Tarts             Quiche Assorted   \n",
       "3       23548        Pecan Raisin - Tarts             Quiche Assorted   \n",
       "4       78981             Quiche Assorted  Potatoes - Idaho 100 Count   \n",
       "\n",
       "                        Reco3                          Reco4  \\\n",
       "0  Potatoes - Idaho 100 Count                  Chef Hat 20cm   \n",
       "1      Coffee Decaf Colombian  Pork - Hock And Feet Attached   \n",
       "2               Chef Hat 20cm         Coffee Decaf Colombian   \n",
       "3  Potatoes - Idaho 100 Count                  Chef Hat 20cm   \n",
       "4               Chef Hat 20cm         Coffee Decaf Colombian   \n",
       "\n",
       "                         Reco5  \n",
       "0       Coffee Decaf Colombian  \n",
       "1               Black Currants  \n",
       "2  Beets - Candy Cane, Organic  \n",
       "3       Coffee Decaf Colombian  \n",
       "4  Beets - Candy Cane, Organic  "
      ]
     },
     "execution_count": 126,
     "metadata": {},
     "output_type": "execute_result"
    }
   ],
   "source": [
    "pd.DataFrame(listRecos).head() #El resultado es el mismo porque ambas métricas son buenas para medir por cantidades"
   ]
  }
 ],
 "metadata": {
  "kernelspec": {
   "display_name": "Python 3",
   "language": "python",
   "name": "python3"
  },
  "language_info": {
   "codemirror_mode": {
    "name": "ipython",
    "version": 3
   },
   "file_extension": ".py",
   "mimetype": "text/x-python",
   "name": "python",
   "nbconvert_exporter": "python",
   "pygments_lexer": "ipython3",
   "version": "3.6.8"
  }
 },
 "nbformat": 4,
 "nbformat_minor": 2
}
