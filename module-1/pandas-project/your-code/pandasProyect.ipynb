{
 "cells": [
  {
   "cell_type": "code",
   "execution_count": 1,
   "metadata": {},
   "outputs": [],
   "source": [
    "#importanción de pandas\n",
    "import pandas as pd\n"
   ]
  },
  {
   "cell_type": "code",
   "execution_count": 2,
   "metadata": {},
   "outputs": [],
   "source": [
    "#lectura del e importación del csv como DataFrame\n",
    "df = pd.read_csv(\"./input/GSAF5.csv\")"
   ]
  },
  {
   "cell_type": "code",
   "execution_count": 3,
   "metadata": {},
   "outputs": [
    {
     "data": {
      "text/plain": [
       "(5992, 24)"
      ]
     },
     "execution_count": 3,
     "metadata": {},
     "output_type": "execute_result"
    }
   ],
   "source": [
    "df.shape"
   ]
  },
  {
   "cell_type": "code",
   "execution_count": 4,
   "metadata": {},
   "outputs": [
    {
     "name": "stdout",
     "output_type": "stream",
     "text": [
      "Index(['Case Number', 'Date', 'Year', 'Type', 'Country', 'Area', 'Location',\n",
      "       'Activity', 'Name', 'Sex ', 'Age', 'Injury', 'Fatal (Y/N)', 'Time',\n",
      "       'Species ', 'Investigator or Source', 'pdf', 'href formula', 'href',\n",
      "       'Case Number.1', 'Case Number.2', 'original order', 'Unnamed: 22',\n",
      "       'Unnamed: 23'],\n",
      "      dtype='object')\n"
     ]
    }
   ],
   "source": [
    "print(df.columns)"
   ]
  },
  {
   "cell_type": "code",
   "execution_count": 5,
   "metadata": {},
   "outputs": [
    {
     "data": {
      "text/html": [
       "<div>\n",
       "<style scoped>\n",
       "    .dataframe tbody tr th:only-of-type {\n",
       "        vertical-align: middle;\n",
       "    }\n",
       "\n",
       "    .dataframe tbody tr th {\n",
       "        vertical-align: top;\n",
       "    }\n",
       "\n",
       "    .dataframe thead th {\n",
       "        text-align: right;\n",
       "    }\n",
       "</style>\n",
       "<table border=\"1\" class=\"dataframe\">\n",
       "  <thead>\n",
       "    <tr style=\"text-align: right;\">\n",
       "      <th></th>\n",
       "      <th>caseNumber</th>\n",
       "      <th>date</th>\n",
       "      <th>year</th>\n",
       "      <th>type</th>\n",
       "      <th>country</th>\n",
       "      <th>area</th>\n",
       "      <th>location</th>\n",
       "      <th>activity</th>\n",
       "      <th>name</th>\n",
       "      <th>sex</th>\n",
       "      <th>...</th>\n",
       "      <th>species</th>\n",
       "      <th>investigatorSource</th>\n",
       "      <th>pdf</th>\n",
       "      <th>hrefFormula</th>\n",
       "      <th>href</th>\n",
       "      <th>caseNumber1</th>\n",
       "      <th>caseNumber2</th>\n",
       "      <th>originalOrder</th>\n",
       "      <th>Unnamed22</th>\n",
       "      <th>Unnamed23</th>\n",
       "    </tr>\n",
       "  </thead>\n",
       "  <tbody>\n",
       "    <tr>\n",
       "      <td>0</td>\n",
       "      <td>2016.09.18.c</td>\n",
       "      <td>18-Sep-16</td>\n",
       "      <td>2016</td>\n",
       "      <td>Unprovoked</td>\n",
       "      <td>USA</td>\n",
       "      <td>Florida</td>\n",
       "      <td>New Smyrna Beach, Volusia County</td>\n",
       "      <td>Surfing</td>\n",
       "      <td>male</td>\n",
       "      <td>M</td>\n",
       "      <td>...</td>\n",
       "      <td>NaN</td>\n",
       "      <td>Orlando Sentinel, 9/19/2016</td>\n",
       "      <td>2016.09.18.c-NSB.pdf</td>\n",
       "      <td>http://sharkattackfile.net/spreadsheets/pdf_di...</td>\n",
       "      <td>http://sharkattackfile.net/spreadsheets/pdf_di...</td>\n",
       "      <td>2016.09.18.c</td>\n",
       "      <td>2016.09.18.c</td>\n",
       "      <td>5993</td>\n",
       "      <td>NaN</td>\n",
       "      <td>NaN</td>\n",
       "    </tr>\n",
       "    <tr>\n",
       "      <td>1</td>\n",
       "      <td>2016.09.18.b</td>\n",
       "      <td>18-Sep-16</td>\n",
       "      <td>2016</td>\n",
       "      <td>Unprovoked</td>\n",
       "      <td>USA</td>\n",
       "      <td>Florida</td>\n",
       "      <td>New Smyrna Beach, Volusia County</td>\n",
       "      <td>Surfing</td>\n",
       "      <td>Chucky Luciano</td>\n",
       "      <td>M</td>\n",
       "      <td>...</td>\n",
       "      <td>NaN</td>\n",
       "      <td>Orlando Sentinel, 9/19/2016</td>\n",
       "      <td>2016.09.18.b-Luciano.pdf</td>\n",
       "      <td>http://sharkattackfile.net/spreadsheets/pdf_di...</td>\n",
       "      <td>http://sharkattackfile.net/spreadsheets/pdf_di...</td>\n",
       "      <td>2016.09.18.b</td>\n",
       "      <td>2016.09.18.b</td>\n",
       "      <td>5992</td>\n",
       "      <td>NaN</td>\n",
       "      <td>NaN</td>\n",
       "    </tr>\n",
       "    <tr>\n",
       "      <td>2</td>\n",
       "      <td>2016.09.18.a</td>\n",
       "      <td>18-Sep-16</td>\n",
       "      <td>2016</td>\n",
       "      <td>Unprovoked</td>\n",
       "      <td>USA</td>\n",
       "      <td>Florida</td>\n",
       "      <td>New Smyrna Beach, Volusia County</td>\n",
       "      <td>Surfing</td>\n",
       "      <td>male</td>\n",
       "      <td>M</td>\n",
       "      <td>...</td>\n",
       "      <td>NaN</td>\n",
       "      <td>Orlando Sentinel, 9/19/2016</td>\n",
       "      <td>2016.09.18.a-NSB.pdf</td>\n",
       "      <td>http://sharkattackfile.net/spreadsheets/pdf_di...</td>\n",
       "      <td>http://sharkattackfile.net/spreadsheets/pdf_di...</td>\n",
       "      <td>2016.09.18.a</td>\n",
       "      <td>2016.09.18.a</td>\n",
       "      <td>5991</td>\n",
       "      <td>NaN</td>\n",
       "      <td>NaN</td>\n",
       "    </tr>\n",
       "    <tr>\n",
       "      <td>3</td>\n",
       "      <td>2016.09.17</td>\n",
       "      <td>17-Sep-16</td>\n",
       "      <td>2016</td>\n",
       "      <td>Unprovoked</td>\n",
       "      <td>AUSTRALIA</td>\n",
       "      <td>Victoria</td>\n",
       "      <td>Thirteenth Beach</td>\n",
       "      <td>Surfing</td>\n",
       "      <td>Rory Angiolella</td>\n",
       "      <td>M</td>\n",
       "      <td>...</td>\n",
       "      <td>NaN</td>\n",
       "      <td>The Age, 9/18/2016</td>\n",
       "      <td>2016.09.17-Angiolella.pdf</td>\n",
       "      <td>http://sharkattackfile.net/spreadsheets/pdf_di...</td>\n",
       "      <td>http://sharkattackfile.net/spreadsheets/pdf_di...</td>\n",
       "      <td>2016.09.17</td>\n",
       "      <td>2016.09.17</td>\n",
       "      <td>5990</td>\n",
       "      <td>NaN</td>\n",
       "      <td>NaN</td>\n",
       "    </tr>\n",
       "    <tr>\n",
       "      <td>4</td>\n",
       "      <td>2016.09.15</td>\n",
       "      <td>16-Sep-16</td>\n",
       "      <td>2016</td>\n",
       "      <td>Unprovoked</td>\n",
       "      <td>AUSTRALIA</td>\n",
       "      <td>Victoria</td>\n",
       "      <td>Bells Beach</td>\n",
       "      <td>Surfing</td>\n",
       "      <td>male</td>\n",
       "      <td>M</td>\n",
       "      <td>...</td>\n",
       "      <td>2 m shark</td>\n",
       "      <td>The Age, 9/16/2016</td>\n",
       "      <td>2016.09.16-BellsBeach.pdf</td>\n",
       "      <td>http://sharkattackfile.net/spreadsheets/pdf_di...</td>\n",
       "      <td>http://sharkattackfile.net/spreadsheets/pdf_di...</td>\n",
       "      <td>2016.09.16</td>\n",
       "      <td>2016.09.15</td>\n",
       "      <td>5989</td>\n",
       "      <td>NaN</td>\n",
       "      <td>NaN</td>\n",
       "    </tr>\n",
       "  </tbody>\n",
       "</table>\n",
       "<p>5 rows × 24 columns</p>\n",
       "</div>"
      ],
      "text/plain": [
       "     caseNumber       date  year        type    country      area  \\\n",
       "0  2016.09.18.c  18-Sep-16  2016  Unprovoked        USA   Florida   \n",
       "1  2016.09.18.b  18-Sep-16  2016  Unprovoked        USA   Florida   \n",
       "2  2016.09.18.a  18-Sep-16  2016  Unprovoked        USA   Florida   \n",
       "3    2016.09.17  17-Sep-16  2016  Unprovoked  AUSTRALIA  Victoria   \n",
       "4    2016.09.15  16-Sep-16  2016  Unprovoked  AUSTRALIA  Victoria   \n",
       "\n",
       "                           location activity             name sex  ...  \\\n",
       "0  New Smyrna Beach, Volusia County  Surfing             male   M  ...   \n",
       "1  New Smyrna Beach, Volusia County  Surfing   Chucky Luciano   M  ...   \n",
       "2  New Smyrna Beach, Volusia County  Surfing             male   M  ...   \n",
       "3                  Thirteenth Beach  Surfing  Rory Angiolella   M  ...   \n",
       "4                       Bells Beach  Surfing             male   M  ...   \n",
       "\n",
       "     species           investigatorSource                        pdf  \\\n",
       "0        NaN  Orlando Sentinel, 9/19/2016       2016.09.18.c-NSB.pdf   \n",
       "1        NaN  Orlando Sentinel, 9/19/2016   2016.09.18.b-Luciano.pdf   \n",
       "2        NaN  Orlando Sentinel, 9/19/2016       2016.09.18.a-NSB.pdf   \n",
       "3        NaN           The Age, 9/18/2016  2016.09.17-Angiolella.pdf   \n",
       "4  2 m shark           The Age, 9/16/2016  2016.09.16-BellsBeach.pdf   \n",
       "\n",
       "                                         hrefFormula  \\\n",
       "0  http://sharkattackfile.net/spreadsheets/pdf_di...   \n",
       "1  http://sharkattackfile.net/spreadsheets/pdf_di...   \n",
       "2  http://sharkattackfile.net/spreadsheets/pdf_di...   \n",
       "3  http://sharkattackfile.net/spreadsheets/pdf_di...   \n",
       "4  http://sharkattackfile.net/spreadsheets/pdf_di...   \n",
       "\n",
       "                                                href   caseNumber1  \\\n",
       "0  http://sharkattackfile.net/spreadsheets/pdf_di...  2016.09.18.c   \n",
       "1  http://sharkattackfile.net/spreadsheets/pdf_di...  2016.09.18.b   \n",
       "2  http://sharkattackfile.net/spreadsheets/pdf_di...  2016.09.18.a   \n",
       "3  http://sharkattackfile.net/spreadsheets/pdf_di...    2016.09.17   \n",
       "4  http://sharkattackfile.net/spreadsheets/pdf_di...    2016.09.16   \n",
       "\n",
       "    caseNumber2 originalOrder Unnamed22 Unnamed23  \n",
       "0  2016.09.18.c          5993       NaN       NaN  \n",
       "1  2016.09.18.b          5992       NaN       NaN  \n",
       "2  2016.09.18.a          5991       NaN       NaN  \n",
       "3    2016.09.17          5990       NaN       NaN  \n",
       "4    2016.09.15          5989       NaN       NaN  \n",
       "\n",
       "[5 rows x 24 columns]"
      ]
     },
     "execution_count": 5,
     "metadata": {},
     "output_type": "execute_result"
    }
   ],
   "source": [
    "#voy a renombrar columnas para facilitar el acceso\n",
    "df.columns =['caseNumber', 'date', 'year', 'type', 'country', 'area', 'location',\n",
    "       'activity', 'name', 'sex', 'age', 'injury', 'fatal(Y/N)', 'time',\n",
    "       'species', 'investigatorSource', 'pdf', 'hrefFormula', 'href',\n",
    "       'caseNumber1', 'caseNumber2', 'originalOrder', 'Unnamed22',\n",
    "       'Unnamed23']\n",
    "df.head()"
   ]
  },
  {
   "cell_type": "code",
   "execution_count": 6,
   "metadata": {},
   "outputs": [
    {
     "data": {
      "text/plain": [
       "caseNumber               0\n",
       "date                     0\n",
       "year                     0\n",
       "type                     0\n",
       "country                 43\n",
       "area                   402\n",
       "location               496\n",
       "activity               527\n",
       "name                   200\n",
       "sex                    567\n",
       "age                   2681\n",
       "injury                  27\n",
       "fatal(Y/N)              19\n",
       "time                  3213\n",
       "species               2934\n",
       "investigatorSource      15\n",
       "pdf                      0\n",
       "hrefFormula              1\n",
       "href                     3\n",
       "caseNumber1              0\n",
       "caseNumber2              0\n",
       "originalOrder            0\n",
       "Unnamed22             5991\n",
       "Unnamed23             5990\n",
       "dtype: int64"
      ]
     },
     "execution_count": 6,
     "metadata": {},
     "output_type": "execute_result"
    }
   ],
   "source": [
    "#Compruebo columnas con valores nulos\n",
    "null_cols = df.isnull().sum()\n",
    "null_cols[null_cols > 0]\n",
    "null_cols"
   ]
  },
  {
   "cell_type": "code",
   "execution_count": 7,
   "metadata": {},
   "outputs": [],
   "source": [
    "#Guardo un data Frame con las columnas que no tienen valores nulos, están limpias\n",
    "dfNotNull = df[[\"caseNumber\",\"date\",\"year\",\"type\",\"pdf\",\"caseNumber1\",\"caseNumber2\",\"originalOrder\"]]"
   ]
  },
  {
   "cell_type": "code",
   "execution_count": 8,
   "metadata": {},
   "outputs": [],
   "source": [
    "'''En este punto tomo la decisión de dropear del Data Frame principal las columnas Unnamed22 y 23,\n",
    "pues la totalidad de sus registros prácticamente son nulos'''\n",
    "df = df.drop(columns = [\"Unnamed22\",\"Unnamed23\"])"
   ]
  },
  {
   "cell_type": "code",
   "execution_count": 9,
   "metadata": {},
   "outputs": [],
   "source": [
    "'''la siguiente columnas con bastantes nulos es edad, esta vez lo que voy a hacer es meter en el dfNotNull una columna\n",
    " que se llame age(-1NoData) con los valores validos mas -1 para los valores inválidos'''\n",
    "dfNotNull[\"age(-1NoData)\"] = df['age'].fillna(-1)"
   ]
  },
  {
   "cell_type": "code",
   "execution_count": 10,
   "metadata": {},
   "outputs": [
    {
     "data": {
      "text/html": [
       "<div>\n",
       "<style scoped>\n",
       "    .dataframe tbody tr th:only-of-type {\n",
       "        vertical-align: middle;\n",
       "    }\n",
       "\n",
       "    .dataframe tbody tr th {\n",
       "        vertical-align: top;\n",
       "    }\n",
       "\n",
       "    .dataframe thead th {\n",
       "        text-align: right;\n",
       "    }\n",
       "</style>\n",
       "<table border=\"1\" class=\"dataframe\">\n",
       "  <thead>\n",
       "    <tr style=\"text-align: right;\">\n",
       "      <th></th>\n",
       "      <th>time</th>\n",
       "    </tr>\n",
       "  </thead>\n",
       "  <tbody>\n",
       "    <tr>\n",
       "      <td>Afternoon</td>\n",
       "      <td>174</td>\n",
       "    </tr>\n",
       "    <tr>\n",
       "      <td>11h00</td>\n",
       "      <td>123</td>\n",
       "    </tr>\n",
       "    <tr>\n",
       "      <td>Morning</td>\n",
       "      <td>107</td>\n",
       "    </tr>\n",
       "    <tr>\n",
       "      <td>12h00</td>\n",
       "      <td>107</td>\n",
       "    </tr>\n",
       "    <tr>\n",
       "      <td>15h00</td>\n",
       "      <td>100</td>\n",
       "    </tr>\n",
       "    <tr>\n",
       "      <td>...</td>\n",
       "      <td>...</td>\n",
       "    </tr>\n",
       "    <tr>\n",
       "      <td>10h07</td>\n",
       "      <td>1</td>\n",
       "    </tr>\n",
       "    <tr>\n",
       "      <td>12h35</td>\n",
       "      <td>1</td>\n",
       "    </tr>\n",
       "    <tr>\n",
       "      <td>10h30 or 13h30</td>\n",
       "      <td>1</td>\n",
       "    </tr>\n",
       "    <tr>\n",
       "      <td>2 hours after Opperman</td>\n",
       "      <td>1</td>\n",
       "    </tr>\n",
       "    <tr>\n",
       "      <td>&gt;06h45</td>\n",
       "      <td>1</td>\n",
       "    </tr>\n",
       "  </tbody>\n",
       "</table>\n",
       "<p>357 rows × 1 columns</p>\n",
       "</div>"
      ],
      "text/plain": [
       "                        time\n",
       "Afternoon                174\n",
       "11h00                    123\n",
       "Morning                  107\n",
       "12h00                    107\n",
       "15h00                    100\n",
       "...                      ...\n",
       "10h07                      1\n",
       "12h35                      1\n",
       "10h30 or 13h30             1\n",
       "2 hours after Opperman     1\n",
       ">06h45                     1\n",
       "\n",
       "[357 rows x 1 columns]"
      ]
     },
     "execution_count": 10,
     "metadata": {},
     "output_type": "execute_result"
    }
   ],
   "source": [
    "'''La siguiente columna con muchos nulos, más de la mitad es time, voy a hacer un display para decidir si me interesa\n",
    "guardar esa info'''\n",
    "\n",
    "pd.DataFrame(df['time'].value_counts())"
   ]
  },
  {
   "cell_type": "code",
   "execution_count": 11,
   "metadata": {},
   "outputs": [],
   "source": [
    "'''Voy a cambiar los nulos, merece la pena limpiar la columna'''\n",
    "dfNotNull[\"timeDirty\"] = df['time'].fillna(\"noData\")"
   ]
  },
  {
   "cell_type": "code",
   "execution_count": 12,
   "metadata": {},
   "outputs": [
    {
     "data": {
      "text/html": [
       "<div>\n",
       "<style scoped>\n",
       "    .dataframe tbody tr th:only-of-type {\n",
       "        vertical-align: middle;\n",
       "    }\n",
       "\n",
       "    .dataframe tbody tr th {\n",
       "        vertical-align: top;\n",
       "    }\n",
       "\n",
       "    .dataframe thead th {\n",
       "        text-align: right;\n",
       "    }\n",
       "</style>\n",
       "<table border=\"1\" class=\"dataframe\">\n",
       "  <thead>\n",
       "    <tr style=\"text-align: right;\">\n",
       "      <th></th>\n",
       "      <th>species</th>\n",
       "    </tr>\n",
       "  </thead>\n",
       "  <tbody>\n",
       "    <tr>\n",
       "      <td>White shark</td>\n",
       "      <td>161</td>\n",
       "    </tr>\n",
       "    <tr>\n",
       "      <td>Shark involvement not confirmed</td>\n",
       "      <td>80</td>\n",
       "    </tr>\n",
       "    <tr>\n",
       "      <td>Tiger shark</td>\n",
       "      <td>68</td>\n",
       "    </tr>\n",
       "    <tr>\n",
       "      <td>Bull shark</td>\n",
       "      <td>52</td>\n",
       "    </tr>\n",
       "    <tr>\n",
       "      <td>6' shark</td>\n",
       "      <td>40</td>\n",
       "    </tr>\n",
       "    <tr>\n",
       "      <td>...</td>\n",
       "      <td>...</td>\n",
       "    </tr>\n",
       "    <tr>\n",
       "      <td>Possibly a 10' bull shark</td>\n",
       "      <td>1</td>\n",
       "    </tr>\n",
       "    <tr>\n",
       "      <td>\"Shark caught later\"</td>\n",
       "      <td>1</td>\n",
       "    </tr>\n",
       "    <tr>\n",
       "      <td>White shark, 1.8 m to 2.1 m [6' to 7']  according to Shreuder and a witness</td>\n",
       "      <td>1</td>\n",
       "    </tr>\n",
       "    <tr>\n",
       "      <td>Grey nurse shark, 4'</td>\n",
       "      <td>1</td>\n",
       "    </tr>\n",
       "    <tr>\n",
       "      <td>Six Zambesi sharks seen to 1.5 m [5'] in length</td>\n",
       "      <td>1</td>\n",
       "    </tr>\n",
       "  </tbody>\n",
       "</table>\n",
       "<p>1538 rows × 1 columns</p>\n",
       "</div>"
      ],
      "text/plain": [
       "                                                    species\n",
       "White shark                                             161\n",
       "Shark involvement not confirmed                          80\n",
       "Tiger shark                                              68\n",
       "Bull shark                                               52\n",
       "6' shark                                                 40\n",
       "...                                                     ...\n",
       "Possibly a 10' bull shark                                 1\n",
       "\"Shark caught later\"                                      1\n",
       "White shark, 1.8 m to 2.1 m [6' to 7']  accordi...        1\n",
       "Grey nurse shark, 4'                                      1\n",
       "Six Zambesi sharks seen to 1.5 m [5'] in length           1\n",
       "\n",
       "[1538 rows x 1 columns]"
      ]
     },
     "execution_count": 12,
     "metadata": {},
     "output_type": "execute_result"
    }
   ],
   "source": [
    "'''Voy a analizar species'''\n",
    "pd.DataFrame(df[\"species\"].value_counts())"
   ]
  },
  {
   "cell_type": "code",
   "execution_count": 13,
   "metadata": {},
   "outputs": [],
   "source": [
    "'''Decido cambiar los nulos a Shark involvement not confirmed, parece lógico agrupar en esta categoría los nulos'''\n",
    "dfNotNull[\"species\"] = df['species'].fillna(\"Shark involvement not confirmed\")\n"
   ]
  },
  {
   "cell_type": "code",
   "execution_count": 14,
   "metadata": {},
   "outputs": [
    {
     "data": {
      "text/plain": [
       "'el resto de columnas que tienen no válidos contienen pocos por lo que voy a meter valores que no lleven a confusión'"
      ]
     },
     "execution_count": 14,
     "metadata": {},
     "output_type": "execute_result"
    }
   ],
   "source": [
    "'''el resto de columnas que tienen no válidos contienen pocos por lo que voy a meter valores que no lleven a confusión'''"
   ]
  },
  {
   "cell_type": "code",
   "execution_count": 15,
   "metadata": {},
   "outputs": [
    {
     "data": {
      "text/plain": [
       "caseNumber            0\n",
       "date                  0\n",
       "year                  0\n",
       "type                  0\n",
       "pdf                   0\n",
       "caseNumber1           0\n",
       "caseNumber2           0\n",
       "originalOrder         0\n",
       "age(-1NoData)         0\n",
       "timeDirty             0\n",
       "species               0\n",
       "country               0\n",
       "area                  0\n",
       "location              0\n",
       "activity              0\n",
       "name                  0\n",
       "sex                   0\n",
       "injury                0\n",
       "fatal(Y/N/unknow)     0\n",
       "investigatorSource    0\n",
       "hrefFormula           0\n",
       "href                  0\n",
       "dtype: int64"
      ]
     },
     "execution_count": 15,
     "metadata": {},
     "output_type": "execute_result"
    }
   ],
   "source": [
    "dfNotNull[\"country\"] = df['country'].fillna(\"unknown\")\n",
    "dfNotNull[\"area\"] = df['area'].fillna(\"unknown\")\n",
    "dfNotNull[\"location\"] = df['location'].fillna(\"unknown\")\n",
    "dfNotNull[\"activity\"] = df['activity'].fillna(\"unknown\")\n",
    "dfNotNull[\"name\"] = df['name'].fillna(\"unknown\")\n",
    "dfNotNull[\"sex\"] = df['sex'].fillna(\"unknown\")\n",
    "dfNotNull[\"injury\"] = df['injury'].fillna(\"unknown\")\n",
    "dfNotNull[\"fatal(Y/N/unknow)\"] = df['fatal(Y/N)'].fillna(\"unknown\")\n",
    "dfNotNull[\"investigatorSource\"] = df['investigatorSource'].fillna(\"unknown\")\n",
    "dfNotNull[\"hrefFormula\"] = df['hrefFormula'].fillna(\"unknown\")\n",
    "dfNotNull[\"href\"] = df['href'].fillna(\"unknown\")\n",
    "#Compruebo que no hay nulos\n",
    "null_cols = dfNotNull.isnull().sum()\n",
    "#null_cols[null_cols > 0]\n",
    "null_cols\n"
   ]
  },
  {
   "cell_type": "code",
   "execution_count": 16,
   "metadata": {},
   "outputs": [
    {
     "data": {
      "text/plain": [
       "N          4315\n",
       "Y          1552\n",
       "UNKNOWN      94\n",
       "unknown      19\n",
       " N            8\n",
       "#VALUE!       1\n",
       "F             1\n",
       "N             1\n",
       "n             1\n",
       "Name: fatal(Y/N/unknow), dtype: int64"
      ]
     },
     "execution_count": 16,
     "metadata": {},
     "output_type": "execute_result"
    }
   ],
   "source": [
    "#limpieza de \"fatal\"\n",
    "fatal = \"fatal(Y/N/unknow)\"\n",
    "cleanFatal = dfNotNull[fatal]\n",
    "cleanFatal.value_counts()"
   ]
  },
  {
   "cell_type": "code",
   "execution_count": 17,
   "metadata": {},
   "outputs": [
    {
     "data": {
      "text/plain": [
       "N          4421\n",
       "Y          1552\n",
       "UNKNOWN      19\n",
       "Name: fatal(Y/N/unknow), dtype: int64"
      ]
     },
     "execution_count": 17,
     "metadata": {},
     "output_type": "execute_result"
    }
   ],
   "source": [
    "from functions import cleanTextInFatal\n",
    "cleanFatal = cleanFatal.apply(cleanTextInFatal)\n",
    "cleanFatal.value_counts()\n"
   ]
  },
  {
   "cell_type": "code",
   "execution_count": 18,
   "metadata": {},
   "outputs": [],
   "source": [
    "#Lo añado a un dataFrame que tendrá los datos limpios\n",
    "dfClean = pd.DataFrame(cleanFatal)\n",
    "dfNotNull = dfNotNull.drop(columns =fatal)\n",
    "#elimino los objetos que no voy a usar\n",
    "del cleanFatal\n",
    "del fatal"
   ]
  },
  {
   "cell_type": "code",
   "execution_count": 19,
   "metadata": {},
   "outputs": [
    {
     "data": {
      "text/plain": [
       "Index(['caseNumber', 'date', 'year', 'type', 'pdf', 'caseNumber1',\n",
       "       'caseNumber2', 'originalOrder', 'age(-1NoData)', 'timeDirty', 'species',\n",
       "       'country', 'area', 'location', 'activity', 'name', 'sex', 'injury',\n",
       "       'investigatorSource', 'hrefFormula', 'href'],\n",
       "      dtype='object')"
      ]
     },
     "execution_count": 19,
     "metadata": {},
     "output_type": "execute_result"
    }
   ],
   "source": [
    "dfNotNull.columns"
   ]
  },
  {
   "cell_type": "code",
   "execution_count": 20,
   "metadata": {},
   "outputs": [
    {
     "data": {
      "text/plain": [
       "Unprovoked      4386\n",
       "Provoked         557\n",
       "Invalid          519\n",
       "Sea Disaster     220\n",
       "Boat             200\n",
       "Boating          110\n",
       "Name: type, dtype: int64"
      ]
     },
     "execution_count": 20,
     "metadata": {},
     "output_type": "execute_result"
    }
   ],
   "source": [
    "#voy a analizar type\n",
    "dfNotNull[\"type\"].value_counts()"
   ]
  },
  {
   "cell_type": "code",
   "execution_count": 21,
   "metadata": {},
   "outputs": [
    {
     "data": {
      "text/plain": [
       "Unprovoked    4386\n",
       "UNKNOWN       1049\n",
       "Provoked       557\n",
       "Name: type, dtype: int64"
      ]
     },
     "execution_count": 21,
     "metadata": {},
     "output_type": "execute_result"
    }
   ],
   "source": [
    "#diría que no tiene demasiado sentido Sea disaster, boat y boating, los voy a cambiar a junto con Ivalid a unknown\n",
    "dfClean[\"type\"]=dfNotNull[\"type\"].replace(\n",
    "    ['Invalid', 'Sea Disaster',\"Boat\",\"Boating\"],\n",
    "    'UNKNOWN',\n",
    "    \n",
    ")\n",
    "dfNotNull=dfNotNull.drop(columns = \"type\")\n",
    "dfClean[\"type\"].value_counts()"
   ]
  },
  {
   "cell_type": "code",
   "execution_count": 22,
   "metadata": {},
   "outputs": [
    {
     "data": {
      "text/plain": [
       "Index(['caseNumber', 'date', 'year', 'pdf', 'caseNumber1', 'caseNumber2',\n",
       "       'originalOrder', 'age(-1NoData)', 'timeDirty', 'species', 'country',\n",
       "       'area', 'location', 'activity', 'name', 'sex', 'injury',\n",
       "       'investigatorSource', 'hrefFormula', 'href'],\n",
       "      dtype='object')"
      ]
     },
     "execution_count": 22,
     "metadata": {},
     "output_type": "execute_result"
    }
   ],
   "source": [
    "dfNotNull.columns"
   ]
  },
  {
   "cell_type": "code",
   "execution_count": null,
   "metadata": {},
   "outputs": [],
   "source": [
    "\n",
    "\n",
    "\n"
   ]
  },
  {
   "cell_type": "code",
   "execution_count": 23,
   "metadata": {},
   "outputs": [
    {
     "data": {
      "text/plain": [
       "Surfing                 904\n",
       "Swimming                819\n",
       "unknown                 527\n",
       "Fishing                 414\n",
       "Spearfishing            321\n",
       "Bathing                 153\n",
       "Wading                  144\n",
       "Diving                  123\n",
       "Standing                 97\n",
       "Snorkeling               77\n",
       "Scuba diving             74\n",
       "Body boarding            54\n",
       "Body surfing             48\n",
       "Swimming                 47\n",
       "Pearl diving             32\n",
       "Treading water           32\n",
       "Boogie boarding          28\n",
       "Kayaking                 28\n",
       "Free diving              26\n",
       "Fell overboard           21\n",
       "Windsurfing              18\n",
       "Boogie Boarding          16\n",
       "Shark fishing            15\n",
       "Walking                  15\n",
       "Surf skiing              12\n",
       "Canoeing                 12\n",
       "Rowing                   12\n",
       "Fishing                  12\n",
       "Surf-skiing              12\n",
       "Floating                 12\n",
       "Fishing for sharks       11\n",
       "Surf fishing             11\n",
       "Freediving               10\n",
       "Kayak Fishing            10\n",
       "Sponge diving            10\n",
       "Sitting on surfboard      9\n",
       "Diving for trochus        9\n",
       "Sailing                   9\n",
       "Sea disaster              8\n",
       "Fell into the water       8\n",
       "Name: activity, dtype: int64"
      ]
     },
     "execution_count": 23,
     "metadata": {},
     "output_type": "execute_result"
    }
   ],
   "source": [
    "#paso a activity\n",
    "activitySerie = dfNotNull[\"activity\"]\n",
    "activitySerie.value_counts().head(40)\n"
   ]
  },
  {
   "cell_type": "code",
   "execution_count": 24,
   "metadata": {},
   "outputs": [
    {
     "data": {
      "text/plain": [
       "Surfing                  920\n",
       "Swimming                 873\n",
       "unknown                  539\n",
       "Fishing                  426\n",
       "Spearfishing             349\n",
       "Wading                   295\n",
       "Diving                   181\n",
       "Bathing                  153\n",
       "Snorkeling                77\n",
       "Scuba diving              74\n",
       "Body boarding             54\n",
       "Body surfing              48\n",
       "Boating                   38\n",
       "Pearl diving              32\n",
       "Kayaking                  28\n",
       "Boogie boarding           28\n",
       "Free diving               26\n",
       "Fell overboard            21\n",
       "Surf skiing               18\n",
       "Windsurfing               18\n",
       "Boogie Boarding           16\n",
       "Shark fishing             15\n",
       "Rowing                    12\n",
       "Surf-skiing               12\n",
       "Floating                  12\n",
       "Surf fishing              11\n",
       "Fishing for sharks        11\n",
       "Kayak Fishing             10\n",
       "Sailing                    9\n",
       "Sea disaster               8\n",
       "Paddle boarding            7\n",
       "Kite Surfing               6\n",
       "Fishing on a boat          5\n",
       "Freedom swimming           5\n",
       "Shipwreck                  5\n",
       "Paddleskiing               5\n",
       "Seine netting              4\n",
       "Wade Fishing               4\n",
       "Skin diving                4\n",
       "Jumped into the water      4\n",
       "Name: activity, dtype: int64"
      ]
     },
     "execution_count": 24,
     "metadata": {},
     "output_type": "execute_result"
    }
   ],
   "source": [
    "\"Voy a hacer alguno replace para unificar algunos datos fáciles\"\n",
    "activitySerie=activitySerie.replace(\n",
    "    ['Swimming ',\"Floating on his back\"],\n",
    "    'Swimming',\n",
    "    \n",
    ")\n",
    "activitySerie=activitySerie.replace(\n",
    "    'Fishing ',\n",
    "    'Fishing',\n",
    "    \n",
    ")\n",
    "activitySerie=activitySerie.replace(\n",
    "    ['Diving for abalone',\"Diving for trochus\",\"Fishing for mackerel\",\"Free diving for abalone\",\"Sponge diving\",\n",
    "    \"Hard hat diving\", \"Diving for coins\",\"Freediving\"\n",
    "],\n",
    "\"Diving\"    \n",
    ")\n",
    "\n",
    "activitySerie=activitySerie.replace(\n",
    "    ['Surfing (sitting on his board)',\"Sitting on surfboard\"],\n",
    "\"Surfing\"   \n",
    ")\n",
    "\n",
    "activitySerie=activitySerie.replace(\n",
    "    ['Treading water',\"Playing\",\"Walking\",\"Standing\"],\n",
    "\"Wading\"  \n",
    ")\n",
    "activitySerie=activitySerie.replace(\n",
    "    ['Spearfishing ',\"Skindiving\",\"Spearfishing on Scuba\",\"Scuba diving (but on surface)\",\"Scuba diving (submerged)\"],\n",
    "\"Spearfishing\"   \n",
    ")\n",
    "activitySerie=activitySerie.replace(\n",
    "    [\"Murder\",\"Sea Disaster\"],\n",
    "\"unknown\"  \n",
    ")\n",
    "activitySerie=activitySerie.replace(\n",
    "    ['Fell overboard ',\"Canoeing\",\"Fell into the water\",\"Boat\",\"Dangling feet in the water\",\"Sailing \"],\n",
    "\"Boating\"   \n",
    ")\n",
    "\n",
    "activitySerie=activitySerie.replace(\n",
    "    ['Surf-skiing  ',\"Surf skiing \"],\n",
    "\"Surf skiing\"   \n",
    ")\n",
    "\n",
    "activitySerie=activitySerie.replace(\n",
    "    ['Sea Disaster '],\n",
    "\"Sea Disaster\"   \n",
    ")\n",
    " \n",
    "activitySerie.value_counts().head(40)\n"
   ]
  },
  {
   "cell_type": "code",
   "execution_count": 25,
   "metadata": {},
   "outputs": [
    {
     "name": "stdout",
     "output_type": "stream",
     "text": [
      "1436\n"
     ]
    }
   ],
   "source": [
    "#Voy a categorizar la columna en los grupos que actualmente tienen más de 6 registros, \n",
    "#para ello hago una lista con los que tienen menos de 11 para ir filtrando y ver en qué categoria los meto \n",
    "\n",
    "badGroupsInActivity =pd.DataFrame(activitySerie.value_counts()).query(\"activity<11\").index\n",
    "\n",
    "badGroupsInActivity = [str(ele) for ele in badGroupsInActivity]\n",
    "print(len(badGroupsInActivity))"
   ]
  },
  {
   "cell_type": "code",
   "execution_count": 26,
   "metadata": {},
   "outputs": [],
   "source": [
    "#Programé unas funciones para que me formatearan en las categorías la columna\n",
    "from functions import cleanActivity\n"
   ]
  },
  {
   "cell_type": "code",
   "execution_count": 27,
   "metadata": {},
   "outputs": [
    {
     "data": {
      "text/plain": [
       "Bathing               1019\n",
       "Surfing               1015\n",
       "Swimming               873\n",
       "Fishing                650\n",
       "unknown                539\n",
       "Spearfishing           399\n",
       "Diving                 378\n",
       "Wading                 295\n",
       "Sailing                139\n",
       "Scuba diving           114\n",
       "Snorkeling              77\n",
       "Body boarding           54\n",
       "Shark fishing           51\n",
       "Body surfing            48\n",
       "Boating                 38\n",
       "Pearl diving            32\n",
       "Kayaking                28\n",
       "Boogie boarding         28\n",
       "Free diving             26\n",
       "Surf fishing            24\n",
       "Surf skiing             23\n",
       "Fell overboard          21\n",
       "Windsurfing             21\n",
       "Boogie Boarding         16\n",
       "Body surf               16\n",
       "Floating                12\n",
       "Rowing                  12\n",
       "Surf-skiing             12\n",
       "Fishing for sharks      11\n",
       "Name: activity, dtype: int64"
      ]
     },
     "execution_count": 27,
     "metadata": {},
     "output_type": "execute_result"
    }
   ],
   "source": [
    "activitySerie = activitySerie.apply(cleanActivity,lista = badGroupsInActivity)\n",
    "\n",
    "activitySerie.value_counts().head(40)\n"
   ]
  },
  {
   "cell_type": "code",
   "execution_count": 28,
   "metadata": {},
   "outputs": [
    {
     "name": "stdout",
     "output_type": "stream",
     "text": [
      "0\n"
     ]
    }
   ],
   "source": [
    "\"Vuelvo a hacer print de la lista de valores que no quiero por si me hubiera dejado algo\"\n",
    "badGroupsInActivity =pd.DataFrame(activitySerie.value_counts()).query(\"activity<11\").index\n",
    "\n",
    "badGroupsInActivity = [str(ele) for ele in badGroupsInActivity]\n",
    "print(len(badGroupsInActivity))"
   ]
  },
  {
   "cell_type": "code",
   "execution_count": 29,
   "metadata": {},
   "outputs": [],
   "source": [
    "#perfecto, aún veo un par de índices que puedo categorizar, puedo usar la misma función para ello"
   ]
  },
  {
   "cell_type": "code",
   "execution_count": 30,
   "metadata": {},
   "outputs": [],
   "source": [
    "listaConCategoriasFusionables =[\"Surf-skiing\",\"Boating\",\"Fishing for sharks\"]\n",
    "listaConCategoriasFusionables = [str(ele) for ele in listaConCategoriasFusionables]\n",
    "activitySerie=activitySerie.replace(\n",
    "    \"Surf-skiing\",\n",
    "\"Surf skiing\"  \n",
    ")\n",
    "activitySerie=activitySerie.replace(\n",
    "    [\"Rowing\",\"Boating\"],\n",
    "\"Sailing\"  \n",
    ")\n",
    "activitySerie=activitySerie.replace(\n",
    "    'Fishing for sharks',\n",
    "\"Shark fishing\"  \n",
    ")"
   ]
  },
  {
   "cell_type": "code",
   "execution_count": 31,
   "metadata": {},
   "outputs": [
    {
     "data": {
      "text/html": [
       "<div>\n",
       "<style scoped>\n",
       "    .dataframe tbody tr th:only-of-type {\n",
       "        vertical-align: middle;\n",
       "    }\n",
       "\n",
       "    .dataframe tbody tr th {\n",
       "        vertical-align: top;\n",
       "    }\n",
       "\n",
       "    .dataframe thead th {\n",
       "        text-align: right;\n",
       "    }\n",
       "</style>\n",
       "<table border=\"1\" class=\"dataframe\">\n",
       "  <thead>\n",
       "    <tr style=\"text-align: right;\">\n",
       "      <th></th>\n",
       "      <th>activity</th>\n",
       "    </tr>\n",
       "  </thead>\n",
       "  <tbody>\n",
       "    <tr>\n",
       "      <td>Bathing</td>\n",
       "      <td>1019</td>\n",
       "    </tr>\n",
       "    <tr>\n",
       "      <td>Surfing</td>\n",
       "      <td>1015</td>\n",
       "    </tr>\n",
       "    <tr>\n",
       "      <td>Swimming</td>\n",
       "      <td>873</td>\n",
       "    </tr>\n",
       "    <tr>\n",
       "      <td>Fishing</td>\n",
       "      <td>650</td>\n",
       "    </tr>\n",
       "    <tr>\n",
       "      <td>unknown</td>\n",
       "      <td>539</td>\n",
       "    </tr>\n",
       "    <tr>\n",
       "      <td>Spearfishing</td>\n",
       "      <td>399</td>\n",
       "    </tr>\n",
       "    <tr>\n",
       "      <td>Diving</td>\n",
       "      <td>378</td>\n",
       "    </tr>\n",
       "    <tr>\n",
       "      <td>Wading</td>\n",
       "      <td>295</td>\n",
       "    </tr>\n",
       "    <tr>\n",
       "      <td>Sailing</td>\n",
       "      <td>189</td>\n",
       "    </tr>\n",
       "    <tr>\n",
       "      <td>Scuba diving</td>\n",
       "      <td>114</td>\n",
       "    </tr>\n",
       "    <tr>\n",
       "      <td>Snorkeling</td>\n",
       "      <td>77</td>\n",
       "    </tr>\n",
       "    <tr>\n",
       "      <td>Shark fishing</td>\n",
       "      <td>62</td>\n",
       "    </tr>\n",
       "    <tr>\n",
       "      <td>Body boarding</td>\n",
       "      <td>54</td>\n",
       "    </tr>\n",
       "    <tr>\n",
       "      <td>Body surfing</td>\n",
       "      <td>48</td>\n",
       "    </tr>\n",
       "    <tr>\n",
       "      <td>Surf skiing</td>\n",
       "      <td>35</td>\n",
       "    </tr>\n",
       "    <tr>\n",
       "      <td>Pearl diving</td>\n",
       "      <td>32</td>\n",
       "    </tr>\n",
       "    <tr>\n",
       "      <td>Boogie boarding</td>\n",
       "      <td>28</td>\n",
       "    </tr>\n",
       "    <tr>\n",
       "      <td>Kayaking</td>\n",
       "      <td>28</td>\n",
       "    </tr>\n",
       "    <tr>\n",
       "      <td>Free diving</td>\n",
       "      <td>26</td>\n",
       "    </tr>\n",
       "    <tr>\n",
       "      <td>Surf fishing</td>\n",
       "      <td>24</td>\n",
       "    </tr>\n",
       "    <tr>\n",
       "      <td>Fell overboard</td>\n",
       "      <td>21</td>\n",
       "    </tr>\n",
       "    <tr>\n",
       "      <td>Windsurfing</td>\n",
       "      <td>21</td>\n",
       "    </tr>\n",
       "    <tr>\n",
       "      <td>Boogie Boarding</td>\n",
       "      <td>16</td>\n",
       "    </tr>\n",
       "    <tr>\n",
       "      <td>Body surf</td>\n",
       "      <td>16</td>\n",
       "    </tr>\n",
       "    <tr>\n",
       "      <td>Floating</td>\n",
       "      <td>12</td>\n",
       "    </tr>\n",
       "  </tbody>\n",
       "</table>\n",
       "</div>"
      ],
      "text/plain": [
       "                 activity\n",
       "Bathing              1019\n",
       "Surfing              1015\n",
       "Swimming              873\n",
       "Fishing               650\n",
       "unknown               539\n",
       "Spearfishing          399\n",
       "Diving                378\n",
       "Wading                295\n",
       "Sailing               189\n",
       "Scuba diving          114\n",
       "Snorkeling             77\n",
       "Shark fishing          62\n",
       "Body boarding          54\n",
       "Body surfing           48\n",
       "Surf skiing            35\n",
       "Pearl diving           32\n",
       "Boogie boarding        28\n",
       "Kayaking               28\n",
       "Free diving            26\n",
       "Surf fishing           24\n",
       "Fell overboard         21\n",
       "Windsurfing            21\n",
       "Boogie Boarding        16\n",
       "Body surf              16\n",
       "Floating               12"
      ]
     },
     "execution_count": 31,
     "metadata": {},
     "output_type": "execute_result"
    }
   ],
   "source": [
    "pd.DataFrame(activitySerie.value_counts())"
   ]
  },
  {
   "cell_type": "code",
   "execution_count": 32,
   "metadata": {},
   "outputs": [],
   "source": [
    "#En este punto creo que activity está muy limpio, lo añado y borro variables que no vaya a usar\n",
    "dfClean[\"activity\"] = activitySerie\n",
    "del activitySerie\n",
    "del badGroupsInActivity\n",
    "dfNotNull = dfNotNull.drop(columns = \"activity\")"
   ]
  },
  {
   "cell_type": "code",
   "execution_count": 33,
   "metadata": {},
   "outputs": [
    {
     "data": {
      "text/plain": [
       "54"
      ]
     },
     "execution_count": 33,
     "metadata": {},
     "output_type": "execute_result"
    }
   ],
   "source": [
    "#Voy a ver si href y hrefFormula es información duplicada\n",
    "import numpy as np\n",
    "array = (dfNotNull[\"href\"].values == dfNotNull[\"hrefFormula\"].values)\n",
    "array.size - np.sum(array)"
   ]
  },
  {
   "cell_type": "code",
   "execution_count": 34,
   "metadata": {},
   "outputs": [],
   "source": [
    "#De lo que se deduce que solo hay 54 valores que no coinciden, me voy a quedar son sus índices\n",
    "indicesHref = pd.DataFrame(np.where(array == False)).T.astype(\"int\")[0].tolist()"
   ]
  },
  {
   "cell_type": "code",
   "execution_count": 35,
   "metadata": {},
   "outputs": [],
   "source": [
    "#Programé una función para comprobar si la url que se le pasa es válida y el archivo exite, si lo es devuelve la Url, si no Unknown\n",
    "from functions import checkUrlValid\n"
   ]
  },
  {
   "cell_type": "code",
   "execution_count": 36,
   "metadata": {},
   "outputs": [
    {
     "data": {
      "text/plain": [
       "'#ok ya tengo las válidas de href, ahora solo voy a pasar la función en href formula para los índice unknown por si puedo salvar alguna\\nvalidHref = dfNotNull[\"href\"].apply(checkUrlValid)\\nvalidHref'"
      ]
     },
     "execution_count": 36,
     "metadata": {},
     "output_type": "execute_result"
    }
   ],
   "source": [
    "\"\"\"#ok ya tengo las válidas de href, ahora solo voy a pasar la función en href formula para los índice unknown por si puedo salvar alguna\n",
    "validHref = dfNotNull[\"href\"].apply(checkUrlValid)\n",
    "validHref\"\"\""
   ]
  },
  {
   "cell_type": "code",
   "execution_count": 37,
   "metadata": {},
   "outputs": [
    {
     "data": {
      "text/plain": [
       "'#como son solo 4 índices los pongo a mano\\nvalidURL[\"href\"][listaUnknown[0]]\\ncheckUrlValid(str(dfNotNull[\"hrefFormula\"][listaUnknown[0]]))'"
      ]
     },
     "execution_count": 37,
     "metadata": {},
     "output_type": "execute_result"
    }
   ],
   "source": [
    "\"\"\"#como son solo 4 índices los pongo a mano\n",
    "validURL[\"href\"][listaUnknown[0]]\n",
    "checkUrlValid(str(dfNotNull[\"hrefFormula\"][listaUnknown[0]]))\"\"\""
   ]
  },
  {
   "cell_type": "code",
   "execution_count": null,
   "metadata": {},
   "outputs": [],
   "source": []
  },
  {
   "cell_type": "code",
   "execution_count": 54,
   "metadata": {},
   "outputs": [
    {
     "data": {
      "text/plain": [
       "USA                 2116\n",
       "AUSTRALIA           1279\n",
       "SOUTH AFRICA         565\n",
       "PAPUA NEW GUINEA     133\n",
       "NEW ZEALAND          125\n",
       "                    ... \n",
       "SAMOA                  7\n",
       "SEYCHELLES             7\n",
       "THAILAND               6\n",
       "OKINAWA                6\n",
       "SINGAPORE              6\n",
       "Name: country, Length: 70, dtype: int64"
      ]
     },
     "execution_count": 54,
     "metadata": {},
     "output_type": "execute_result"
    }
   ],
   "source": [
    "dfNotNull[\"country\"].value_counts().head(70)"
   ]
  },
  {
   "cell_type": "code",
   "execution_count": 57,
   "metadata": {},
   "outputs": [],
   "source": [
    "#Pienso que àises está bastande limpio así que lo voy a añadir tal cual\n",
    "dfClean[\"country\"] = dfNotNull[\"country\"]\n",
    "dfNotNull=dfNotNull.drop(columns=\"country\")"
   ]
  },
  {
   "cell_type": "code",
   "execution_count": 91,
   "metadata": {},
   "outputs": [
    {
     "data": {
      "text/plain": [
       "['M', 'F', 'unknown', 'M ', '.', 'lli', 'N']"
      ]
     },
     "execution_count": 91,
     "metadata": {},
     "output_type": "execute_result"
    }
   ],
   "source": [
    "#Voy a analizar la columna de sex, parece facil\n",
    "dfNotNull[\"sex\"].value_counts().index.tolist()\n"
   ]
  },
  {
   "cell_type": "code",
   "execution_count": 93,
   "metadata": {},
   "outputs": [
    {
     "data": {
      "text/plain": [
       "0       M\n",
       "1       M\n",
       "2       M\n",
       "3       M\n",
       "4       M\n",
       "       ..\n",
       "5987    M\n",
       "5988    M\n",
       "5989    M\n",
       "5990    M\n",
       "5991    M\n",
       "Name: sex, Length: 5992, dtype: object"
      ]
     },
     "execution_count": 93,
     "metadata": {},
     "output_type": "execute_result"
    }
   ],
   "source": [
    "dfNotNull[\"sex\"] = dfNotNull[\"sex\"].replace([\"M \"],\"M\")\n",
    "dfNotNull[\"sex\"] = dfNotNull[\"sex\"].replace([\".\",\"lli\",\"N\"],\"unknown\")\n",
    "dfClean[\"sex\"]= dfNotNull[\"sex\"]\n",
    "dfNotNull =dfNotNull.drop(columns = \"sex\") \n"
   ]
  },
  {
   "cell_type": "code",
   "execution_count": 94,
   "metadata": {},
   "outputs": [
    {
     "data": {
      "text/plain": [
       "['M', 'F', 'unknown']"
      ]
     },
     "execution_count": 94,
     "metadata": {},
     "output_type": "execute_result"
    }
   ],
   "source": [
    "dfClean[\"sex\"].value_counts().index.tolist()"
   ]
  },
  {
   "cell_type": "code",
   "execution_count": null,
   "metadata": {},
   "outputs": [],
   "source": []
  },
  {
   "cell_type": "code",
   "execution_count": null,
   "metadata": {},
   "outputs": [],
   "source": []
  },
  {
   "cell_type": "code",
   "execution_count": null,
   "metadata": {},
   "outputs": [],
   "source": []
  },
  {
   "cell_type": "code",
   "execution_count": null,
   "metadata": {},
   "outputs": [],
   "source": []
  },
  {
   "cell_type": "code",
   "execution_count": null,
   "metadata": {},
   "outputs": [],
   "source": []
  },
  {
   "cell_type": "code",
   "execution_count": null,
   "metadata": {},
   "outputs": [],
   "source": []
  },
  {
   "cell_type": "code",
   "execution_count": null,
   "metadata": {},
   "outputs": [],
   "source": []
  },
  {
   "cell_type": "code",
   "execution_count": null,
   "metadata": {},
   "outputs": [],
   "source": []
  },
  {
   "cell_type": "code",
   "execution_count": null,
   "metadata": {},
   "outputs": [],
   "source": [
    "\n"
   ]
  },
  {
   "cell_type": "code",
   "execution_count": null,
   "metadata": {},
   "outputs": [],
   "source": []
  },
  {
   "cell_type": "code",
   "execution_count": null,
   "metadata": {},
   "outputs": [],
   "source": []
  }
 ],
 "metadata": {
  "kernelspec": {
   "display_name": "Python 3",
   "language": "python",
   "name": "python3"
  },
  "language_info": {
   "codemirror_mode": {
    "name": "ipython",
    "version": 3
   },
   "file_extension": ".py",
   "mimetype": "text/x-python",
   "name": "python",
   "nbconvert_exporter": "python",
   "pygments_lexer": "ipython3",
   "version": "3.6.8"
  }
 },
 "nbformat": 4,
 "nbformat_minor": 2
}
