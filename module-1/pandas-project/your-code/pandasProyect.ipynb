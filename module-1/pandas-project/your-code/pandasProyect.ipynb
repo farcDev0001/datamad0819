{
 "cells": [
  {
   "cell_type": "markdown",
   "metadata": {},
   "source": [
    "# Importación pandas y lectura del archivo "
   ]
  },
  {
   "cell_type": "code",
   "execution_count": 1,
   "metadata": {},
   "outputs": [],
   "source": [
    "#importanción de pandas\n",
    "import pandas as pd\n"
   ]
  },
  {
   "cell_type": "code",
   "execution_count": 2,
   "metadata": {},
   "outputs": [],
   "source": [
    "#lectura del e importación del csv como DataFrame\n",
    "df = pd.read_csv(\"./input/GSAF5.csv\")"
   ]
  },
  {
   "cell_type": "code",
   "execution_count": 3,
   "metadata": {},
   "outputs": [
    {
     "data": {
      "text/plain": [
       "(5992, 24)"
      ]
     },
     "execution_count": 3,
     "metadata": {},
     "output_type": "execute_result"
    }
   ],
   "source": [
    "df.shape"
   ]
  },
  {
   "cell_type": "code",
   "execution_count": 4,
   "metadata": {},
   "outputs": [
    {
     "name": "stdout",
     "output_type": "stream",
     "text": [
      "Index(['Case Number', 'Date', 'Year', 'Type', 'Country', 'Area', 'Location',\n",
      "       'Activity', 'Name', 'Sex ', 'Age', 'Injury', 'Fatal (Y/N)', 'Time',\n",
      "       'Species ', 'Investigator or Source', 'pdf', 'href formula', 'href',\n",
      "       'Case Number.1', 'Case Number.2', 'original order', 'Unnamed: 22',\n",
      "       'Unnamed: 23'],\n",
      "      dtype='object')\n"
     ]
    }
   ],
   "source": [
    "print(df.columns)"
   ]
  },
  {
   "cell_type": "markdown",
   "metadata": {},
   "source": [
    "Voy a renombrar columnas para facilitar el acceso"
   ]
  },
  {
   "cell_type": "code",
   "execution_count": 5,
   "metadata": {},
   "outputs": [
    {
     "data": {
      "text/html": [
       "<div>\n",
       "<style scoped>\n",
       "    .dataframe tbody tr th:only-of-type {\n",
       "        vertical-align: middle;\n",
       "    }\n",
       "\n",
       "    .dataframe tbody tr th {\n",
       "        vertical-align: top;\n",
       "    }\n",
       "\n",
       "    .dataframe thead th {\n",
       "        text-align: right;\n",
       "    }\n",
       "</style>\n",
       "<table border=\"1\" class=\"dataframe\">\n",
       "  <thead>\n",
       "    <tr style=\"text-align: right;\">\n",
       "      <th></th>\n",
       "      <th>caseNumber</th>\n",
       "      <th>date</th>\n",
       "      <th>year</th>\n",
       "      <th>type</th>\n",
       "      <th>country</th>\n",
       "      <th>area</th>\n",
       "      <th>location</th>\n",
       "      <th>activity</th>\n",
       "      <th>name</th>\n",
       "      <th>sex</th>\n",
       "      <th>...</th>\n",
       "      <th>species</th>\n",
       "      <th>investigatorSource</th>\n",
       "      <th>pdf</th>\n",
       "      <th>hrefFormula</th>\n",
       "      <th>href</th>\n",
       "      <th>caseNumber1</th>\n",
       "      <th>caseNumber2</th>\n",
       "      <th>originalOrder</th>\n",
       "      <th>Unnamed22</th>\n",
       "      <th>Unnamed23</th>\n",
       "    </tr>\n",
       "  </thead>\n",
       "  <tbody>\n",
       "    <tr>\n",
       "      <td>0</td>\n",
       "      <td>2016.09.18.c</td>\n",
       "      <td>18-Sep-16</td>\n",
       "      <td>2016</td>\n",
       "      <td>Unprovoked</td>\n",
       "      <td>USA</td>\n",
       "      <td>Florida</td>\n",
       "      <td>New Smyrna Beach, Volusia County</td>\n",
       "      <td>Surfing</td>\n",
       "      <td>male</td>\n",
       "      <td>M</td>\n",
       "      <td>...</td>\n",
       "      <td>NaN</td>\n",
       "      <td>Orlando Sentinel, 9/19/2016</td>\n",
       "      <td>2016.09.18.c-NSB.pdf</td>\n",
       "      <td>http://sharkattackfile.net/spreadsheets/pdf_di...</td>\n",
       "      <td>http://sharkattackfile.net/spreadsheets/pdf_di...</td>\n",
       "      <td>2016.09.18.c</td>\n",
       "      <td>2016.09.18.c</td>\n",
       "      <td>5993</td>\n",
       "      <td>NaN</td>\n",
       "      <td>NaN</td>\n",
       "    </tr>\n",
       "    <tr>\n",
       "      <td>1</td>\n",
       "      <td>2016.09.18.b</td>\n",
       "      <td>18-Sep-16</td>\n",
       "      <td>2016</td>\n",
       "      <td>Unprovoked</td>\n",
       "      <td>USA</td>\n",
       "      <td>Florida</td>\n",
       "      <td>New Smyrna Beach, Volusia County</td>\n",
       "      <td>Surfing</td>\n",
       "      <td>Chucky Luciano</td>\n",
       "      <td>M</td>\n",
       "      <td>...</td>\n",
       "      <td>NaN</td>\n",
       "      <td>Orlando Sentinel, 9/19/2016</td>\n",
       "      <td>2016.09.18.b-Luciano.pdf</td>\n",
       "      <td>http://sharkattackfile.net/spreadsheets/pdf_di...</td>\n",
       "      <td>http://sharkattackfile.net/spreadsheets/pdf_di...</td>\n",
       "      <td>2016.09.18.b</td>\n",
       "      <td>2016.09.18.b</td>\n",
       "      <td>5992</td>\n",
       "      <td>NaN</td>\n",
       "      <td>NaN</td>\n",
       "    </tr>\n",
       "    <tr>\n",
       "      <td>2</td>\n",
       "      <td>2016.09.18.a</td>\n",
       "      <td>18-Sep-16</td>\n",
       "      <td>2016</td>\n",
       "      <td>Unprovoked</td>\n",
       "      <td>USA</td>\n",
       "      <td>Florida</td>\n",
       "      <td>New Smyrna Beach, Volusia County</td>\n",
       "      <td>Surfing</td>\n",
       "      <td>male</td>\n",
       "      <td>M</td>\n",
       "      <td>...</td>\n",
       "      <td>NaN</td>\n",
       "      <td>Orlando Sentinel, 9/19/2016</td>\n",
       "      <td>2016.09.18.a-NSB.pdf</td>\n",
       "      <td>http://sharkattackfile.net/spreadsheets/pdf_di...</td>\n",
       "      <td>http://sharkattackfile.net/spreadsheets/pdf_di...</td>\n",
       "      <td>2016.09.18.a</td>\n",
       "      <td>2016.09.18.a</td>\n",
       "      <td>5991</td>\n",
       "      <td>NaN</td>\n",
       "      <td>NaN</td>\n",
       "    </tr>\n",
       "    <tr>\n",
       "      <td>3</td>\n",
       "      <td>2016.09.17</td>\n",
       "      <td>17-Sep-16</td>\n",
       "      <td>2016</td>\n",
       "      <td>Unprovoked</td>\n",
       "      <td>AUSTRALIA</td>\n",
       "      <td>Victoria</td>\n",
       "      <td>Thirteenth Beach</td>\n",
       "      <td>Surfing</td>\n",
       "      <td>Rory Angiolella</td>\n",
       "      <td>M</td>\n",
       "      <td>...</td>\n",
       "      <td>NaN</td>\n",
       "      <td>The Age, 9/18/2016</td>\n",
       "      <td>2016.09.17-Angiolella.pdf</td>\n",
       "      <td>http://sharkattackfile.net/spreadsheets/pdf_di...</td>\n",
       "      <td>http://sharkattackfile.net/spreadsheets/pdf_di...</td>\n",
       "      <td>2016.09.17</td>\n",
       "      <td>2016.09.17</td>\n",
       "      <td>5990</td>\n",
       "      <td>NaN</td>\n",
       "      <td>NaN</td>\n",
       "    </tr>\n",
       "    <tr>\n",
       "      <td>4</td>\n",
       "      <td>2016.09.15</td>\n",
       "      <td>16-Sep-16</td>\n",
       "      <td>2016</td>\n",
       "      <td>Unprovoked</td>\n",
       "      <td>AUSTRALIA</td>\n",
       "      <td>Victoria</td>\n",
       "      <td>Bells Beach</td>\n",
       "      <td>Surfing</td>\n",
       "      <td>male</td>\n",
       "      <td>M</td>\n",
       "      <td>...</td>\n",
       "      <td>2 m shark</td>\n",
       "      <td>The Age, 9/16/2016</td>\n",
       "      <td>2016.09.16-BellsBeach.pdf</td>\n",
       "      <td>http://sharkattackfile.net/spreadsheets/pdf_di...</td>\n",
       "      <td>http://sharkattackfile.net/spreadsheets/pdf_di...</td>\n",
       "      <td>2016.09.16</td>\n",
       "      <td>2016.09.15</td>\n",
       "      <td>5989</td>\n",
       "      <td>NaN</td>\n",
       "      <td>NaN</td>\n",
       "    </tr>\n",
       "  </tbody>\n",
       "</table>\n",
       "<p>5 rows × 24 columns</p>\n",
       "</div>"
      ],
      "text/plain": [
       "     caseNumber       date  year        type    country      area  \\\n",
       "0  2016.09.18.c  18-Sep-16  2016  Unprovoked        USA   Florida   \n",
       "1  2016.09.18.b  18-Sep-16  2016  Unprovoked        USA   Florida   \n",
       "2  2016.09.18.a  18-Sep-16  2016  Unprovoked        USA   Florida   \n",
       "3    2016.09.17  17-Sep-16  2016  Unprovoked  AUSTRALIA  Victoria   \n",
       "4    2016.09.15  16-Sep-16  2016  Unprovoked  AUSTRALIA  Victoria   \n",
       "\n",
       "                           location activity             name sex  ...  \\\n",
       "0  New Smyrna Beach, Volusia County  Surfing             male   M  ...   \n",
       "1  New Smyrna Beach, Volusia County  Surfing   Chucky Luciano   M  ...   \n",
       "2  New Smyrna Beach, Volusia County  Surfing             male   M  ...   \n",
       "3                  Thirteenth Beach  Surfing  Rory Angiolella   M  ...   \n",
       "4                       Bells Beach  Surfing             male   M  ...   \n",
       "\n",
       "     species           investigatorSource                        pdf  \\\n",
       "0        NaN  Orlando Sentinel, 9/19/2016       2016.09.18.c-NSB.pdf   \n",
       "1        NaN  Orlando Sentinel, 9/19/2016   2016.09.18.b-Luciano.pdf   \n",
       "2        NaN  Orlando Sentinel, 9/19/2016       2016.09.18.a-NSB.pdf   \n",
       "3        NaN           The Age, 9/18/2016  2016.09.17-Angiolella.pdf   \n",
       "4  2 m shark           The Age, 9/16/2016  2016.09.16-BellsBeach.pdf   \n",
       "\n",
       "                                         hrefFormula  \\\n",
       "0  http://sharkattackfile.net/spreadsheets/pdf_di...   \n",
       "1  http://sharkattackfile.net/spreadsheets/pdf_di...   \n",
       "2  http://sharkattackfile.net/spreadsheets/pdf_di...   \n",
       "3  http://sharkattackfile.net/spreadsheets/pdf_di...   \n",
       "4  http://sharkattackfile.net/spreadsheets/pdf_di...   \n",
       "\n",
       "                                                href   caseNumber1  \\\n",
       "0  http://sharkattackfile.net/spreadsheets/pdf_di...  2016.09.18.c   \n",
       "1  http://sharkattackfile.net/spreadsheets/pdf_di...  2016.09.18.b   \n",
       "2  http://sharkattackfile.net/spreadsheets/pdf_di...  2016.09.18.a   \n",
       "3  http://sharkattackfile.net/spreadsheets/pdf_di...    2016.09.17   \n",
       "4  http://sharkattackfile.net/spreadsheets/pdf_di...    2016.09.16   \n",
       "\n",
       "    caseNumber2 originalOrder Unnamed22 Unnamed23  \n",
       "0  2016.09.18.c          5993       NaN       NaN  \n",
       "1  2016.09.18.b          5992       NaN       NaN  \n",
       "2  2016.09.18.a          5991       NaN       NaN  \n",
       "3    2016.09.17          5990       NaN       NaN  \n",
       "4    2016.09.15          5989       NaN       NaN  \n",
       "\n",
       "[5 rows x 24 columns]"
      ]
     },
     "execution_count": 5,
     "metadata": {},
     "output_type": "execute_result"
    }
   ],
   "source": [
    "df.columns =['caseNumber', 'date', 'year', 'type', 'country', 'area', 'location',\n",
    "       'activity', 'name', 'sex', 'age', 'injury', 'fatal(Y/N)', 'time',\n",
    "       'species', 'investigatorSource', 'pdf', 'hrefFormula', 'href',\n",
    "       'caseNumber1', 'caseNumber2', 'originalOrder', 'Unnamed22',\n",
    "       'Unnamed23']\n",
    "df.head()"
   ]
  },
  {
   "cell_type": "markdown",
   "metadata": {},
   "source": [
    "# Limpieza de valores nulos"
   ]
  },
  {
   "cell_type": "code",
   "execution_count": 6,
   "metadata": {},
   "outputs": [
    {
     "data": {
      "text/plain": [
       "caseNumber               0\n",
       "date                     0\n",
       "year                     0\n",
       "type                     0\n",
       "country                 43\n",
       "area                   402\n",
       "location               496\n",
       "activity               527\n",
       "name                   200\n",
       "sex                    567\n",
       "age                   2681\n",
       "injury                  27\n",
       "fatal(Y/N)              19\n",
       "time                  3213\n",
       "species               2934\n",
       "investigatorSource      15\n",
       "pdf                      0\n",
       "hrefFormula              1\n",
       "href                     3\n",
       "caseNumber1              0\n",
       "caseNumber2              0\n",
       "originalOrder            0\n",
       "Unnamed22             5991\n",
       "Unnamed23             5990\n",
       "dtype: int64"
      ]
     },
     "execution_count": 6,
     "metadata": {},
     "output_type": "execute_result"
    }
   ],
   "source": [
    "#Compruebo columnas con valores nulos\n",
    "null_cols = df.isnull().sum()\n",
    "null_cols[null_cols > 0]\n",
    "null_cols"
   ]
  },
  {
   "cell_type": "code",
   "execution_count": 7,
   "metadata": {},
   "outputs": [],
   "source": [
    "#Guardo un data Frame con las columnas que no tienen valores nulos, están limpias\n",
    "dfNotNull = df[[\"caseNumber\",\"date\",\"year\",\"type\",\"pdf\",\"caseNumber1\",\"caseNumber2\",\"originalOrder\"]]"
   ]
  },
  {
   "cell_type": "markdown",
   "metadata": {},
   "source": [
    "En este punto tomo la decisión de dropear del Data Frame principal las columnas Unnamed22 y 23,\n",
    "pues la totalidad de sus registros prácticamente son nulos"
   ]
  },
  {
   "cell_type": "code",
   "execution_count": 8,
   "metadata": {},
   "outputs": [],
   "source": [
    "df = df.drop(columns = [\"Unnamed22\",\"Unnamed23\"])"
   ]
  },
  {
   "cell_type": "markdown",
   "metadata": {},
   "source": [
    "Cambio los nulos a -1 en edad y lo marco en el índice de la columnas"
   ]
  },
  {
   "cell_type": "code",
   "execution_count": 9,
   "metadata": {},
   "outputs": [],
   "source": [
    "dfNotNull[\"age(-1NoData)\"] = df['age'].fillna(-1)"
   ]
  },
  {
   "cell_type": "markdown",
   "metadata": {},
   "source": [
    "Valoro qué hacer con los nulos de la columna time"
   ]
  },
  {
   "cell_type": "code",
   "execution_count": 10,
   "metadata": {},
   "outputs": [
    {
     "data": {
      "text/html": [
       "<div>\n",
       "<style scoped>\n",
       "    .dataframe tbody tr th:only-of-type {\n",
       "        vertical-align: middle;\n",
       "    }\n",
       "\n",
       "    .dataframe tbody tr th {\n",
       "        vertical-align: top;\n",
       "    }\n",
       "\n",
       "    .dataframe thead th {\n",
       "        text-align: right;\n",
       "    }\n",
       "</style>\n",
       "<table border=\"1\" class=\"dataframe\">\n",
       "  <thead>\n",
       "    <tr style=\"text-align: right;\">\n",
       "      <th></th>\n",
       "      <th>time</th>\n",
       "    </tr>\n",
       "  </thead>\n",
       "  <tbody>\n",
       "    <tr>\n",
       "      <td>Afternoon</td>\n",
       "      <td>174</td>\n",
       "    </tr>\n",
       "    <tr>\n",
       "      <td>11h00</td>\n",
       "      <td>123</td>\n",
       "    </tr>\n",
       "    <tr>\n",
       "      <td>12h00</td>\n",
       "      <td>107</td>\n",
       "    </tr>\n",
       "    <tr>\n",
       "      <td>Morning</td>\n",
       "      <td>107</td>\n",
       "    </tr>\n",
       "    <tr>\n",
       "      <td>15h00</td>\n",
       "      <td>100</td>\n",
       "    </tr>\n",
       "    <tr>\n",
       "      <td>...</td>\n",
       "      <td>...</td>\n",
       "    </tr>\n",
       "    <tr>\n",
       "      <td>19h35</td>\n",
       "      <td>1</td>\n",
       "    </tr>\n",
       "    <tr>\n",
       "      <td>After dusk</td>\n",
       "      <td>1</td>\n",
       "    </tr>\n",
       "    <tr>\n",
       "      <td>17h35</td>\n",
       "      <td>1</td>\n",
       "    </tr>\n",
       "    <tr>\n",
       "      <td>13h23</td>\n",
       "      <td>1</td>\n",
       "    </tr>\n",
       "    <tr>\n",
       "      <td>07h08</td>\n",
       "      <td>1</td>\n",
       "    </tr>\n",
       "  </tbody>\n",
       "</table>\n",
       "<p>357 rows × 1 columns</p>\n",
       "</div>"
      ],
      "text/plain": [
       "            time\n",
       "Afternoon    174\n",
       "11h00        123\n",
       "12h00        107\n",
       "Morning      107\n",
       "15h00        100\n",
       "...          ...\n",
       "19h35          1\n",
       "After dusk     1\n",
       "17h35          1\n",
       "13h23          1\n",
       "07h08          1\n",
       "\n",
       "[357 rows x 1 columns]"
      ]
     },
     "execution_count": 10,
     "metadata": {},
     "output_type": "execute_result"
    }
   ],
   "source": [
    "pd.DataFrame(df['time'].value_counts())"
   ]
  },
  {
   "cell_type": "markdown",
   "metadata": {},
   "source": [
    "Voy a cambiar los nulos de time, merece la pena limpiar la columna"
   ]
  },
  {
   "cell_type": "code",
   "execution_count": 11,
   "metadata": {},
   "outputs": [],
   "source": [
    "dfNotNull[\"timeDirty\"] = df['time'].fillna(\"noData\")"
   ]
  },
  {
   "cell_type": "markdown",
   "metadata": {},
   "source": [
    "Voy a analizar species"
   ]
  },
  {
   "cell_type": "code",
   "execution_count": 12,
   "metadata": {},
   "outputs": [
    {
     "data": {
      "text/html": [
       "<div>\n",
       "<style scoped>\n",
       "    .dataframe tbody tr th:only-of-type {\n",
       "        vertical-align: middle;\n",
       "    }\n",
       "\n",
       "    .dataframe tbody tr th {\n",
       "        vertical-align: top;\n",
       "    }\n",
       "\n",
       "    .dataframe thead th {\n",
       "        text-align: right;\n",
       "    }\n",
       "</style>\n",
       "<table border=\"1\" class=\"dataframe\">\n",
       "  <thead>\n",
       "    <tr style=\"text-align: right;\">\n",
       "      <th></th>\n",
       "      <th>species</th>\n",
       "    </tr>\n",
       "  </thead>\n",
       "  <tbody>\n",
       "    <tr>\n",
       "      <td>White shark</td>\n",
       "      <td>161</td>\n",
       "    </tr>\n",
       "    <tr>\n",
       "      <td>Shark involvement not confirmed</td>\n",
       "      <td>80</td>\n",
       "    </tr>\n",
       "    <tr>\n",
       "      <td>Tiger shark</td>\n",
       "      <td>68</td>\n",
       "    </tr>\n",
       "    <tr>\n",
       "      <td>Bull shark</td>\n",
       "      <td>52</td>\n",
       "    </tr>\n",
       "    <tr>\n",
       "      <td>6' shark</td>\n",
       "      <td>40</td>\n",
       "    </tr>\n",
       "    <tr>\n",
       "      <td>...</td>\n",
       "      <td>...</td>\n",
       "    </tr>\n",
       "    <tr>\n",
       "      <td>A 6.5' \"blue-nosed shark\"</td>\n",
       "      <td>1</td>\n",
       "    </tr>\n",
       "    <tr>\n",
       "      <td>1.5 m to 1.8 m [5' to 6'] sandbar shark</td>\n",
       "      <td>1</td>\n",
       "    </tr>\n",
       "    <tr>\n",
       "      <td>Bull shark, 2.5 m</td>\n",
       "      <td>1</td>\n",
       "    </tr>\n",
       "    <tr>\n",
       "      <td>1.2 m [4'] dusky shark</td>\n",
       "      <td>1</td>\n",
       "    </tr>\n",
       "    <tr>\n",
       "      <td>Lemon shark, 4'</td>\n",
       "      <td>1</td>\n",
       "    </tr>\n",
       "  </tbody>\n",
       "</table>\n",
       "<p>1538 rows × 1 columns</p>\n",
       "</div>"
      ],
      "text/plain": [
       "                                         species\n",
       "White shark                                  161\n",
       "Shark involvement not confirmed               80\n",
       "Tiger shark                                   68\n",
       "Bull shark                                    52\n",
       "6' shark                                      40\n",
       "...                                          ...\n",
       "A 6.5' \"blue-nosed shark\"                      1\n",
       "1.5 m to 1.8 m [5' to 6'] sandbar shark        1\n",
       "Bull shark, 2.5 m                              1\n",
       "1.2 m [4'] dusky shark                         1\n",
       "Lemon shark, 4'                                1\n",
       "\n",
       "[1538 rows x 1 columns]"
      ]
     },
     "execution_count": 12,
     "metadata": {},
     "output_type": "execute_result"
    }
   ],
   "source": [
    "pd.DataFrame(df[\"species\"].value_counts())"
   ]
  },
  {
   "cell_type": "code",
   "execution_count": 13,
   "metadata": {},
   "outputs": [],
   "source": [
    "'''Decido cambiar los nulos a Shark involvement not confirmed, parece lógico agrupar en esta categoría los nulos de species'''\n",
    "dfNotNull[\"species\"] = df['species'].fillna(\"Shark involvement not confirmed\")\n"
   ]
  },
  {
   "cell_type": "markdown",
   "metadata": {},
   "source": [
    "El resto de columnas que tienen no válidos contienen pocos por lo que voy a meter valores que no lleven a confusión"
   ]
  },
  {
   "cell_type": "code",
   "execution_count": 14,
   "metadata": {},
   "outputs": [
    {
     "data": {
      "text/plain": [
       "caseNumber            0\n",
       "date                  0\n",
       "year                  0\n",
       "type                  0\n",
       "pdf                   0\n",
       "caseNumber1           0\n",
       "caseNumber2           0\n",
       "originalOrder         0\n",
       "age(-1NoData)         0\n",
       "timeDirty             0\n",
       "species               0\n",
       "country               0\n",
       "area                  0\n",
       "location              0\n",
       "activity              0\n",
       "name                  0\n",
       "sex                   0\n",
       "injury                0\n",
       "fatal(Y/N/unknow)     0\n",
       "investigatorSource    0\n",
       "hrefFormula           0\n",
       "href                  0\n",
       "dtype: int64"
      ]
     },
     "execution_count": 14,
     "metadata": {},
     "output_type": "execute_result"
    }
   ],
   "source": [
    "dfNotNull[\"country\"] = df['country'].fillna(\"unknown\")\n",
    "dfNotNull[\"area\"] = df['area'].fillna(\"unknown\")\n",
    "dfNotNull[\"location\"] = df['location'].fillna(\"unknown\")\n",
    "dfNotNull[\"activity\"] = df['activity'].fillna(\"unknown\")\n",
    "dfNotNull[\"name\"] = df['name'].fillna(\"unknown\")\n",
    "dfNotNull[\"sex\"] = df['sex'].fillna(\"unknown\")\n",
    "dfNotNull[\"injury\"] = df['injury'].fillna(\"unknown\")\n",
    "dfNotNull[\"fatal(Y/N/unknow)\"] = df['fatal(Y/N)'].fillna(\"unknown\")\n",
    "dfNotNull[\"investigatorSource\"] = df['investigatorSource'].fillna(\"unknown\")\n",
    "dfNotNull[\"hrefFormula\"] = df['hrefFormula'].fillna(\"unknown\")\n",
    "dfNotNull[\"href\"] = df['href'].fillna(\"unknown\")\n",
    "#Compruebo que no hay nulos\n",
    "null_cols = dfNotNull.isnull().sum()\n",
    "#null_cols[null_cols > 0]\n",
    "null_cols\n"
   ]
  },
  {
   "cell_type": "markdown",
   "metadata": {},
   "source": [
    "# Limpieza de columna \"fatal\""
   ]
  },
  {
   "cell_type": "markdown",
   "metadata": {},
   "source": [
    "Empiezo analizando los tipos de valores y asignando un nombre a la columna"
   ]
  },
  {
   "cell_type": "code",
   "execution_count": 15,
   "metadata": {},
   "outputs": [
    {
     "data": {
      "text/plain": [
       "N          4315\n",
       "Y          1552\n",
       "UNKNOWN      94\n",
       "unknown      19\n",
       " N            8\n",
       "F             1\n",
       "n             1\n",
       "N             1\n",
       "#VALUE!       1\n",
       "Name: fatal(Y/N/unknow), dtype: int64"
      ]
     },
     "execution_count": 15,
     "metadata": {},
     "output_type": "execute_result"
    }
   ],
   "source": [
    "fatal = \"fatal(Y/N/unknow)\"\n",
    "cleanFatal = dfNotNull[fatal]\n",
    "cleanFatal.value_counts()"
   ]
  },
  {
   "cell_type": "markdown",
   "metadata": {},
   "source": [
    "He programado una pequeña función que limpia los valores que no son interesantes, hago apply y miro que esté bién"
   ]
  },
  {
   "cell_type": "code",
   "execution_count": 16,
   "metadata": {},
   "outputs": [
    {
     "data": {
      "text/plain": [
       "N          4421\n",
       "Y          1552\n",
       "UNKNOWN      19\n",
       "Name: fatal(Y/N/unknow), dtype: int64"
      ]
     },
     "execution_count": 16,
     "metadata": {},
     "output_type": "execute_result"
    }
   ],
   "source": [
    "from functions import cleanTextInFatal\n",
    "cleanFatal = cleanFatal.apply(cleanTextInFatal)\n",
    "cleanFatal.value_counts()\n"
   ]
  },
  {
   "cell_type": "code",
   "execution_count": 17,
   "metadata": {},
   "outputs": [],
   "source": [
    "#Lo añado a un dataFrame que tendrá los datos limpios\n",
    "dfClean = pd.DataFrame(cleanFatal)\n",
    "dfNotNull = dfNotNull.drop(columns =fatal)\n",
    "#elimino los objetos que no voy a usar\n",
    "del cleanFatal\n",
    "del fatal"
   ]
  },
  {
   "cell_type": "code",
   "execution_count": 18,
   "metadata": {},
   "outputs": [
    {
     "data": {
      "text/plain": [
       "Index(['caseNumber', 'date', 'year', 'type', 'pdf', 'caseNumber1',\n",
       "       'caseNumber2', 'originalOrder', 'age(-1NoData)', 'timeDirty', 'species',\n",
       "       'country', 'area', 'location', 'activity', 'name', 'sex', 'injury',\n",
       "       'investigatorSource', 'hrefFormula', 'href'],\n",
       "      dtype='object')"
      ]
     },
     "execution_count": 18,
     "metadata": {},
     "output_type": "execute_result"
    }
   ],
   "source": [
    "dfNotNull.columns\n"
   ]
  },
  {
   "cell_type": "markdown",
   "metadata": {},
   "source": [
    "# Limpieza de columna type"
   ]
  },
  {
   "cell_type": "code",
   "execution_count": 19,
   "metadata": {},
   "outputs": [
    {
     "data": {
      "text/plain": [
       "Index(['Unprovoked', 'Provoked', 'Invalid', 'Sea Disaster', 'Boat', 'Boating'], dtype='object')"
      ]
     },
     "execution_count": 19,
     "metadata": {},
     "output_type": "execute_result"
    }
   ],
   "source": [
    "dfNotNull[\"type\"].value_counts().index"
   ]
  },
  {
   "cell_type": "code",
   "execution_count": 20,
   "metadata": {},
   "outputs": [
    {
     "data": {
      "text/plain": [
       "Unprovoked    4386\n",
       "UNKNOWN       1049\n",
       "Provoked       557\n",
       "Name: type, dtype: int64"
      ]
     },
     "execution_count": 20,
     "metadata": {},
     "output_type": "execute_result"
    }
   ],
   "source": [
    "#diría que no tiene demasiado sentido boat y boating, los voy a cambiar a junto con Invalid a unknown\n",
    "dfClean[\"type\"]=dfNotNull[\"type\"].replace(\n",
    "    ['Invalid', 'Sea Disaster',\"Boat\",\"Boating\"],\n",
    "    'UNKNOWN',\n",
    "    \n",
    ")\n",
    "dfClean[\"type\"].value_counts()"
   ]
  },
  {
   "cell_type": "code",
   "execution_count": 21,
   "metadata": {},
   "outputs": [
    {
     "data": {
      "text/plain": [
       "Index(['caseNumber', 'date', 'year', 'pdf', 'caseNumber1', 'caseNumber2',\n",
       "       'originalOrder', 'age(-1NoData)', 'timeDirty', 'species', 'country',\n",
       "       'area', 'location', 'activity', 'name', 'sex', 'injury',\n",
       "       'investigatorSource', 'hrefFormula', 'href'],\n",
       "      dtype='object')"
      ]
     },
     "execution_count": 21,
     "metadata": {},
     "output_type": "execute_result"
    }
   ],
   "source": [
    "dfNotNull=dfNotNull.drop(columns = \"type\")\n",
    "dfNotNull.columns"
   ]
  },
  {
   "cell_type": "markdown",
   "metadata": {},
   "source": [
    "# Limpieza columna activity"
   ]
  },
  {
   "cell_type": "markdown",
   "metadata": {},
   "source": [
    "Voy a analizar los datos, pues esta columna debería ser categorizable"
   ]
  },
  {
   "cell_type": "code",
   "execution_count": 22,
   "metadata": {},
   "outputs": [
    {
     "data": {
      "text/plain": [
       "Surfing                 904\n",
       "Swimming                819\n",
       "unknown                 527\n",
       "Fishing                 414\n",
       "Spearfishing            321\n",
       "Bathing                 153\n",
       "Wading                  144\n",
       "Diving                  123\n",
       "Standing                 97\n",
       "Snorkeling               77\n",
       "Scuba diving             74\n",
       "Body boarding            54\n",
       "Body surfing             48\n",
       "Swimming                 47\n",
       "Treading water           32\n",
       "Pearl diving             32\n",
       "Boogie boarding          28\n",
       "Kayaking                 28\n",
       "Free diving              26\n",
       "Fell overboard           21\n",
       "Windsurfing              18\n",
       "Boogie Boarding          16\n",
       "Walking                  15\n",
       "Shark fishing            15\n",
       "Surf skiing              12\n",
       "Fishing                  12\n",
       "Floating                 12\n",
       "Canoeing                 12\n",
       "Surf-skiing              12\n",
       "Rowing                   12\n",
       "Fishing for sharks       11\n",
       "Surf fishing             11\n",
       "Sponge diving            10\n",
       "Freediving               10\n",
       "Kayak Fishing            10\n",
       "Diving for trochus        9\n",
       "Sailing                   9\n",
       "Sitting on surfboard      9\n",
       "Sea disaster              8\n",
       "Fell into the water       8\n",
       "Name: activity, dtype: int64"
      ]
     },
     "execution_count": 22,
     "metadata": {},
     "output_type": "execute_result"
    }
   ],
   "source": [
    "activitySerie = dfNotNull[\"activity\"]\n",
    "activitySerie.value_counts().head(40)"
   ]
  },
  {
   "cell_type": "markdown",
   "metadata": {},
   "source": [
    "Determino hacer algunos replaces para categorizar"
   ]
  },
  {
   "cell_type": "code",
   "execution_count": 23,
   "metadata": {},
   "outputs": [
    {
     "data": {
      "text/plain": [
       "Surfing                  920\n",
       "Swimming                 873\n",
       "unknown                  539\n",
       "Fishing                  426\n",
       "Spearfishing             349\n",
       "Wading                   295\n",
       "Diving                   181\n",
       "Bathing                  153\n",
       "Snorkeling                77\n",
       "Scuba diving              74\n",
       "Body boarding             54\n",
       "Body surfing              48\n",
       "Boating                   38\n",
       "Pearl diving              32\n",
       "Kayaking                  28\n",
       "Boogie boarding           28\n",
       "Free diving               26\n",
       "Fell overboard            21\n",
       "Windsurfing               18\n",
       "Surf skiing               18\n",
       "Boogie Boarding           16\n",
       "Shark fishing             15\n",
       "Floating                  12\n",
       "Rowing                    12\n",
       "Surf-skiing               12\n",
       "Fishing for sharks        11\n",
       "Surf fishing              11\n",
       "Kayak Fishing             10\n",
       "Sailing                    9\n",
       "Sea disaster               8\n",
       "Paddle boarding            7\n",
       "Kite Surfing               6\n",
       "Paddleskiing               5\n",
       "Fishing on a boat          5\n",
       "Shipwreck                  5\n",
       "Freedom swimming           5\n",
       "Skin diving                4\n",
       "Jumped into the water      4\n",
       "Jumping                    4\n",
       "Fishing boat               4\n",
       "Name: activity, dtype: int64"
      ]
     },
     "execution_count": 23,
     "metadata": {},
     "output_type": "execute_result"
    }
   ],
   "source": [
    "\"Voy a hacer alguno replace para unificar algunos datos fáciles\"\n",
    "activitySerie=activitySerie.replace(\n",
    "    ['Swimming ',\"Floating on his back\"],\n",
    "    'Swimming',\n",
    "    \n",
    ")\n",
    "activitySerie=activitySerie.replace(\n",
    "    'Fishing ',\n",
    "    'Fishing',\n",
    "    \n",
    ")\n",
    "activitySerie=activitySerie.replace(\n",
    "    ['Diving for abalone',\"Diving for trochus\",\"Fishing for mackerel\",\"Free diving for abalone\",\"Sponge diving\",\n",
    "    \"Hard hat diving\", \"Diving for coins\",\"Freediving\"\n",
    "],\n",
    "\"Diving\"    \n",
    ")\n",
    "\n",
    "activitySerie=activitySerie.replace(\n",
    "    ['Surfing (sitting on his board)',\"Sitting on surfboard\"],\n",
    "\"Surfing\"   \n",
    ")\n",
    "\n",
    "activitySerie=activitySerie.replace(\n",
    "    ['Treading water',\"Playing\",\"Walking\",\"Standing\"],\n",
    "\"Wading\"  \n",
    ")\n",
    "activitySerie=activitySerie.replace(\n",
    "    ['Spearfishing ',\"Skindiving\",\"Spearfishing on Scuba\",\"Scuba diving (but on surface)\",\"Scuba diving (submerged)\"],\n",
    "\"Spearfishing\"   \n",
    ")\n",
    "activitySerie=activitySerie.replace(\n",
    "    [\"Murder\",\"Sea Disaster\"],\n",
    "\"unknown\"  \n",
    ")\n",
    "activitySerie=activitySerie.replace(\n",
    "    ['Fell overboard ',\"Canoeing\",\"Fell into the water\",\"Boat\",\"Dangling feet in the water\",\"Sailing \"],\n",
    "\"Boating\"   \n",
    ")\n",
    "\n",
    "activitySerie=activitySerie.replace(\n",
    "    ['Surf-skiing  ',\"Surf skiing \"],\n",
    "\"Surf skiing\"   \n",
    ")\n",
    "\n",
    "activitySerie=activitySerie.replace(\n",
    "    ['Sea Disaster '],\n",
    "\"Sea Disaster\"   \n",
    ")\n",
    " \n",
    "activitySerie.value_counts().head(40)\n"
   ]
  },
  {
   "cell_type": "markdown",
   "metadata": {},
   "source": [
    "Voy a categorizar la columna en los grupos que actualmente tienen más de 11 registros, \n",
    "para ello hago una lista con los que tienen menos de 11 \n",
    "para ir filtrando y ver en qué categoria los meto "
   ]
  },
  {
   "cell_type": "code",
   "execution_count": 24,
   "metadata": {},
   "outputs": [
    {
     "name": "stdout",
     "output_type": "stream",
     "text": [
      "1436\n"
     ]
    }
   ],
   "source": [
    "badGroupsInActivity =pd.DataFrame(activitySerie.value_counts()).query(\"activity<11\").index\n",
    "badGroupsInActivity = [str(ele) for ele in badGroupsInActivity]\n",
    "print(len(badGroupsInActivity))"
   ]
  },
  {
   "cell_type": "code",
   "execution_count": 25,
   "metadata": {},
   "outputs": [],
   "source": [
    "#Programé unas funcionespara que convirtieran las categorías que no me interesan en alguna de las que tienen más de 11\n",
    "from functions import cleanActivity\n"
   ]
  },
  {
   "cell_type": "code",
   "execution_count": 26,
   "metadata": {},
   "outputs": [
    {
     "data": {
      "text/plain": [
       "Bathing               1019\n",
       "Surfing               1015\n",
       "Swimming               873\n",
       "Fishing                650\n",
       "unknown                539\n",
       "Spearfishing           399\n",
       "Diving                 378\n",
       "Wading                 295\n",
       "Sailing                139\n",
       "Scuba diving           114\n",
       "Snorkeling              77\n",
       "Body boarding           54\n",
       "Shark fishing           51\n",
       "Body surfing            48\n",
       "Boating                 38\n",
       "Pearl diving            32\n",
       "Kayaking                28\n",
       "Boogie boarding         28\n",
       "Free diving             26\n",
       "Surf fishing            24\n",
       "Surf skiing             23\n",
       "Windsurfing             21\n",
       "Fell overboard          21\n",
       "Body surf               16\n",
       "Boogie Boarding         16\n",
       "Rowing                  12\n",
       "Floating                12\n",
       "Surf-skiing             12\n",
       "Fishing for sharks      11\n",
       "Name: activity, dtype: int64"
      ]
     },
     "execution_count": 26,
     "metadata": {},
     "output_type": "execute_result"
    }
   ],
   "source": [
    "activitySerie = activitySerie.apply(cleanActivity,lista = badGroupsInActivity)\n",
    "\n",
    "activitySerie.value_counts().head(40)\n"
   ]
  },
  {
   "cell_type": "code",
   "execution_count": 27,
   "metadata": {},
   "outputs": [
    {
     "name": "stdout",
     "output_type": "stream",
     "text": [
      "0\n"
     ]
    }
   ],
   "source": [
    "\"Vuelvo a hacer print de la lista de valores que no quiero por si me hubiera dejado algo\"\n",
    "badGroupsInActivity =pd.DataFrame(activitySerie.value_counts()).query(\"activity<11\").index\n",
    "\n",
    "badGroupsInActivity = [str(ele) for ele in badGroupsInActivity]\n",
    "print(len(badGroupsInActivity))"
   ]
  },
  {
   "cell_type": "markdown",
   "metadata": {},
   "source": [
    "Perfecto, aún veo un par de índices que puedo categorizar, puedo usar la misma función para ello"
   ]
  },
  {
   "cell_type": "code",
   "execution_count": 28,
   "metadata": {},
   "outputs": [],
   "source": [
    "listaConCategoriasFusionables =[\"Surf-skiing\",\"Boating\",\"Fishing for sharks\"]\n",
    "listaConCategoriasFusionables = [str(ele) for ele in listaConCategoriasFusionables]\n",
    "activitySerie=activitySerie.replace(\n",
    "    \"Surf-skiing\",\n",
    "\"Surf skiing\"  \n",
    ")\n",
    "activitySerie=activitySerie.replace(\n",
    "    [\"Rowing\",\"Boating\"],\n",
    "\"Sailing\"  \n",
    ")\n",
    "activitySerie=activitySerie.replace(\n",
    "    'Fishing for sharks',\n",
    "\"Shark fishing\"  \n",
    ")"
   ]
  },
  {
   "cell_type": "code",
   "execution_count": 29,
   "metadata": {},
   "outputs": [
    {
     "data": {
      "text/plain": [
       "Bathing            1019\n",
       "Surfing            1015\n",
       "Swimming            873\n",
       "Fishing             650\n",
       "unknown             539\n",
       "Spearfishing        399\n",
       "Diving              378\n",
       "Wading              295\n",
       "Sailing             189\n",
       "Scuba diving        114\n",
       "Snorkeling           77\n",
       "Shark fishing        62\n",
       "Body boarding        54\n",
       "Body surfing         48\n",
       "Surf skiing          35\n",
       "Pearl diving         32\n",
       "Boogie boarding      28\n",
       "Kayaking             28\n",
       "Free diving          26\n",
       "Surf fishing         24\n",
       "Windsurfing          21\n",
       "Fell overboard       21\n",
       "Boogie Boarding      16\n",
       "Body surf            16\n",
       "Floating             12\n",
       "Name: activity, dtype: int64"
      ]
     },
     "execution_count": 29,
     "metadata": {},
     "output_type": "execute_result"
    }
   ],
   "source": [
    "#Hago un display de la columna limpia para ver si el resultado es coherente\n",
    "activitySerie.value_counts()\n"
   ]
  },
  {
   "cell_type": "code",
   "execution_count": 30,
   "metadata": {},
   "outputs": [],
   "source": [
    "#En este punto creo que activity está muy limpio, lo añado y borro variables que no vaya a usar\n",
    "dfClean[\"activity\"] = activitySerie\n",
    "del activitySerie\n",
    "del badGroupsInActivity\n",
    "dfNotNull = dfNotNull.drop(columns = \"activity\")"
   ]
  },
  {
   "cell_type": "markdown",
   "metadata": {},
   "source": [
    "# Limpieza de country"
   ]
  },
  {
   "cell_type": "code",
   "execution_count": 31,
   "metadata": {},
   "outputs": [
    {
     "data": {
      "text/plain": [
       "USA                    2116\n",
       "AUSTRALIA              1279\n",
       "SOUTH AFRICA            565\n",
       "PAPUA NEW GUINEA        133\n",
       "NEW ZEALAND             125\n",
       "                       ... \n",
       "NORTH PACIFIC OCEAN       7\n",
       "SAMOA                     7\n",
       "KIRIBATI                  6\n",
       "THAILAND                  6\n",
       "CHINA                     6\n",
       "Name: country, Length: 70, dtype: int64"
      ]
     },
     "execution_count": 31,
     "metadata": {},
     "output_type": "execute_result"
    }
   ],
   "source": [
    "dfNotNull[\"country\"].value_counts().head(70)"
   ]
  },
  {
   "cell_type": "markdown",
   "metadata": {},
   "source": [
    "Pienso que country está bastande limpio, 70 países distintos es coherente teniendo en cuenta\n",
    "que existen unos 200,lo voy a añadir tal cual"
   ]
  },
  {
   "cell_type": "code",
   "execution_count": 32,
   "metadata": {},
   "outputs": [],
   "source": [
    "dfClean[\"country\"] = dfNotNull[\"country\"]\n",
    "dfNotNull=dfNotNull.drop(columns=\"country\")"
   ]
  },
  {
   "cell_type": "markdown",
   "metadata": {},
   "source": [
    "# Limpieza columna sex"
   ]
  },
  {
   "cell_type": "code",
   "execution_count": 33,
   "metadata": {},
   "outputs": [
    {
     "data": {
      "text/plain": [
       "['M', 'F', 'unknown', 'M ', 'N', '.', 'lli']"
      ]
     },
     "execution_count": 33,
     "metadata": {},
     "output_type": "execute_result"
    }
   ],
   "source": [
    "dfNotNull[\"sex\"].value_counts().index.tolist()"
   ]
  },
  {
   "cell_type": "markdown",
   "metadata": {},
   "source": [
    "No hace falta una función para tan pocos valores distintos, con replace los reemplazo"
   ]
  },
  {
   "cell_type": "code",
   "execution_count": 34,
   "metadata": {},
   "outputs": [],
   "source": [
    "dfNotNull[\"sex\"] = dfNotNull[\"sex\"].replace([\"M \"],\"M\")\n",
    "dfNotNull[\"sex\"] = dfNotNull[\"sex\"].replace([\".\",\"lli\",\"N\"],\"unknown\")\n",
    "dfClean[\"sex\"]= dfNotNull[\"sex\"]\n",
    "dfNotNull =dfNotNull.drop(columns = \"sex\") \n"
   ]
  },
  {
   "cell_type": "code",
   "execution_count": 35,
   "metadata": {},
   "outputs": [
    {
     "data": {
      "text/plain": [
       "['M', 'F', 'unknown']"
      ]
     },
     "execution_count": 35,
     "metadata": {},
     "output_type": "execute_result"
    }
   ],
   "source": [
    "dfClean[\"sex\"].value_counts().index.tolist()"
   ]
  },
  {
   "cell_type": "markdown",
   "metadata": {},
   "source": [
    "# Limpieza columna species"
   ]
  },
  {
   "cell_type": "markdown",
   "metadata": {},
   "source": [
    "### Creación de nueva columna length"
   ]
  },
  {
   "cell_type": "code",
   "execution_count": 36,
   "metadata": {
    "scrolled": true
   },
   "outputs": [
    {
     "data": {
      "text/plain": [
       "Shark involvement not confirmed    3014\n",
       "White shark                         161\n",
       "Tiger shark                          68\n",
       "Bull shark                           52\n",
       "6' shark                             40\n",
       "4' shark                             39\n",
       "1.8 m [6'] shark                     35\n",
       "1.5 m [5'] shark                     32\n",
       "1.2 m [4'] shark                     27\n",
       "5' shark                             25\n",
       "3' shark                             25\n",
       "4' to 5' shark                       23\n",
       "2 m shark                            22\n",
       "3 m [10'] shark                      22\n",
       "No shark involvement                 21\n",
       "Wobbegong shark                      20\n",
       "3' to 4' shark                       18\n",
       "3 m shark                            16\n",
       "2.4 m [8'] shark                     16\n",
       "3.7 m [12'] shark                    15\n",
       "Mako shark                           14\n",
       "Blue shark                           14\n",
       "12' shark                            14\n",
       "Blacktip shark                       14\n",
       "1.2 m to 1.5 m [4' to 5'] shark      14\n",
       "7' shark                             14\n",
       "5 m [16.5'] white shark              13\n",
       "\"a small shark\"                      13\n",
       "10' shark                            13\n",
       "1.5 m shark                          13\n",
       "Raggedtooth shark                    12\n",
       "6 m [20'] white shark                12\n",
       "Bronze whaler shark                  12\n",
       "Zambesi shark                        12\n",
       "4 m [13'] white shark                12\n",
       "Grey nurse shark                     11\n",
       "Nurse shark                          11\n",
       "2.1 m [7'] shark                      9\n",
       "3 m [10'] white shark                 9\n",
       "1 m shark                             9\n",
       "Name: species, dtype: int64"
      ]
     },
     "execution_count": 36,
     "metadata": {},
     "output_type": "execute_result"
    }
   ],
   "source": [
    "dfNotNull[\"species\"].value_counts().head(40)\n",
    "##Observo que en esta columna hay bastantes datos de longitud por lo que los voy a intentar separar y colocar en una columna de longitud"
   ]
  },
  {
   "cell_type": "markdown",
   "metadata": {},
   "source": [
    "Observo que hay muchos patrones de longitud mezclados con los de especie, \n",
    "por lo que considero que es buena idea sacar esa información de longitud y hacer una columna nueva con ella,\n",
    "para ello he programado una función que aplico a la columna y creo un DF nuevo con esa información"
   ]
  },
  {
   "cell_type": "code",
   "execution_count": 37,
   "metadata": {},
   "outputs": [],
   "source": [
    "from functions import getLength"
   ]
  },
  {
   "cell_type": "code",
   "execution_count": 38,
   "metadata": {},
   "outputs": [],
   "source": [
    "dfCleanLenght = pd.DataFrame(dfNotNull[\"species\"].apply(getLength)).astype(str)"
   ]
  },
  {
   "cell_type": "code",
   "execution_count": 39,
   "metadata": {},
   "outputs": [],
   "source": [
    "#Ahora renombrando la columna ya  tengo un dataframe con datos de longitudes\n",
    "dfCleanLenght.columns = [\"lenght(m-aprox)\"]"
   ]
  },
  {
   "cell_type": "code",
   "execution_count": 40,
   "metadata": {},
   "outputs": [
    {
     "data": {
      "text/plain": [
       "UNKNOWN    4289\n",
       "1.0         347\n",
       "2.0         220\n",
       "3.048       115\n",
       "3.0         101\n",
       "           ... \n",
       "0.838         1\n",
       "5.5           1\n",
       "1.753         1\n",
       "5.182         1\n",
       "2.553         1\n",
       "Name: lenght(m-aprox), Length: 66, dtype: int64"
      ]
     },
     "execution_count": 40,
     "metadata": {},
     "output_type": "execute_result"
    }
   ],
   "source": [
    "dfCleanLenght[\"lenght(m-aprox)\"].value_counts()"
   ]
  },
  {
   "cell_type": "code",
   "execution_count": 41,
   "metadata": {},
   "outputs": [
    {
     "name": "stdout",
     "output_type": "stream",
     "text": [
      "Longitudes recuperadas: 1703\n",
      "Corresponden al 28.421228304405876 % de los registros\n"
     ]
    }
   ],
   "source": [
    "#De lo que se deduce que he recuperado          \n",
    "print(\"Longitudes recuperadas:\",5992-4289)  \n",
    "print(\"Corresponden al\",(((5992-4289)/5992)*100),\"% de los registros\")"
   ]
  },
  {
   "cell_type": "code",
   "execution_count": 42,
   "metadata": {},
   "outputs": [
    {
     "data": {
      "text/html": [
       "<div>\n",
       "<style scoped>\n",
       "    .dataframe tbody tr th:only-of-type {\n",
       "        vertical-align: middle;\n",
       "    }\n",
       "\n",
       "    .dataframe tbody tr th {\n",
       "        vertical-align: top;\n",
       "    }\n",
       "\n",
       "    .dataframe thead th {\n",
       "        text-align: right;\n",
       "    }\n",
       "</style>\n",
       "<table border=\"1\" class=\"dataframe\">\n",
       "  <thead>\n",
       "    <tr style=\"text-align: right;\">\n",
       "      <th></th>\n",
       "      <th>fatal(Y/N/unknow)</th>\n",
       "      <th>type</th>\n",
       "      <th>activity</th>\n",
       "      <th>country</th>\n",
       "      <th>sex</th>\n",
       "      <th>lenght(m-aprox)</th>\n",
       "    </tr>\n",
       "  </thead>\n",
       "  <tbody>\n",
       "    <tr>\n",
       "      <td>0</td>\n",
       "      <td>N</td>\n",
       "      <td>Unprovoked</td>\n",
       "      <td>Surfing</td>\n",
       "      <td>USA</td>\n",
       "      <td>M</td>\n",
       "      <td>UNKNOWN</td>\n",
       "    </tr>\n",
       "    <tr>\n",
       "      <td>1</td>\n",
       "      <td>N</td>\n",
       "      <td>Unprovoked</td>\n",
       "      <td>Surfing</td>\n",
       "      <td>USA</td>\n",
       "      <td>M</td>\n",
       "      <td>UNKNOWN</td>\n",
       "    </tr>\n",
       "    <tr>\n",
       "      <td>2</td>\n",
       "      <td>N</td>\n",
       "      <td>Unprovoked</td>\n",
       "      <td>Surfing</td>\n",
       "      <td>USA</td>\n",
       "      <td>M</td>\n",
       "      <td>UNKNOWN</td>\n",
       "    </tr>\n",
       "    <tr>\n",
       "      <td>3</td>\n",
       "      <td>N</td>\n",
       "      <td>Unprovoked</td>\n",
       "      <td>Surfing</td>\n",
       "      <td>AUSTRALIA</td>\n",
       "      <td>M</td>\n",
       "      <td>UNKNOWN</td>\n",
       "    </tr>\n",
       "    <tr>\n",
       "      <td>4</td>\n",
       "      <td>N</td>\n",
       "      <td>Unprovoked</td>\n",
       "      <td>Surfing</td>\n",
       "      <td>AUSTRALIA</td>\n",
       "      <td>M</td>\n",
       "      <td>UNKNOWN</td>\n",
       "    </tr>\n",
       "    <tr>\n",
       "      <td>...</td>\n",
       "      <td>...</td>\n",
       "      <td>...</td>\n",
       "      <td>...</td>\n",
       "      <td>...</td>\n",
       "      <td>...</td>\n",
       "      <td>...</td>\n",
       "    </tr>\n",
       "    <tr>\n",
       "      <td>5987</td>\n",
       "      <td>Y</td>\n",
       "      <td>Unprovoked</td>\n",
       "      <td>Diving</td>\n",
       "      <td>AUSTRALIA</td>\n",
       "      <td>M</td>\n",
       "      <td>UNKNOWN</td>\n",
       "    </tr>\n",
       "    <tr>\n",
       "      <td>5988</td>\n",
       "      <td>Y</td>\n",
       "      <td>Unprovoked</td>\n",
       "      <td>Pearl diving</td>\n",
       "      <td>AUSTRALIA</td>\n",
       "      <td>M</td>\n",
       "      <td>UNKNOWN</td>\n",
       "    </tr>\n",
       "    <tr>\n",
       "      <td>5989</td>\n",
       "      <td>Y</td>\n",
       "      <td>Unprovoked</td>\n",
       "      <td>Swimming</td>\n",
       "      <td>USA</td>\n",
       "      <td>M</td>\n",
       "      <td>UNKNOWN</td>\n",
       "    </tr>\n",
       "    <tr>\n",
       "      <td>5990</td>\n",
       "      <td>Y</td>\n",
       "      <td>Unprovoked</td>\n",
       "      <td>unknown</td>\n",
       "      <td>PANAMA</td>\n",
       "      <td>M</td>\n",
       "      <td>UNKNOWN</td>\n",
       "    </tr>\n",
       "    <tr>\n",
       "      <td>5991</td>\n",
       "      <td>Y</td>\n",
       "      <td>Unprovoked</td>\n",
       "      <td>Swimming</td>\n",
       "      <td>CEYLON (SRI LANKA)</td>\n",
       "      <td>M</td>\n",
       "      <td>UNKNOWN</td>\n",
       "    </tr>\n",
       "  </tbody>\n",
       "</table>\n",
       "<p>5992 rows × 6 columns</p>\n",
       "</div>"
      ],
      "text/plain": [
       "     fatal(Y/N/unknow)        type      activity             country sex  \\\n",
       "0                    N  Unprovoked       Surfing                 USA   M   \n",
       "1                    N  Unprovoked       Surfing                 USA   M   \n",
       "2                    N  Unprovoked       Surfing                 USA   M   \n",
       "3                    N  Unprovoked       Surfing           AUSTRALIA   M   \n",
       "4                    N  Unprovoked       Surfing           AUSTRALIA   M   \n",
       "...                ...         ...           ...                 ...  ..   \n",
       "5987                 Y  Unprovoked        Diving           AUSTRALIA   M   \n",
       "5988                 Y  Unprovoked  Pearl diving           AUSTRALIA   M   \n",
       "5989                 Y  Unprovoked      Swimming                 USA   M   \n",
       "5990                 Y  Unprovoked       unknown              PANAMA   M   \n",
       "5991                 Y  Unprovoked      Swimming  CEYLON (SRI LANKA)   M   \n",
       "\n",
       "     lenght(m-aprox)  \n",
       "0            UNKNOWN  \n",
       "1            UNKNOWN  \n",
       "2            UNKNOWN  \n",
       "3            UNKNOWN  \n",
       "4            UNKNOWN  \n",
       "...              ...  \n",
       "5987         UNKNOWN  \n",
       "5988         UNKNOWN  \n",
       "5989         UNKNOWN  \n",
       "5990         UNKNOWN  \n",
       "5991         UNKNOWN  \n",
       "\n",
       "[5992 rows x 6 columns]"
      ]
     },
     "execution_count": 42,
     "metadata": {},
     "output_type": "execute_result"
    }
   ],
   "source": [
    "dfClean[\"lenght(m-aprox)\"] = dfCleanLenght\n",
    "dfClean"
   ]
  },
  {
   "cell_type": "markdown",
   "metadata": {},
   "source": [
    "### Limpieza de species"
   ]
  },
  {
   "cell_type": "code",
   "execution_count": 43,
   "metadata": {},
   "outputs": [
    {
     "data": {
      "text/html": [
       "<div>\n",
       "<style scoped>\n",
       "    .dataframe tbody tr th:only-of-type {\n",
       "        vertical-align: middle;\n",
       "    }\n",
       "\n",
       "    .dataframe tbody tr th {\n",
       "        vertical-align: top;\n",
       "    }\n",
       "\n",
       "    .dataframe thead th {\n",
       "        text-align: right;\n",
       "    }\n",
       "</style>\n",
       "<table border=\"1\" class=\"dataframe\">\n",
       "  <thead>\n",
       "    <tr style=\"text-align: right;\">\n",
       "      <th></th>\n",
       "      <th>species</th>\n",
       "    </tr>\n",
       "  </thead>\n",
       "  <tbody>\n",
       "    <tr>\n",
       "      <td>Shark involvement not confirmed</td>\n",
       "      <td>3014</td>\n",
       "    </tr>\n",
       "    <tr>\n",
       "      <td>White shark</td>\n",
       "      <td>161</td>\n",
       "    </tr>\n",
       "    <tr>\n",
       "      <td>Tiger shark</td>\n",
       "      <td>68</td>\n",
       "    </tr>\n",
       "    <tr>\n",
       "      <td>Bull shark</td>\n",
       "      <td>52</td>\n",
       "    </tr>\n",
       "    <tr>\n",
       "      <td>6' shark</td>\n",
       "      <td>40</td>\n",
       "    </tr>\n",
       "    <tr>\n",
       "      <td>...</td>\n",
       "      <td>...</td>\n",
       "    </tr>\n",
       "    <tr>\n",
       "      <td>A 6.5' \"blue-nosed shark\"</td>\n",
       "      <td>1</td>\n",
       "    </tr>\n",
       "    <tr>\n",
       "      <td>1.5 m to 1.8 m [5' to 6'] sandbar shark</td>\n",
       "      <td>1</td>\n",
       "    </tr>\n",
       "    <tr>\n",
       "      <td>Bull shark, 2.5 m</td>\n",
       "      <td>1</td>\n",
       "    </tr>\n",
       "    <tr>\n",
       "      <td>1.2 m [4'] dusky shark</td>\n",
       "      <td>1</td>\n",
       "    </tr>\n",
       "    <tr>\n",
       "      <td>Lemon shark, 4'</td>\n",
       "      <td>1</td>\n",
       "    </tr>\n",
       "  </tbody>\n",
       "</table>\n",
       "<p>1538 rows × 1 columns</p>\n",
       "</div>"
      ],
      "text/plain": [
       "                                         species\n",
       "Shark involvement not confirmed             3014\n",
       "White shark                                  161\n",
       "Tiger shark                                   68\n",
       "Bull shark                                    52\n",
       "6' shark                                      40\n",
       "...                                          ...\n",
       "A 6.5' \"blue-nosed shark\"                      1\n",
       "1.5 m to 1.8 m [5' to 6'] sandbar shark        1\n",
       "Bull shark, 2.5 m                              1\n",
       "1.2 m [4'] dusky shark                         1\n",
       "Lemon shark, 4'                                1\n",
       "\n",
       "[1538 rows x 1 columns]"
      ]
     },
     "execution_count": 43,
     "metadata": {},
     "output_type": "execute_result"
    }
   ],
   "source": [
    "pd.DataFrame(dfNotNull[\"species\"].value_counts())"
   ]
  },
  {
   "cell_type": "markdown",
   "metadata": {},
   "source": [
    "Ok, voy a identificar una lista de especies y para pasarla como parámetro a mi función de limpieza"
   ]
  },
  {
   "cell_type": "code",
   "execution_count": 44,
   "metadata": {},
   "outputs": [],
   "source": [
    "listSpecies =['WHITE','TIGUER','BULL','WOBBEGONG','BLACKSTRIP','MAKO','BLUE','RAGGEDTOOTH','ZAMBESI','BRONZE WHALER','OCEANIC','SPINNER','HAMMERHEAD','BLACKTIP','SALMON','DUSKY','REEF','LEOPARD','LEMON','SEVENGILL','BLACKTIP','DOGFISH','SEVENGILL','THRESHER','GALAPAGOS',\"NURSE\"]\n",
    "from functions import cleanShark\n",
    "dfClean[\"species\"]=dfNotNull[\"species\"].apply(cleanShark,speciesList = listSpecies)\n"
   ]
  },
  {
   "cell_type": "code",
   "execution_count": 45,
   "metadata": {},
   "outputs": [],
   "source": [
    "dfNotNull = dfNotNull.drop(columns = \"species\")"
   ]
  },
  {
   "cell_type": "code",
   "execution_count": 46,
   "metadata": {},
   "outputs": [
    {
     "data": {
      "text/plain": [
       "SHARK INVOLVMENT NOT CONFIRMED    3036\n",
       "UNKNOWN                           1607\n",
       "WHITE SHARK                        600\n",
       "BULL SHARK                         167\n",
       "NURSE SHARK                         92\n",
       "BRONZE WHALER SHARK                 63\n",
       "BLUE SHARK                          56\n",
       "MAKO SHARK                          55\n",
       "REEF SHARK                          50\n",
       "HAMMERHEAD SHARK                    49\n",
       "WOBBEGONG SHARK                     45\n",
       "RAGGEDTOOTH SHARK                   44\n",
       "LEMON SHARK                         32\n",
       "ZAMBESI SHARK                       32\n",
       "SPINNER SHARK                       20\n",
       "DUSKY SHARK                         15\n",
       "GALAPAGOS SHARK                      5\n",
       "THRESHER SHARK                       4\n",
       "LEOPARD SHARK                        3\n",
       "SALMON SHARK                         3\n",
       "DOGFISH SHARK                        3\n",
       "Name: species, dtype: int64"
      ]
     },
     "execution_count": 46,
     "metadata": {},
     "output_type": "execute_result"
    }
   ],
   "source": [
    "dfClean[\"species\"].value_counts()"
   ]
  },
  {
   "cell_type": "markdown",
   "metadata": {},
   "source": [
    "Considero el resultado bastante coherente como para añadirlo al resultado final"
   ]
  },
  {
   "cell_type": "markdown",
   "metadata": {},
   "source": [
    "# Limpieza href (incompleted)"
   ]
  },
  {
   "cell_type": "code",
   "execution_count": 47,
   "metadata": {},
   "outputs": [
    {
     "data": {
      "text/plain": [
       "54"
      ]
     },
     "execution_count": 47,
     "metadata": {},
     "output_type": "execute_result"
    }
   ],
   "source": [
    "#Voy a ver si href y hrefFormula es información duplicada\n",
    "import numpy as np\n",
    "array = (dfNotNull[\"href\"].values == dfNotNull[\"hrefFormula\"].values)\n",
    "array.size - np.sum(array)"
   ]
  },
  {
   "cell_type": "markdown",
   "metadata": {},
   "source": [
    "De lo anterior deduzco que href y hrefFormula es información duplicada pues solo no coinciden en 54 registros"
   ]
  },
  {
   "cell_type": "markdown",
   "metadata": {},
   "source": [
    "Las siguientes celdas de código están comentadas porque la función de chequeo URL es lenta y el resultado lo guardé en un csv que está en gitignore, además captura como válidas los pdf que no existen en el servidor, esto creo que se\n",
    "debe al redireccionamiento, que en vez de devolver 404 como status_code devuelve 200 como si existiera de verdad, es bastante confuso porque en el html al que redirecciona si que pone el código 404 pero el servidor no lo devuelve."
   ]
  },
  {
   "cell_type": "code",
   "execution_count": 48,
   "metadata": {},
   "outputs": [],
   "source": [
    "#Programé una función para comprobar si la url que se le pasa es válida y el archivo exite, si lo es devuelve la Url, si no Unknown\n",
    "\n",
    "#from functions import checkUrlValid\n"
   ]
  },
  {
   "cell_type": "code",
   "execution_count": 49,
   "metadata": {},
   "outputs": [
    {
     "data": {
      "text/plain": [
       "'validHref = dfNotNull[\"href\"].apply(checkUrlValid)\\nvalidHref'"
      ]
     },
     "execution_count": 49,
     "metadata": {},
     "output_type": "execute_result"
    }
   ],
   "source": [
    "#ok ya tengo las válidas de href, ahora solo voy a pasar la función en href formula para los índice unknown por si puedo salvar alguna\n",
    "\"\"\"validHref = dfNotNull[\"href\"].apply(checkUrlValid)\n",
    "validHref\"\"\""
   ]
  },
  {
   "cell_type": "code",
   "execution_count": 50,
   "metadata": {},
   "outputs": [
    {
     "data": {
      "text/plain": [
       "'voy a guardar el df en un csv, porque la función es lenta, creo que la razón es que el servidor\\nsolo deja hacer unas pocas peticiones por unidad de tiempo'"
      ]
     },
     "execution_count": 50,
     "metadata": {},
     "output_type": "execute_result"
    }
   ],
   "source": [
    "\"\"\"voy a guardar el df en un csv, porque la función es lenta, creo que la razón es que el servidor\n",
    "solo deja hacer unas pocas peticiones por unidad de tiempo\"\"\""
   ]
  },
  {
   "cell_type": "code",
   "execution_count": 51,
   "metadata": {},
   "outputs": [
    {
     "data": {
      "text/plain": [
       "'validHref = validHref.astype(str)\\npd.DataFrame(validHref).to_csv(\"./validHrefDf.csv\")'"
      ]
     },
     "execution_count": 51,
     "metadata": {},
     "output_type": "execute_result"
    }
   ],
   "source": [
    "\"\"\"validHref = validHref.astype(str)\n",
    "pd.DataFrame(validHref).to_csv(\"./validHrefDf.csv\")\"\"\""
   ]
  },
  {
   "cell_type": "code",
   "execution_count": 52,
   "metadata": {},
   "outputs": [
    {
     "data": {
      "text/plain": [
       "'validHref = pd.read_csv(\"./outputignore/validHrefDf.csv\")\\nvalidHref'"
      ]
     },
     "execution_count": 52,
     "metadata": {},
     "output_type": "execute_result"
    }
   ],
   "source": [
    "#Compruebo que se guardó, href válidas a 1-09-2019 01:11 AM\n",
    "\"\"\"validHref = pd.read_csv(\"./outputignore/validHrefDf.csv\")\n",
    "validHref\"\"\""
   ]
  },
  {
   "cell_type": "code",
   "execution_count": 53,
   "metadata": {},
   "outputs": [
    {
     "data": {
      "text/plain": [
       "'validHref[\"href\"].value_counts()'"
      ]
     },
     "execution_count": 53,
     "metadata": {},
     "output_type": "execute_result"
    }
   ],
   "source": [
    "#voy a ver las que no sirven\n",
    "\"\"\"validHref[\"href\"].value_counts()\"\"\""
   ]
  },
  {
   "cell_type": "code",
   "execution_count": 54,
   "metadata": {},
   "outputs": [
    {
     "data": {
      "text/plain": [
       "'dfClean[\"href(verified1-09-2019)\"] = validHref[\"href\"]'"
      ]
     },
     "execution_count": 54,
     "metadata": {},
     "output_type": "execute_result"
    }
   ],
   "source": [
    "\"\"\"dfClean[\"href(verified1-09-2019)\"] = validHref[\"href\"]\"\"\""
   ]
  },
  {
   "cell_type": "markdown",
   "metadata": {},
   "source": [
    "# Guardar el dataFrame en el archivo"
   ]
  },
  {
   "cell_type": "code",
   "execution_count": 55,
   "metadata": {},
   "outputs": [
    {
     "data": {
      "text/html": [
       "<div>\n",
       "<style scoped>\n",
       "    .dataframe tbody tr th:only-of-type {\n",
       "        vertical-align: middle;\n",
       "    }\n",
       "\n",
       "    .dataframe tbody tr th {\n",
       "        vertical-align: top;\n",
       "    }\n",
       "\n",
       "    .dataframe thead th {\n",
       "        text-align: right;\n",
       "    }\n",
       "</style>\n",
       "<table border=\"1\" class=\"dataframe\">\n",
       "  <thead>\n",
       "    <tr style=\"text-align: right;\">\n",
       "      <th></th>\n",
       "      <th>fatal(Y/N/unknow)</th>\n",
       "      <th>type</th>\n",
       "      <th>activity</th>\n",
       "      <th>country</th>\n",
       "      <th>sex</th>\n",
       "      <th>lenght(m-aprox)</th>\n",
       "      <th>species</th>\n",
       "    </tr>\n",
       "  </thead>\n",
       "  <tbody>\n",
       "    <tr>\n",
       "      <td>0</td>\n",
       "      <td>N</td>\n",
       "      <td>Unprovoked</td>\n",
       "      <td>Surfing</td>\n",
       "      <td>USA</td>\n",
       "      <td>M</td>\n",
       "      <td>UNKNOWN</td>\n",
       "      <td>SHARK INVOLVMENT NOT CONFIRMED</td>\n",
       "    </tr>\n",
       "    <tr>\n",
       "      <td>1</td>\n",
       "      <td>N</td>\n",
       "      <td>Unprovoked</td>\n",
       "      <td>Surfing</td>\n",
       "      <td>USA</td>\n",
       "      <td>M</td>\n",
       "      <td>UNKNOWN</td>\n",
       "      <td>SHARK INVOLVMENT NOT CONFIRMED</td>\n",
       "    </tr>\n",
       "    <tr>\n",
       "      <td>2</td>\n",
       "      <td>N</td>\n",
       "      <td>Unprovoked</td>\n",
       "      <td>Surfing</td>\n",
       "      <td>USA</td>\n",
       "      <td>M</td>\n",
       "      <td>UNKNOWN</td>\n",
       "      <td>SHARK INVOLVMENT NOT CONFIRMED</td>\n",
       "    </tr>\n",
       "    <tr>\n",
       "      <td>3</td>\n",
       "      <td>N</td>\n",
       "      <td>Unprovoked</td>\n",
       "      <td>Surfing</td>\n",
       "      <td>AUSTRALIA</td>\n",
       "      <td>M</td>\n",
       "      <td>UNKNOWN</td>\n",
       "      <td>SHARK INVOLVMENT NOT CONFIRMED</td>\n",
       "    </tr>\n",
       "    <tr>\n",
       "      <td>4</td>\n",
       "      <td>N</td>\n",
       "      <td>Unprovoked</td>\n",
       "      <td>Surfing</td>\n",
       "      <td>AUSTRALIA</td>\n",
       "      <td>M</td>\n",
       "      <td>UNKNOWN</td>\n",
       "      <td>UNKNOWN</td>\n",
       "    </tr>\n",
       "    <tr>\n",
       "      <td>...</td>\n",
       "      <td>...</td>\n",
       "      <td>...</td>\n",
       "      <td>...</td>\n",
       "      <td>...</td>\n",
       "      <td>...</td>\n",
       "      <td>...</td>\n",
       "      <td>...</td>\n",
       "    </tr>\n",
       "    <tr>\n",
       "      <td>5987</td>\n",
       "      <td>Y</td>\n",
       "      <td>Unprovoked</td>\n",
       "      <td>Diving</td>\n",
       "      <td>AUSTRALIA</td>\n",
       "      <td>M</td>\n",
       "      <td>UNKNOWN</td>\n",
       "      <td>SHARK INVOLVMENT NOT CONFIRMED</td>\n",
       "    </tr>\n",
       "    <tr>\n",
       "      <td>5988</td>\n",
       "      <td>Y</td>\n",
       "      <td>Unprovoked</td>\n",
       "      <td>Pearl diving</td>\n",
       "      <td>AUSTRALIA</td>\n",
       "      <td>M</td>\n",
       "      <td>UNKNOWN</td>\n",
       "      <td>SHARK INVOLVMENT NOT CONFIRMED</td>\n",
       "    </tr>\n",
       "    <tr>\n",
       "      <td>5989</td>\n",
       "      <td>Y</td>\n",
       "      <td>Unprovoked</td>\n",
       "      <td>Swimming</td>\n",
       "      <td>USA</td>\n",
       "      <td>M</td>\n",
       "      <td>UNKNOWN</td>\n",
       "      <td>SHARK INVOLVMENT NOT CONFIRMED</td>\n",
       "    </tr>\n",
       "    <tr>\n",
       "      <td>5990</td>\n",
       "      <td>Y</td>\n",
       "      <td>Unprovoked</td>\n",
       "      <td>unknown</td>\n",
       "      <td>PANAMA</td>\n",
       "      <td>M</td>\n",
       "      <td>UNKNOWN</td>\n",
       "      <td>SHARK INVOLVMENT NOT CONFIRMED</td>\n",
       "    </tr>\n",
       "    <tr>\n",
       "      <td>5991</td>\n",
       "      <td>Y</td>\n",
       "      <td>Unprovoked</td>\n",
       "      <td>Swimming</td>\n",
       "      <td>CEYLON (SRI LANKA)</td>\n",
       "      <td>M</td>\n",
       "      <td>UNKNOWN</td>\n",
       "      <td>SHARK INVOLVMENT NOT CONFIRMED</td>\n",
       "    </tr>\n",
       "  </tbody>\n",
       "</table>\n",
       "<p>5992 rows × 7 columns</p>\n",
       "</div>"
      ],
      "text/plain": [
       "     fatal(Y/N/unknow)        type      activity             country sex  \\\n",
       "0                    N  Unprovoked       Surfing                 USA   M   \n",
       "1                    N  Unprovoked       Surfing                 USA   M   \n",
       "2                    N  Unprovoked       Surfing                 USA   M   \n",
       "3                    N  Unprovoked       Surfing           AUSTRALIA   M   \n",
       "4                    N  Unprovoked       Surfing           AUSTRALIA   M   \n",
       "...                ...         ...           ...                 ...  ..   \n",
       "5987                 Y  Unprovoked        Diving           AUSTRALIA   M   \n",
       "5988                 Y  Unprovoked  Pearl diving           AUSTRALIA   M   \n",
       "5989                 Y  Unprovoked      Swimming                 USA   M   \n",
       "5990                 Y  Unprovoked       unknown              PANAMA   M   \n",
       "5991                 Y  Unprovoked      Swimming  CEYLON (SRI LANKA)   M   \n",
       "\n",
       "     lenght(m-aprox)                         species  \n",
       "0            UNKNOWN  SHARK INVOLVMENT NOT CONFIRMED  \n",
       "1            UNKNOWN  SHARK INVOLVMENT NOT CONFIRMED  \n",
       "2            UNKNOWN  SHARK INVOLVMENT NOT CONFIRMED  \n",
       "3            UNKNOWN  SHARK INVOLVMENT NOT CONFIRMED  \n",
       "4            UNKNOWN                         UNKNOWN  \n",
       "...              ...                             ...  \n",
       "5987         UNKNOWN  SHARK INVOLVMENT NOT CONFIRMED  \n",
       "5988         UNKNOWN  SHARK INVOLVMENT NOT CONFIRMED  \n",
       "5989         UNKNOWN  SHARK INVOLVMENT NOT CONFIRMED  \n",
       "5990         UNKNOWN  SHARK INVOLVMENT NOT CONFIRMED  \n",
       "5991         UNKNOWN  SHARK INVOLVMENT NOT CONFIRMED  \n",
       "\n",
       "[5992 rows x 7 columns]"
      ]
     },
     "metadata": {},
     "output_type": "display_data"
    }
   ],
   "source": [
    "pd.DataFrame(dfClean).to_csv(\"./output/clean.csv\")\n",
    "display(dfClean)"
   ]
  },
  {
   "cell_type": "markdown",
   "metadata": {},
   "source": [
    "Guardo el dataFrame notNull en la carpeta marcada con gitIgnore,así sabré por donde continuar"
   ]
  },
  {
   "cell_type": "code",
   "execution_count": 56,
   "metadata": {},
   "outputs": [],
   "source": [
    "pd.DataFrame(dfNotNull).to_csv(\"./input/dfNotNull.csv\")"
   ]
  },
  {
   "cell_type": "code",
   "execution_count": null,
   "metadata": {},
   "outputs": [],
   "source": []
  }
 ],
 "metadata": {
  "kernelspec": {
   "display_name": "Python 3",
   "language": "python",
   "name": "python3"
  },
  "language_info": {
   "codemirror_mode": {
    "name": "ipython",
    "version": 3
   },
   "file_extension": ".py",
   "mimetype": "text/x-python",
   "name": "python",
   "nbconvert_exporter": "python",
   "pygments_lexer": "ipython3",
   "version": "3.6.8"
  }
 },
 "nbformat": 4,
 "nbformat_minor": 2
}
