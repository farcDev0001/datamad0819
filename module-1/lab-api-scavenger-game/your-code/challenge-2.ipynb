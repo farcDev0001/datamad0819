{
 "cells": [
  {
   "cell_type": "code",
   "execution_count": 1,
   "metadata": {},
   "outputs": [],
   "source": [
    "import requests\n",
    "import os\n",
    "from dotenv import load_dotenv\n",
    "import re\n",
    "import base64\n",
    "load_dotenv(\"./.env\")\n",
    "github_token = os.getenv(\"github_token\")\n",
    "\n",
    "def authRequest(url, params={}):\n",
    "    headers = {\n",
    "       \"Authorization\": \"token {}\".format(github_token)\n",
    "\n",
    "    }\n",
    "    response = requests.get(url,headers=headers, params=params)\n",
    "    print(response.status_code)\n",
    "    \n",
    "    return response.json()"
   ]
  },
  {
   "cell_type": "code",
   "execution_count": 2,
   "metadata": {},
   "outputs": [
    {
     "name": "stdout",
     "output_type": "stream",
     "text": [
      "200\n"
     ]
    }
   ],
   "source": [
    "data = authRequest(\"https://api.github.com/repos/ironhack-datalabs/datamad0819\")"
   ]
  },
  {
   "cell_type": "code",
   "execution_count": 3,
   "metadata": {},
   "outputs": [],
   "source": [
    "listaDataCommits = [ele for ele in data.items() if ele[0].find(\"commit\")!=-1]"
   ]
  },
  {
   "cell_type": "code",
   "execution_count": 4,
   "metadata": {},
   "outputs": [
    {
     "data": {
      "text/plain": [
       "[('commits_url',\n",
       "  'https://api.github.com/repos/ironhack-datalabs/datamad0819/commits{/sha}'),\n",
       " ('git_commits_url',\n",
       "  'https://api.github.com/repos/ironhack-datalabs/datamad0819/git/commits{/sha}')]"
      ]
     },
     "execution_count": 4,
     "metadata": {},
     "output_type": "execute_result"
    }
   ],
   "source": [
    "listaDataCommits"
   ]
  },
  {
   "cell_type": "code",
   "execution_count": 5,
   "metadata": {},
   "outputs": [
    {
     "name": "stdout",
     "output_type": "stream",
     "text": [
      "200\n"
     ]
    }
   ],
   "source": [
    "dataCommits = authRequest(\"https://api.github.com/repos/ironhack-datalabs/datamad0819/commits\")"
   ]
  },
  {
   "cell_type": "code",
   "execution_count": 6,
   "metadata": {},
   "outputs": [],
   "source": [
    "listCommits = [ele[\"commit\"] for ele in dataCommits]"
   ]
  },
  {
   "cell_type": "code",
   "execution_count": 7,
   "metadata": {},
   "outputs": [],
   "source": [
    "listCommiters = [ele[\"committer\"] for ele in listCommits]"
   ]
  },
  {
   "cell_type": "code",
   "execution_count": 8,
   "metadata": {},
   "outputs": [],
   "source": [
    "def filtroFecha(dictio):\n",
    "    lista = [\"09-01\",\"09-02\",\"09-03\",\"09-04\",\"08-31\",\"08-30\",\"08-29\"]\n",
    "    retorno = False\n",
    "    for ele in lista:\n",
    "        if dictio[\"date\"].find(ele) != -1:\n",
    "            retorno = True\n",
    "    return retorno"
   ]
  },
  {
   "cell_type": "code",
   "execution_count": 9,
   "metadata": {},
   "outputs": [
    {
     "name": "stdout",
     "output_type": "stream",
     "text": [
      "['2019-08-21T08:43:15Z', '2019-08-07T15:56:23Z', '2019-08-07T15:41:23Z', '2019-08-07T15:41:02Z', '2019-07-03T07:37:34Z', '2019-07-01T13:53:01Z', '2019-07-01T13:52:37Z', '2019-07-01T13:51:15Z', '2019-07-01T13:50:51Z', '2019-07-01T13:50:26Z', '2019-07-01T13:49:32Z', '2019-06-21T20:09:01Z', '2019-06-21T20:02:07Z', '2019-06-18T16:03:30Z', '2019-06-17T19:26:15Z', '2019-06-13T14:37:07Z', '2019-06-13T14:36:37Z', '2019-06-10T15:46:08Z', '2019-06-10T15:40:17Z', '2019-06-07T21:13:08Z', '2019-06-07T17:09:26Z', '2019-06-07T17:08:40Z', '2019-06-06T04:23:06Z', '2019-06-05T21:39:56Z', '2019-06-05T20:41:07Z', '2019-06-05T20:37:06Z', '2019-06-05T20:36:04Z', '2019-06-01T03:46:49Z', '2019-05-30T19:58:21Z', '2019-05-29T18:48:28Z']\n"
     ]
    }
   ],
   "source": [
    "print([ele[\"date\"] for ele in listCommiters])"
   ]
  },
  {
   "cell_type": "code",
   "execution_count": 10,
   "metadata": {},
   "outputs": [],
   "source": [
    "dataCommitsWeek = list(filter(filtroFecha,listCommiters))"
   ]
  },
  {
   "cell_type": "code",
   "execution_count": 11,
   "metadata": {},
   "outputs": [
    {
     "name": "stdout",
     "output_type": "stream",
     "text": [
      "0\n"
     ]
    }
   ],
   "source": [
    "print(len(dataCommitsWeek))"
   ]
  },
  {
   "cell_type": "markdown",
   "metadata": {},
   "source": [
    "### El resultado es correcto, no hay commits en los últimos 7 días, entiendo en el enunciado que los dos primeros challenge se hace sobre el repo principal"
   ]
  },
  {
   "cell_type": "code",
   "execution_count": null,
   "metadata": {},
   "outputs": [],
   "source": []
  }
 ],
 "metadata": {
  "kernelspec": {
   "display_name": "Python 3",
   "language": "python",
   "name": "python3"
  },
  "language_info": {
   "codemirror_mode": {
    "name": "ipython",
    "version": 3
   },
   "file_extension": ".py",
   "mimetype": "text/x-python",
   "name": "python",
   "nbconvert_exporter": "python",
   "pygments_lexer": "ipython3",
   "version": "3.6.8"
  }
 },
 "nbformat": 4,
 "nbformat_minor": 2
}
